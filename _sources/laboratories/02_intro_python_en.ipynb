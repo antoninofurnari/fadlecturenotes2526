{
  "cells": [
    {
      "cell_type": "markdown",
      "metadata": {},
      "source": [
        "# Python for Data Science Crash Course\n",
        "\n",
        "**Note for those who are already familiar with Python:** Feel free to skim through the content and zoom into only those parts which you find new and interesting.\n",
        "\n",
        "Python is a high-level, interpreted programming language designed for \"general purpose\" programming. Python supports a dynamic type system and various programming paradigms, including object-oriented programming, imperative programming, functional programming, and procedural programming. The language was created in 1991 by Guido van Rossum and its name is inspired by the satirical TV series Monty Python's Flying Circus (https://en.wikipedia.org/wiki/Monty_Python%27s_Flying_Circus).\n",
        "\n",
        "Although Python was not originally conceived as a programming language for scientific computing, its extreme versatility has contributed to the emergence of a series of libraries that make numerical computation in Python convenient and efficient. A good portion of these libraries are part of \"SciPy\" (https://www.scipy.org/), an open-source software ecosystem for scientific computing. In this laboratory, in addition to an introduction to Python, we will specifically cover the fundamentals of NumPy (scientific computing) and Matplotlib (2D Plotting).\n",
        "\n",
        "Important references to consult during the course, only the following documentation:\n",
        " * Python 3: https://docs.python.org/3/index.html;\n",
        " * Numpy: http://www.numpy.org/;\n",
        " * Matplotlib: https://matplotlib.org/."
      ]
    },
    {
      "cell_type": "markdown",
      "metadata": {},
      "source": [
        "## Numbers\n",
        "The numeric data types in Python are int, float, and complex. We will focus on int and float. Some examples of operations between numbers:"
      ]
    },
    {
      "cell_type": "code",
      "execution_count": 1,
      "metadata": {},
      "outputs": [
        {
          "data": {
            "text/plain": [
              "8"
            ]
          },
          "execution_count": 1,
          "metadata": {},
          "output_type": "execute_result"
        }
      ],
      "source": [
        "3 + 5 #sum"
      ]
    },
    {
      "cell_type": "code",
      "execution_count": 2,
      "metadata": {},
      "outputs": [
        {
          "data": {
            "text/plain": [
              "-6"
            ]
          },
          "execution_count": 2,
          "metadata": {},
          "output_type": "execute_result"
        }
      ],
      "source": [
        "2 - 8 #difference"
      ]
    },
    {
      "cell_type": "code",
      "execution_count": 3,
      "metadata": {},
      "outputs": [
        {
          "data": {
            "text/plain": [
              "15"
            ]
          },
          "execution_count": 3,
          "metadata": {},
          "output_type": "execute_result"
        }
      ],
      "source": [
        "3 * 5 #product"
      ]
    },
    {
      "cell_type": "code",
      "execution_count": 4,
      "metadata": {},
      "outputs": [
        {
          "data": {
            "text/plain": [
              "1.5"
            ]
          },
          "execution_count": 4,
          "metadata": {},
          "output_type": "execute_result"
        }
      ],
      "source": [
        "3 / 2 #division, note that in Python 3, integer division returns a float"
      ]
    },
    {
      "cell_type": "code",
      "execution_count": 5,
      "metadata": {},
      "outputs": [
        {
          "data": {
            "text/plain": [
              "1"
            ]
          },
          "execution_count": 5,
          "metadata": {},
          "output_type": "execute_result"
        }
      ],
      "source": [
        "3 // 2 #integer division"
      ]
    },
    {
      "cell_type": "code",
      "execution_count": 6,
      "metadata": {},
      "outputs": [
        {
          "data": {
            "text/plain": [
              "81"
            ]
          },
          "execution_count": 6,
          "metadata": {},
          "output_type": "execute_result"
        }
      ],
      "source": [
        "9 ** 2 #exponentiation"
      ]
    },
    {
      "cell_type": "code",
      "execution_count": 7,
      "metadata": {},
      "outputs": [
        {
          "data": {
            "text/plain": [
              "0"
            ]
          },
          "execution_count": 7,
          "metadata": {},
          "output_type": "execute_result"
        }
      ],
      "source": [
        "4 % 2 #modulus"
      ]
    },
    {
      "cell_type": "code",
      "execution_count": 8,
      "metadata": {},
      "outputs": [
        {
          "data": {
            "text/plain": [
              "5"
            ]
          },
          "execution_count": 8,
          "metadata": {},
          "output_type": "execute_result"
        }
      ],
      "source": [
        "(1 + 4) * (3 - 2) # Use of parentheses"
      ]
    },
    {
      "cell_type": "markdown",
      "metadata": {},
      "source": [
        "## Variables and Types\n",
        "In general, numbers without a decimal point are interpreted as int, while those with a decimal point as float. Since Python is dynamically typed, we do not need to explicitly declare the type of a variable. The type will be associated with the variable as soon as we assign a value to it. We can check the type of a variable using the `type` function:"
      ]
    },
    {
      "cell_type": "code",
      "execution_count": 9,
      "metadata": {},
      "outputs": [
        {
          "data": {
            "text/plain": [
              "(int, int, float, float, int)"
            ]
          },
          "execution_count": 9,
          "metadata": {},
          "output_type": "execute_result"
        }
      ],
      "source": [
        "x = 3\n",
        "y = 9\n",
        "z = 1.5\n",
        "h = x/y\n",
        "l = x//y\n",
        "type(x), type(y), type(z), type(h), type(l)"
      ]
    },
    {
      "cell_type": "markdown",
      "metadata": {},
      "source": [
        "It is possible to cast from one type to another using the `int` and `float` functions:"
      ]
    },
    {
      "cell_type": "code",
      "execution_count": 10,
      "metadata": {},
      "outputs": [
        {
          "data": {
            "text/plain": [
              "2"
            ]
          },
          "execution_count": 10,
          "metadata": {},
          "output_type": "execute_result"
        }
      ],
      "source": [
        "int(2.5)"
      ]
    },
    {
      "cell_type": "code",
      "execution_count": 11,
      "metadata": {},
      "outputs": [
        {
          "data": {
            "text/plain": [
              "3.0"
            ]
          },
          "execution_count": 11,
          "metadata": {},
          "output_type": "execute_result"
        }
      ],
      "source": [
        "float(3)"
      ]
    },
    {
      "cell_type": "markdown",
      "metadata": {},
      "source": [
        "As in C, the \"in place\" operations between variables are defined:"
      ]
    },
    {
      "cell_type": "code",
      "execution_count": 12,
      "metadata": {},
      "outputs": [
        {
          "data": {
            "text/plain": [
              "20"
            ]
          },
          "execution_count": 12,
          "metadata": {},
          "output_type": "execute_result"
        }
      ],
      "source": [
        "x = 8\n",
        "y = 12\n",
        "x+=y #equivalent to x=x+y\n",
        "x"
      ]
    },
    {
      "cell_type": "markdown",
      "metadata": {},
      "source": [
        "The notations \"++\" and \"--\" are not defined.\n",
        "\n",
        "```python\n",
        "a++ #error!\n",
        "```"
      ]
    },
    {
      "cell_type": "markdown",
      "metadata": {},
      "source": [
        "To increment by one unit, the `+=1` notation must be used:"
      ]
    },
    {
      "cell_type": "code",
      "execution_count": 13,
      "metadata": {},
      "outputs": [
        {
          "data": {
            "text/plain": [
              "2"
            ]
          },
          "execution_count": 13,
          "metadata": {},
          "output_type": "execute_result"
        }
      ],
      "source": [
        "a=1\n",
        "a+=1\n",
        "a"
      ]
    },
    {
      "cell_type": "markdown",
      "metadata": {},
      "source": [
        "> **Question 1**\n",
        ">\n",
        "> What is the type of the following variable?\n",
        "> ```python\n",
        "> x = (3//2*2)**2+(3*0.0)\n",
        "> ```"
      ]
    },
    {
      "cell_type": "markdown",
      "metadata": {},
      "source": [
        "## Booleans\n",
        "Booleans are represented by the keywords `True` and `False` (both start with a capital letter)."
      ]
    },
    {
      "cell_type": "code",
      "execution_count": 16,
      "metadata": {},
      "outputs": [
        {
          "name": "stdout",
          "output_type": "stream",
          "text": [
            "True\n",
            "False\n"
          ]
        }
      ],
      "source": [
        "print(True)\n",
        "print(False)"
      ]
    },
    {
      "cell_type": "code",
      "execution_count": 17,
      "metadata": {},
      "outputs": [
        {
          "data": {
            "text/plain": [
              "bool"
            ]
          },
          "execution_count": 17,
          "metadata": {},
          "output_type": "execute_result"
        }
      ],
      "source": [
        "type(True)"
      ]
    },
    {
      "cell_type": "markdown",
      "metadata": {},
      "source": [
        "It is possible to generate booleans using comparison operators:"
      ]
    },
    {
      "cell_type": "code",
      "execution_count": 18,
      "metadata": {},
      "outputs": [
        {
          "data": {
            "text/plain": [
              "True"
            ]
          },
          "execution_count": 18,
          "metadata": {},
          "output_type": "execute_result"
        }
      ],
      "source": [
        "5==5"
      ]
    },
    {
      "cell_type": "code",
      "execution_count": 19,
      "metadata": {},
      "outputs": [
        {
          "data": {
            "text/plain": [
              "False"
            ]
          },
          "execution_count": 19,
          "metadata": {},
          "output_type": "execute_result"
        }
      ],
      "source": [
        "7==5"
      ]
    },
    {
      "cell_type": "code",
      "execution_count": 20,
      "metadata": {},
      "outputs": [
        {
          "data": {
            "text/plain": [
              "True"
            ]
          },
          "execution_count": 20,
          "metadata": {},
          "output_type": "execute_result"
        }
      ],
      "source": [
        "5>4"
      ]
    },
    {
      "cell_type": "code",
      "execution_count": 21,
      "metadata": {},
      "outputs": [
        {
          "data": {
            "text/plain": [
              "False"
            ]
          },
          "execution_count": 21,
          "metadata": {},
          "output_type": "execute_result"
        }
      ],
      "source": [
        "9>10"
      ]
    },
    {
      "cell_type": "code",
      "execution_count": 22,
      "metadata": {},
      "outputs": [
        {
          "data": {
            "text/plain": [
              "True"
            ]
          },
          "execution_count": 22,
          "metadata": {},
          "output_type": "execute_result"
        }
      ],
      "source": [
        "9<=10"
      ]
    },
    {
      "cell_type": "code",
      "execution_count": 23,
      "metadata": {},
      "outputs": [
        {
          "data": {
            "text/plain": [
              "False"
            ]
          },
          "execution_count": 23,
          "metadata": {},
          "output_type": "execute_result"
        }
      ],
      "source": [
        "11<=10"
      ]
    },
    {
      "cell_type": "markdown",
      "metadata": {},
      "source": [
        "The logical operators are `and` and `or`:`"
      ]
    },
    {
      "cell_type": "code",
      "execution_count": 24,
      "metadata": {},
      "outputs": [
        {
          "name": "stdout",
          "output_type": "stream",
          "text": [
            "True\n",
            "True\n",
            "False\n"
          ]
        }
      ],
      "source": [
        "print(5==5 and 3<5)\n",
        "print(3>5 or 3<5)\n",
        "print(3>9 or 3<2)"
      ]
    },
    {
      "cell_type": "markdown",
      "metadata": {},
      "source": [
        "It is possible to perform a check on types using `type` and `==`:"
      ]
    },
    {
      "cell_type": "code",
      "execution_count": 25,
      "metadata": {},
      "outputs": [
        {
          "data": {
            "text/plain": [
              "True"
            ]
          },
          "execution_count": 25,
          "metadata": {},
          "output_type": "execute_result"
        }
      ],
      "source": [
        "type(2.5)==float"
      ]
    },
    {
      "cell_type": "code",
      "execution_count": 26,
      "metadata": {},
      "outputs": [
        {
          "data": {
            "text/plain": [
              "False"
            ]
          },
          "execution_count": 26,
          "metadata": {},
          "output_type": "execute_result"
        }
      ],
      "source": [
        "type(2)==float"
      ]
    },
    {
      "cell_type": "markdown",
      "metadata": {},
      "source": [
        "Alternatively, it is possible to use the `isinstance` function:"
      ]
    },
    {
      "cell_type": "code",
      "execution_count": 27,
      "metadata": {},
      "outputs": [
        {
          "data": {
            "text/plain": [
              "True"
            ]
          },
          "execution_count": 27,
          "metadata": {},
          "output_type": "execute_result"
        }
      ],
      "source": [
        "isinstance(2.5,float)"
      ]
    },
    {
      "cell_type": "code",
      "execution_count": 28,
      "metadata": {},
      "outputs": [
        {
          "data": {
            "text/plain": [
              "False"
            ]
          },
          "execution_count": 28,
          "metadata": {},
          "output_type": "execute_result"
        }
      ],
      "source": [
        "isinstance(2.5,int)"
      ]
    },
    {
      "cell_type": "markdown",
      "metadata": {},
      "source": [
        "The `isinstance` function is particularly convenient when you want to check that a variable belongs to one of a set of types. For example, if we want to check that a variable contains a number:"
      ]
    },
    {
      "cell_type": "code",
      "execution_count": 29,
      "metadata": {},
      "outputs": [
        {
          "data": {
            "text/plain": [
              "True"
            ]
          },
          "execution_count": 29,
          "metadata": {},
          "output_type": "execute_result"
        }
      ],
      "source": [
        "isinstance(2.5,(float,int))"
      ]
    },
    {
      "cell_type": "code",
      "execution_count": 30,
      "metadata": {},
      "outputs": [
        {
          "data": {
            "text/plain": [
              "True"
            ]
          },
          "execution_count": 30,
          "metadata": {},
          "output_type": "execute_result"
        }
      ],
      "source": [
        "isinstance(5,(float,int))"
      ]
    },
    {
      "cell_type": "markdown",
      "metadata": {},
      "source": [
        "## Print\n",
        "\n",
        "Printing is done using the `print` function:"
      ]
    },
    {
      "cell_type": "code",
      "execution_count": 31,
      "metadata": {},
      "outputs": [
        {
          "name": "stdout",
          "output_type": "stream",
          "text": [
            "2.2\n"
          ]
        }
      ],
      "source": [
        "var = 2.2\n",
        "print(var)"
      ]
    },
    {
      "cell_type": "markdown",
      "metadata": {},
      "source": [
        "We can print an empty line by omitting the print parameter:"
      ]
    },
    {
      "cell_type": "code",
      "execution_count": 32,
      "metadata": {},
      "outputs": [
        {
          "name": "stdout",
          "output_type": "stream",
          "text": [
            "2\n",
            "\n",
            "3\n"
          ]
        }
      ],
      "source": [
        "print(2)\n",
        "print()\n",
        "print(3)"
      ]
    },
    {
      "cell_type": "markdown",
      "metadata": {},
      "source": [
        "Alternatively, we can specify to insert two \"newlines\" at the end of the printout by specifying the parameter `end=\"\\n\\n\"` (\"\\n\\n\" is a string - we will delve into strings later):"
      ]
    },
    {
      "cell_type": "code",
      "execution_count": 33,
      "metadata": {},
      "outputs": [
        {
          "name": "stdout",
          "output_type": "stream",
          "text": [
            "2\n",
            "\n",
            "3\n"
          ]
        }
      ],
      "source": [
        "print(2, end=\"\\n\\n\")\n",
        "print(3)"
      ]
    },
    {
      "cell_type": "markdown",
      "metadata": {},
      "source": [
        "The same method can be used to omit the insertion of spaces between two consecutive prints:"
      ]
    },
    {
      "cell_type": "code",
      "execution_count": 34,
      "metadata": {},
      "outputs": [
        {
          "name": "stdout",
          "output_type": "stream",
          "text": [
            "23\n"
          ]
        }
      ],
      "source": [
        "print(2, end=\"\") #\"\" represents an empty string\n",
        "print(3)"
      ]
    },
    {
      "cell_type": "markdown",
      "metadata": {},
      "source": [
        "We can print multiple elements consecutively by separating the `print` arguments with commas. Furthermore, the `print` function allows printing numbers as well as strings:"
      ]
    },
    {
      "cell_type": "code",
      "execution_count": 35,
      "metadata": {},
      "outputs": [
        {
          "name": "stdout",
          "output_type": "stream",
          "text": [
            "1 4.0 7 2 True\n"
          ]
        }
      ],
      "source": [
        "print(1,8/2,7,14%6,True)"
      ]
    },
    {
      "cell_type": "markdown",
      "metadata": {},
      "source": [
        "## Lists\n",
        "\n",
        "Lists are a sequential data structure that can be used to represent sequences of values of any type. Lists can also contain elements of mixed types. A list is defined using square brackets:"
      ]
    },
    {
      "cell_type": "code",
      "execution_count": 36,
      "metadata": {},
      "outputs": [
        {
          "name": "stdout",
          "output_type": "stream",
          "text": [
            "[1, 2, 3, 4, 5]\n"
          ]
        }
      ],
      "source": [
        "l = [1,2,3,4,5] #this is a list (square brackets)\n",
        "print(l)"
      ]
    },
    {
      "cell_type": "markdown",
      "metadata": {},
      "source": [
        "Lists can be indexed using square brackets. Indexing starts from 0 as in C:"
      ]
    },
    {
      "cell_type": "code",
      "execution_count": 37,
      "metadata": {},
      "outputs": [
        {
          "name": "stdout",
          "output_type": "stream",
          "text": [
            "1 3\n",
            "[8, 2, 3, 4, 5]\n"
          ]
        }
      ],
      "source": [
        "print(l[0],l[2])\n",
        "l[0]=8 #assignment of a new value to the first memory location\n",
        "print(l)"
      ]
    },
    {
      "cell_type": "markdown",
      "metadata": {},
      "source": [
        "It is possible to add new values to a list using the `append` function:"
      ]
    },
    {
      "cell_type": "code",
      "execution_count": 38,
      "metadata": {},
      "outputs": [
        {
          "name": "stdout",
          "output_type": "stream",
          "text": [
            "[]\n",
            "[1, 2.5, 8, -12]\n"
          ]
        }
      ],
      "source": [
        "l = []\n",
        "print(l)\n",
        "l.append(1)\n",
        "l.append(2.5)\n",
        "l.append(8)\n",
        "l.append(-12)\n",
        "print(l)"
      ]
    },
    {
      "cell_type": "markdown",
      "metadata": {},
      "source": [
        "Lists can be concatenated using the sum operator:"
      ]
    },
    {
      "cell_type": "code",
      "execution_count": 39,
      "metadata": {},
      "outputs": [
        {
          "name": "stdout",
          "output_type": "stream",
          "text": [
            "[1, 5, 4, 6]\n"
          ]
        }
      ],
      "source": [
        "l1 = [1,5]\n",
        "l2 = [4,6]\n",
        "print(l1+l2)"
      ]
    },
    {
      "cell_type": "markdown",
      "metadata": {},
      "source": [
        "The multiplication operator can be used to repeat a list. For example:"
      ]
    },
    {
      "cell_type": "code",
      "execution_count": 40,
      "metadata": {},
      "outputs": [
        {
          "name": "stdout",
          "output_type": "stream",
          "text": [
            "[1, 3, 1, 3]\n"
          ]
        }
      ],
      "source": [
        "l1 = [1,3]\n",
        "print(l1*2) # Concatenates l1 to itself twice"
      ]
    },
    {
      "cell_type": "markdown",
      "metadata": {},
      "source": [
        "Using the multiplication operator, it is possible to quickly create lists with an arbitrary number of equal values. For example:"
      ]
    },
    {
      "cell_type": "code",
      "execution_count": 41,
      "metadata": {},
      "outputs": [
        {
          "name": "stdout",
          "output_type": "stream",
          "text": [
            "[0, 0, 0, 0, 0]\n",
            "[0, 0, 0, 0, 1]\n"
          ]
        }
      ],
      "source": [
        "print([0]*5) #list of 5 zeros\n",
        "print([0]*4+[1]*1) #4 zeros followed by 1 one"
      ]
    },
    {
      "cell_type": "markdown",
      "metadata": {},
      "source": [
        "The length of a list can be obtained using the `len` function:"
      ]
    },
    {
      "cell_type": "code",
      "execution_count": 42,
      "metadata": {},
      "outputs": [
        {
          "name": "stdout",
          "output_type": "stream",
          "text": [
            "[4, 6]\n",
            "2\n"
          ]
        }
      ],
      "source": [
        "print(l2)\n",
        "print(len(l2))"
      ]
    },
    {
      "cell_type": "markdown",
      "metadata": {},
      "source": [
        "For lists, an ordering is defined that depends on their length: shorter lists are \"less than\" longer lists:"
      ]
    },
    {
      "cell_type": "code",
      "execution_count": 43,
      "metadata": {},
      "outputs": [
        {
          "name": "stdout",
          "output_type": "stream",
          "text": [
            "True\n",
            "True\n"
          ]
        }
      ],
      "source": [
        "print([1,2,3]<[1,2,3,4])\n",
        "print([1,2,3,5]>=[1,2,3,4])"
      ]
    },
    {
      "cell_type": "markdown",
      "metadata": {},
      "source": [
        "The `==` operator does not check if the lengths are equal, but verifies that the content of the two lists is effectively equal:"
      ]
    },
    {
      "cell_type": "code",
      "execution_count": 44,
      "metadata": {},
      "outputs": [
        {
          "name": "stdout",
          "output_type": "stream",
          "text": [
            "True\n",
            "False\n"
          ]
        }
      ],
      "source": [
        "print([1,2,3]==[1,2,3])\n",
        "print([1,2,3]==[1,3,2])"
      ]
    },
    {
      "cell_type": "markdown",
      "metadata": {},
      "source": [
        "It is possible to check that an element belongs to the list using the keyword `in`:"
      ]
    },
    {
      "cell_type": "code",
      "execution_count": 45,
      "metadata": {},
      "outputs": [
        {
          "name": "stdout",
          "output_type": "stream",
          "text": [
            "False\n",
            "True\n"
          ]
        }
      ],
      "source": [
        "print(7 in [1,3,4])\n",
        "print(3 in [1,3,4])"
      ]
    },
    {
      "cell_type": "markdown",
      "metadata": {},
      "source": [
        "The functions `max` and `min` can be used to calculate the maximum and minimum of a list:"
      ]
    },
    {
      "cell_type": "code",
      "execution_count": 46,
      "metadata": {},
      "outputs": [
        {
          "name": "stdout",
          "output_type": "stream",
          "text": [
            "10\n",
            "-5\n"
          ]
        }
      ],
      "source": [
        "l=[-5,2,10,6]\n",
        "print(max(l))\n",
        "print(min(l))"
      ]
    },
    {
      "cell_type": "markdown",
      "metadata": {},
      "source": [
        "It is possible to remove a value from a list using the `remove` method:"
      ]
    },
    {
      "cell_type": "code",
      "execution_count": 47,
      "metadata": {},
      "outputs": [
        {
          "name": "stdout",
          "output_type": "stream",
          "text": [
            "[1, 2, 3, 4, 2]\n",
            "[1, 3, 4, 2]\n"
          ]
        }
      ],
      "source": [
        "l=[1,2,3,4,2]\n",
        "print(l)\n",
        "l.remove(2)\n",
        "print(l)"
      ]
    },
    {
      "cell_type": "markdown",
      "metadata": {},
      "source": [
        "However, this method only removes **the first occurrence** of the passed value. If we want to remove a value identified by a specific index, we can use the `del` construct:"
      ]
    },
    {
      "cell_type": "code",
      "execution_count": 48,
      "metadata": {},
      "outputs": [
        {
          "name": "stdout",
          "output_type": "stream",
          "text": [
            "[1, 2, 3, 4, 2]\n",
            "[1, 2, 3, 4]\n"
          ]
        }
      ],
      "source": [
        "l=[1,2,3,4,2]\n",
        "print(l)\n",
        "del l[4]\n",
        "print(l)"
      ]
    },
    {
      "cell_type": "markdown",
      "metadata": {},
      "source": [
        "Additionally, to access the last element and remove the last element, we can use the `pop` method:"
      ]
    },
    {
      "cell_type": "code",
      "execution_count": 49,
      "metadata": {},
      "outputs": [
        {
          "name": "stdout",
          "output_type": "stream",
          "text": [
            "[1, 2, 3, 4, 5]\n",
            "5\n",
            "[1, 2, 3, 4]\n"
          ]
        }
      ],
      "source": [
        "l=[1,2,3,4,5]\n",
        "print(l)\n",
        "print(l.pop())\n",
        "print(l)"
      ]
    },
    {
      "cell_type": "markdown",
      "metadata": {},
      "source": [
        "### Indexing and Slicing\n",
        "It is possible to extract a sublist from a list by specifying the first index (inclusive) and the last index (exclusive) separated by the `:` symbol. This notation is somewhat reminiscent of C++ string's `substr` method."
      ]
    },
    {
      "cell_type": "code",
      "execution_count": 50,
      "metadata": {},
      "outputs": [
        {
          "name": "stdout",
          "output_type": "stream",
          "text": [
            "Lista l     -> [1, 2, 3, 4, 5, 6, 7, 8]\n",
            "l[0:3]      -> [1, 2, 3]\n",
            "l[1:2]      -> [2]\n"
          ]
        }
      ],
      "source": [
        "l = [1,2,3,4,5,6,7,8]\n",
        "print(\"List l     ->\", l)\n",
        "print(\"l[0:3]      ->\", l[0:3]) #from index 0 (inclusive) to index 3 (exclusive)\n",
        "print(\"l[1:2]      ->\", l[1:2]) #from index 1 (inclusive) to index 2 (exclusive)"
      ]
    },
    {
      "cell_type": "markdown",
      "metadata": {},
      "source": [
        "When the first index is omitted, it is automatically replaced with \"0\":"
      ]
    },
    {
      "cell_type": "code",
      "execution_count": 51,
      "metadata": {},
      "outputs": [
        {
          "name": "stdout",
          "output_type": "stream",
          "text": [
            "l[:2]       -> [1, 2]\n",
            "l[0:2]      -> [1, 2]\n"
          ]
        }
      ],
      "source": [
        "print(\"l[:2]       ->\", l[:2]) # from index 0 (inclusive) to index 2 (exclusive)\n",
        "# equivalent to the following:\n",
        "print(\"l[0:2]      ->\", l[0:2]) # from index 0 (inclusive) to index 2 (exclusive)"
      ]
    },
    {
      "cell_type": "markdown",
      "metadata": {},
      "source": [
        "Similarly, if we omit the second index, it is replaced with the last index of the list:"
      ]
    },
    {
      "cell_type": "code",
      "execution_count": null,
      "metadata": {},
      "outputs": [
        {
          "name": "stdout",
          "output_type": "stream",
          "text": [
            "Ultimo indice della lista: 8\n",
            "l[3:]       -> [4, 5, 6, 7, 8]\n",
            "l[3:5]      -> [4, 5, 6, 7, 8]\n"
          ]
        }
      ],
      "source": [
        "print(\"Last index of the list:\",len(l))\n",
        "print(\"l[3:]       ->\", l[3:]) #from index 3 (inclusive) to index 5 (exclusive)\n",
        "#equivalent to the following:\n",
        "print(\"l[3:8]      ->\", l[3:8]) #from index 3 (inclusive) to index 5 (exclusive)"
      ]
    },
    {
      "cell_type": "markdown",
      "metadata": {},
      "source": [
        "Omitting both indices:"
      ]
    },
    {
      "cell_type": "code",
      "execution_count": 53,
      "metadata": {},
      "outputs": [
        {
          "name": "stdout",
          "output_type": "stream",
          "text": [
            "l[:]         -> [1, 2, 3, 4, 5, 6, 7, 8]\n",
            "l[0:8]       -> [1, 2, 3, 4, 5, 6, 7, 8]\n"
          ]
        }
      ],
      "source": [
        "print(\"l[:]         ->\", l[:]) #from index 0 (inclusive) to index 5 (exclusive)\n",
        "#equivalent to:\n",
        "print(\"l[0:8]       ->\", l[0:8]) #from index 0 (inclusive) to index 5 (exclusive)"
      ]
    },
    {
      "cell_type": "markdown",
      "metadata": {},
      "source": [
        "It is also possible to specify the \"step\", as a third number separated by another symbol `:`:"
      ]
    },
    {
      "cell_type": "code",
      "execution_count": null,
      "metadata": {},
      "outputs": [
        {
          "name": "stdout",
          "output_type": "stream",
          "text": [
            "l[0:8:2]    -> [1, 3, 5, 7]\n",
            "l[::2]      -> [1, 3, 5, 7]\n"
          ]
        }
      ],
      "source": [
        "print(\"l[0:8:2]    ->\", l[0:8:2])\n",
        "# from 0 (inclusive) to 8 (exclusive) with a step of 2 (every other element)\n",
        "# equivalent to:\n",
        "print(\"l[::2]      ->\", l[::2])\n",
        "# from 0 (inclusive) to 8 (exclusive) with a step of 2 (every other element)"
      ]
    },
    {
      "cell_type": "markdown",
      "metadata": {},
      "source": [
        "To reverse the order of elements, it is also possible to specify a negative step. In this case, you must ensure that the first index is greater than the second:"
      ]
    },
    {
      "cell_type": "code",
      "execution_count": 55,
      "metadata": {},
      "outputs": [
        {
          "name": "stdout",
          "output_type": "stream",
          "text": [
            "l[5:2:-1]    -> [6, 5, 4]\n",
            "l[2:5:-1]    -> []\n"
          ]
        }
      ],
      "source": [
        "print(\"l[5:2:-1]    ->\", l[5:2:-1])\n",
        "# from 5 (inclusive) to 2 (exclusive) with a step of -1\n",
        "print(\"l[2:5:-1]    ->\", l[2:5:-1])\n",
        "# in this case, the first index is smaller than the second,\n",
        "# so the result will be an empty list"
      ]
    },
    {
      "cell_type": "markdown",
      "metadata": {},
      "source": [
        "In this case too, by omitting indices, these will be replaced with the most obvious choices. In the case of omission, however, the conditions for inclusion and exclusion of indices change. Let's see some examples:"
      ]
    },
    {
      "cell_type": "code",
      "execution_count": 56,
      "metadata": {},
      "outputs": [
        {
          "name": "stdout",
          "output_type": "stream",
          "text": [
            "l[:2:-1]     -> [8, 7, 6, 5, 4]\n",
            "l[8:2:-1]    -> [8, 7, 6, 5, 4]\n",
            "\n",
            "l[3::-1]     -> [4, 3, 2, 1]\n",
            "l[3:0:-1]    -> [4, 3, 2]\n",
            "\n",
            "l[::-1]      -> [8, 7, 6, 5, 4, 3, 2, 1]\n",
            "l[8:0:-1]    -> [8, 7, 6, 5, 4, 3, 2]\n"
          ]
        }
      ],
      "source": [
        "print(\"l[:2:-1]     ->\", l[:2:-1]) \n",
        "#from the last index (inclusive) to 2 (exclusive) with a step of -1\n",
        "#equivalent to:\n",
        "print(\"l[8:2:-1]    ->\", l[8:2:-1]) \n",
        "\n",
        "print()\n",
        "print(\"l[3::-1]     ->\", l[3::-1]) \n",
        "#from the third index (inclusive) to 0 (inclusive, as omitted) with a step of -1\n",
        "#similar, but not equivalent to:\n",
        "print(\"l[3:0:-1]    ->\", l[3:0:-1]) \n",
        "#from the third index (inclusive) to 0 (exclusive) with a step of -1\n",
        "\n",
        "print()\n",
        "print(\"l[::-1]      ->\", l[::-1])\n",
        "#from the last index (inclusive) to the first (inclusive, as omitted) with a step of -1\n",
        "#similar, but not equivalent to:\n",
        "print(\"l[8:0:-1]    ->\", l[8:0:-1]) \n",
        "#from the last index (inclusive) to the first (exclusive) with a step of -1"
      ]
    },
    {
      "cell_type": "markdown",
      "metadata": {},
      "source": [
        "The notation `::-1`, in particular, is useful for reversing lists:"
      ]
    },
    {
      "cell_type": "code",
      "execution_count": 57,
      "metadata": {},
      "outputs": [
        {
          "name": "stdout",
          "output_type": "stream",
          "text": [
            "[1, 2, 3, 4, 5, 6, 7, 8]\n",
            "[8, 7, 6, 5, 4, 3, 2, 1]\n"
          ]
        }
      ],
      "source": [
        "print(l)\n",
        "print(l[::-1])"
      ]
    },
    {
      "cell_type": "markdown",
      "metadata": {},
      "source": [
        "Indexing and slicing can also be used to assign values to list elements. For example:"
      ]
    },
    {
      "cell_type": "code",
      "execution_count": 58,
      "metadata": {},
      "outputs": [
        {
          "name": "stdout",
          "output_type": "stream",
          "text": [
            "[5, 7, 9, -1, 2, 6, 5, 4, -6]\n",
            "[5, 7, 9, 80, 2, 6, 5, 4, -6]\n"
          ]
        }
      ],
      "source": [
        "l = [5,7,9,-1,2,6,5,4,-6]\n",
        "print(l)\n",
        "l[3]=80\n",
        "print(l)"
      ]
    },
    {
      "cell_type": "markdown",
      "metadata": {},
      "source": [
        "It's also possible to assign more than one element at a time:"
      ]
    },
    {
      "cell_type": "code",
      "execution_count": 59,
      "metadata": {},
      "outputs": [
        {
          "name": "stdout",
          "output_type": "stream",
          "text": [
            "[0, 7, 0, 80, 0, 6, 0, 4, 0]\n"
          ]
        }
      ],
      "source": [
        "l[::2]=[0,0,0,0,0] # assign 0 to odd-positioned numbers\n",
        "print(l)"
      ]
    },
    {
      "cell_type": "markdown",
      "metadata": {},
      "source": [
        "The lists can also be nested:"
      ]
    },
    {
      "cell_type": "code",
      "execution_count": 60,
      "metadata": {},
      "outputs": [
        {
          "name": "stdout",
          "output_type": "stream",
          "text": [
            "[1, 2, [4, 8, [7, 5]], [9], 2]\n"
          ]
        }
      ],
      "source": [
        "a1 = [1,2,[4,8,[7,5]],[9],2]\n",
        "print(a1)"
      ]
    },
    {
      "cell_type": "markdown",
      "metadata": {},
      "source": [
        "The indexing of these nested structures occurs by concatenating the indices as follows:"
      ]
    },
    {
      "cell_type": "code",
      "execution_count": 61,
      "metadata": {},
      "outputs": [
        {
          "name": "stdout",
          "output_type": "stream",
          "text": [
            "7\n"
          ]
        }
      ],
      "source": [
        "print(a1[2][2][0]) #the first index selects the list [4,8,...]\n",
        "#the second index selects the list [7,5]\n",
        "#the third index selects the element 7"
      ]
    },
    {
      "cell_type": "markdown",
      "metadata": {},
      "source": [
        "> **Question 2**\n",
        ">\n",
        "> Extract the list `[3, 1.2]` from the following list:\n",
        "> ```python\n",
        "> l = [1, 4, 5, [7, 9, -1, [0, 3, 2, 1.2], 8, []]]\n",
        "> ```"
      ]
    },
    {
      "cell_type": "markdown",
      "metadata": {},
      "source": [
        "## Tuples\n",
        "\n",
        "Tuples are similar to lists, but they are immutable. That is, they cannot be modified after their initialization. Unlike lists, tuples are defined using parentheses:"
      ]
    },
    {
      "cell_type": "code",
      "execution_count": 62,
      "metadata": {},
      "outputs": [
        {
          "name": "stdout",
          "output_type": "stream",
          "text": [
            "[1, 2, 3, 4, 5]\n",
            "(1, 2, 3, 4, 5)\n"
          ]
        }
      ],
      "source": [
        "l = [1,2,3,4,5] # this is a list (square brackets)\n",
        "t = (1,2,3,4,5) # this is a tuple (round brackets)\n",
        "print(l)\n",
        "print(t)"
      ]
    },
    {
      "cell_type": "markdown",
      "metadata": {},
      "source": [
        "The indexing and slicing rules seen for lists also apply to tuples. However, as mentioned before, tuples cannot be modified:\n",
        "\n",
        "```python\n",
        "t = (1,3,5)\n",
        "t[0]=8 #returns an error because tuples are immutable\n",
        "```"
      ]
    },
    {
      "cell_type": "markdown",
      "metadata": {},
      "source": [
        "Initializing a tuple with a single element will produce a number. This is because parentheses are also used to group the different terms of an operation:"
      ]
    },
    {
      "cell_type": "code",
      "execution_count": 63,
      "metadata": {},
      "outputs": [
        {
          "name": "stdout",
          "output_type": "stream",
          "text": [
            "1\n"
          ]
        }
      ],
      "source": [
        "t=(1)\n",
        "print(t)"
      ]
    },
    {
      "cell_type": "markdown",
      "metadata": {},
      "source": [
        "To define a one-dimensional tuple, we must explicitly add a comma after the first element:"
      ]
    },
    {
      "cell_type": "code",
      "execution_count": 64,
      "metadata": {},
      "outputs": [
        {
          "name": "stdout",
          "output_type": "stream",
          "text": [
            "(1,)\n"
          ]
        }
      ],
      "source": [
        "t=(1,)\n",
        "print(t)"
      ]
    },
    {
      "cell_type": "markdown",
      "metadata": {},
      "source": [
        "It is also possible to omit the parentheses in the definition of tuples:"
      ]
    },
    {
      "cell_type": "code",
      "execution_count": 65,
      "metadata": {},
      "outputs": [
        {
          "name": "stdout",
          "output_type": "stream",
          "text": [
            "(1, 3, 5) (1,)\n"
          ]
        }
      ],
      "source": [
        "t1=1,3,5\n",
        "t2=1,\n",
        "print(t1,t2)"
      ]
    },
    {
      "cell_type": "markdown",
      "metadata": {},
      "source": [
        "It is possible to convert tuples into lists and vice versa:"
      ]
    },
    {
      "cell_type": "code",
      "execution_count": 66,
      "metadata": {},
      "outputs": [
        {
          "name": "stdout",
          "output_type": "stream",
          "text": [
            "[4, 5, 6, 7, 4, 8, 2, 4]\n",
            "(1, 2, 3, 4, 5, 6, 7, 8)\n"
          ]
        }
      ],
      "source": [
        "l=[1,2,3,4,5,6,7,8]\n",
        "t=(4,5,6,7,4,8,2,4)\n",
        "ttl = list(t)\n",
        "ltt = tuple(l)\n",
        "\n",
        "print(ttl)\n",
        "print(ltt)"
      ]
    },
    {
      "cell_type": "markdown",
      "metadata": {},
      "source": [
        "Tuples can also be created and \"unpacked\" on the fly:"
      ]
    },
    {
      "cell_type": "code",
      "execution_count": 67,
      "metadata": {},
      "outputs": [
        {
          "name": "stdout",
          "output_type": "stream",
          "text": [
            "(1, 2, 3)\n",
            "1 2 3\n"
          ]
        }
      ],
      "source": [
        "t1=1,2,3\n",
        "\n",
        "print(t1)\n",
        "\n",
        "a,b,c=t1 # Unpacking the tuple\n",
        "print(a,b,c)"
      ]
    },
    {
      "cell_type": "markdown",
      "metadata": {},
      "source": [
        "This system allows to swap two variables in a single line of code:"
      ]
    },
    {
      "cell_type": "code",
      "execution_count": 68,
      "metadata": {},
      "outputs": [
        {
          "name": "stdout",
          "output_type": "stream",
          "text": [
            "Var 1 Var 2\n",
            "Var 2 Var 1\n",
            "Var 2 Var 1\n"
          ]
        }
      ],
      "source": [
        "var1 = \"Var 1\"\n",
        "var2 = \"Var 2\"\n",
        "\n",
        "print(var1,var2)\n",
        "\n",
        "var1,var2=var2,var1\n",
        "print(var1,var2)\n",
        "\n",
        "#equivalent to:\n",
        "var1 = \"Var 1\"\n",
        "var2 = \"Var 2\"\n",
        "t = (var2,var1)\n",
        "var1=t[0]\n",
        "var2=t[1]\n",
        "print(var1,var2)"
      ]
    },
    {
      "cell_type": "markdown",
      "metadata": {},
      "source": [
        "Nested tuples can be unpacked as follows:"
      ]
    },
    {
      "cell_type": "code",
      "execution_count": 69,
      "metadata": {},
      "outputs": [
        {
          "name": "stdout",
          "output_type": "stream",
          "text": [
            "(1, (2, 3), (4, 5, 6))\n",
            "1 2 3 4 5 6\n"
          ]
        }
      ],
      "source": [
        "t = (1,(2,3),(4,5,6))\n",
        "x,(t11,t12),(t21,t22,t23) = t\n",
        "print(t)\n",
        "print(x, t11, t12, t21, t22, t23)\n",
        "#The notation a,b,c,d,e,f = t would raise an error"
      ]
    },
    {
      "cell_type": "markdown",
      "metadata": {},
      "source": [
        "> **Question 3**\n",
        ">\n",
        "> What is the main difference between tuples and lists? Provide an example of a case where a tuple is a more appropriate type than a list."
      ]
    },
    {
      "cell_type": "markdown",
      "metadata": {},
      "source": [
        "## Strings\n",
        "In Python we can define strings in three ways:"
      ]
    },
    {
      "cell_type": "code",
      "execution_count": 70,
      "metadata": {},
      "outputs": [
        {
          "data": {
            "text/plain": [
              "(str, str, str)"
            ]
          },
          "execution_count": 70,
          "metadata": {},
          "output_type": "execute_result"
        }
      ],
      "source": [
        "s1 = 'Single quotes'\n",
        "s2 = \"Double quotes, can also contain single quotes '' \"\n",
        "s3 = \"\"\"Triple\n",
        "double quotes\n",
        "can be defined on multiple lines\"\"\"\n",
        "type(s1), type(s2), type(s3)"
      ]
    },
    {
      "cell_type": "markdown",
      "metadata": {},
      "source": [
        "Printing takes place using the \"print\" function:"
      ]
    },
    {
      "cell_type": "code",
      "execution_count": 71,
      "metadata": {},
      "outputs": [
        {
          "name": "stdout",
          "output_type": "stream",
          "text": [
            "Singoli apici\n",
            "Doppi apici, possono contenere anche apici singoli '' \n",
            "Tripli\n",
            "doppi apici\n",
            "possono essere definite su più righe\n"
          ]
        }
      ],
      "source": [
        "print(s1)\n",
        "print(s2)\n",
        "print(s3)"
      ]
    },
    {
      "cell_type": "markdown",
      "metadata": {},
      "source": [
        "Strings also have a set of predefined methods:"
      ]
    },
    {
      "cell_type": "code",
      "execution_count": 72,
      "metadata": {},
      "outputs": [
        {
          "name": "stdout",
          "output_type": "stream",
          "text": [
            "CIAO\n",
            "ciao\n",
            "Ciao come stai\n",
            "['ciao', 'come', 'stai']\n",
            "['ciao', ' come stai']\n",
            "uno-due-tre\n"
          ]
        }
      ],
      "source": [
        "print(\"hello\".upper()) #make everything uppercase\n",
        "print(\"HELLO\".lower()) #all lowercase\n",
        "print(\"hello how are you\".capitalize()) #first letter uppercase\n",
        "print(\"hello how are you\".split()) #splits a string and returns a list\n",
        "print(\"hello, how are you\".split(','))# splits when it finds the comma\n",
        "print(\"-\".join([\"one\",\"two\",\"three\"])) #builds a string by concatenating the elements\n",
        "#of the list and separating them by the delimiter"
      ]
    },
    {
      "cell_type": "markdown",
      "metadata": {},
      "source": [
        "Strings can be indexed similarly to arrays to obtain substrings:"
      ]
    },
    {
      "cell_type": "code",
      "execution_count": 73,
      "metadata": {},
      "outputs": [
        {
          "name": "stdout",
          "output_type": "stream",
          "text": [
            "Hell\n",
            "o World\n",
            "o W\n",
            "dlroW olleH\n"
          ]
        }
      ],
      "source": [
        "s = \"Hello World\"\n",
        "print(s[:4]) #first 4 characters\n",
        "print(s[4:]) #from the fourth character to the end\n",
        "print(s[4:7]) #from the fourth to the sixth character\n",
        "print(s[::-1]) #string reversal"
      ]
    },
    {
      "cell_type": "markdown",
      "metadata": {},
      "source": [
        "The `split` method in particular can be used for tokenization or to easily extract substrings. For example, let's say we want to extract the number `2017` from the string `A-2017-B2`:"
      ]
    },
    {
      "cell_type": "code",
      "execution_count": 74,
      "metadata": {},
      "outputs": [
        {
          "name": "stdout",
          "output_type": "stream",
          "text": [
            "2017\n"
          ]
        }
      ],
      "source": [
        "print(\"A-2017-B2\".split('-')[1])"
      ]
    },
    {
      "cell_type": "markdown",
      "metadata": {},
      "source": [
        "The `==` operator checks that two strings are equal:"
      ]
    },
    {
      "cell_type": "code",
      "execution_count": 75,
      "metadata": {},
      "outputs": [
        {
          "name": "stdout",
          "output_type": "stream",
          "text": [
            "True\n",
            "False\n"
          ]
        }
      ],
      "source": [
        "print(\"hello\"==\"hello\")\n",
        "print(\"hello\"==\"hello2\")"
      ]
    },
    {
      "cell_type": "markdown",
      "metadata": {},
      "source": [
        "The other operators reflect the lexicographical order between strings:"
      ]
    },
    {
      "cell_type": "code",
      "execution_count": 76,
      "metadata": {},
      "outputs": [
        {
          "name": "stdout",
          "output_type": "stream",
          "text": [
            "True\n",
            "False\n"
          ]
        }
      ],
      "source": [
        "print(\"abc\"<\"def\")\n",
        "print(\"Abc\">\"def\")"
      ]
    },
    {
      "cell_type": "markdown",
      "metadata": {},
      "source": [
        "> **Question 4**\n",
        ">\n",
        "> Which code allows manipulating the string `azyp-kk9-382` to obtain the string `Kk9`?"
      ]
    },
    {
      "cell_type": "markdown",
      "metadata": {},
      "source": [
        "## String Formatting\n",
        "We can build formatted strings following a syntax similar to printf:"
      ]
    },
    {
      "cell_type": "code",
      "execution_count": 77,
      "metadata": {},
      "outputs": [
        {
          "name": "stdout",
          "output_type": "stream",
          "text": [
            "Questa stringa è formattata. Posso inserire numeri, as esempio 3.00\n"
          ]
        }
      ],
      "source": [
        "# To build the formatted string, I follow the string with the \"%\" symbol and then insert\n",
        "# a tuple containing the arguments\n",
        "s1 = \"This %s is formatted. I can insert numbers, for example %0.2f\" % (\"string\",3.00002)\n",
        "print(s1)"
      ]
    },
    {
      "cell_type": "markdown",
      "metadata": {},
      "source": [
        "An alternative and more recent way to format strings is to use the \"format\" method:"
      ]
    },
    {
      "cell_type": "code",
      "execution_count": 78,
      "metadata": {},
      "outputs": [
        {
          "name": "stdout",
          "output_type": "stream",
          "text": [
            "Questa stringa è formattata. Posso inserire numeri, ad esempio 3.000002\n"
          ]
        }
      ],
      "source": [
        "s2 = \"This {} is formatted. I can insert numbers, for example {}\"\\\n",
        "    .format(\"string\",3.000002)# the \"\\\" character allows to break the line\n",
        "print(s2)"
      ]
    },
    {
      "cell_type": "markdown",
      "metadata": {},
      "source": [
        "It is possible to specify the type of each argument using the colon:"
      ]
    },
    {
      "cell_type": "code",
      "execution_count": 79,
      "metadata": {},
      "outputs": [
        {
          "name": "stdout",
          "output_type": "stream",
          "text": [
            "Questa stringa è formattata. Posso inserire numeri, ad esempio 3.00\n"
          ]
        }
      ],
      "source": [
        "print(\"This {:s} is formatted. I can insert numbers, for example {:0.2f}\"\\\n",
        "      .format(\"string\",3.00002)) #Positional parameters, without specifying indices"
      ]
    },
    {
      "cell_type": "markdown",
      "metadata": {},
      "source": [
        "It's also possible to assign names to arguments so you can call them out of order:"
      ]
    },
    {
      "cell_type": "code",
      "execution_count": 80,
      "metadata": {},
      "outputs": [
        {
          "name": "stdout",
          "output_type": "stream",
          "text": [
            "Questa stringa è formattata. Posso inserire numeri, ad esempio 3.00\n"
          ]
        }
      ],
      "source": [
        "print(\"This {str:s} is formatted. I can insert numbers, for example {num:0.2f}\"\\\n",
        "    .format(num=3.00002, str=\"string\"))"
      ]
    },
    {
      "cell_type": "markdown",
      "metadata": {},
      "source": [
        "> **Question 5**\n",
        ">\n",
        "> Given the variables:\n",
        ">\n",
        "> ```python\n",
        "> a = \"hello\"\n",
        "> b = \"world\"\n",
        "> c = 2.0```\n",
        ">\n",
        "> Use string formatting to print the string `hello 2 times world`."
      ]
    },
    {
      "cell_type": "markdown",
      "metadata": {},
      "source": [
        "## Dictionaries\n",
        "Dictionaries are similar to lists, but they are indexed by \"hashable\" objects, for example strings:"
      ]
    },
    {
      "cell_type": "code",
      "execution_count": 81,
      "metadata": {},
      "outputs": [
        {
          "name": "stdout",
          "output_type": "stream",
          "text": [
            "{'val1': 1, 'val2': 2}\n",
            "1\n"
          ]
        }
      ],
      "source": [
        "d = {\"val1\":1, \"val2\":2}\n",
        "print(d)\n",
        "\n",
        "print(d[\"val1\"])"
      ]
    },
    {
      "cell_type": "markdown",
      "metadata": {},
      "source": [
        "It is possible to obtain the list of keys and values as follows:"
      ]
    },
    {
      "cell_type": "code",
      "execution_count": 82,
      "metadata": {},
      "outputs": [
        {
          "name": "stdout",
          "output_type": "stream",
          "text": [
            "dict_keys(['val1', 'val2'])\n",
            "dict_values([1, 2])\n"
          ]
        }
      ],
      "source": [
        "print(d.keys()) #keys and values are in random order\n",
        "print(d.values())"
      ]
    },
    {
      "cell_type": "markdown",
      "metadata": {},
      "source": [
        "It is possible to index dictionaries with tuples (which are \"hashable\")"
      ]
    },
    {
      "cell_type": "code",
      "execution_count": 83,
      "metadata": {},
      "outputs": [
        {
          "name": "stdout",
          "output_type": "stream",
          "text": [
            "5\n"
          ]
        }
      ],
      "source": [
        "d = {(2,3):5, (4,6):11}\n",
        "\n",
        "print(d[(2,3)])"
      ]
    },
    {
      "cell_type": "markdown",
      "metadata": {},
      "source": [
        "Dictionaries can also be extended dynamically:"
      ]
    },
    {
      "cell_type": "code",
      "execution_count": 84,
      "metadata": {},
      "outputs": [
        {
          "name": "stdout",
          "output_type": "stream",
          "text": [
            "{'chiave': 'valore'}\n"
          ]
        }
      ],
      "source": [
        "d = dict() #empty dictionary\n",
        "d[\"key\"]=\"value\"\n",
        "print(d)"
      ]
    },
    {
      "cell_type": "markdown",
      "metadata": {},
      "source": [
        "We can check that an element is among the keys of a dictionary as follows:"
      ]
    },
    {
      "cell_type": "code",
      "execution_count": 85,
      "metadata": {},
      "outputs": [
        {
          "name": "stdout",
          "output_type": "stream",
          "text": [
            "False\n",
            "True\n"
          ]
        }
      ],
      "source": [
        "d = {1:'hello', '5': 5, 8: -1}\n",
        "print(5 in d)\n",
        "print('5' in d)"
      ]
    },
    {
      "cell_type": "markdown",
      "metadata": {},
      "source": [
        "It is possible to check that an element is among the values of a dictionary as follows:"
      ]
    },
    {
      "cell_type": "code",
      "execution_count": 86,
      "metadata": {},
      "outputs": [
        {
          "name": "stdout",
          "output_type": "stream",
          "text": [
            "True\n"
          ]
        }
      ],
      "source": [
        "print(-1 in d.values())"
      ]
    },
    {
      "cell_type": "markdown",
      "metadata": {},
      "source": [
        "## Set\n",
        "Sets are data structures that can contain only one instance of a given element:"
      ]
    },
    {
      "cell_type": "code",
      "execution_count": 87,
      "metadata": {},
      "outputs": [
        {
          "name": "stdout",
          "output_type": "stream",
          "text": [
            "{1, 2, 3}\n"
          ]
        }
      ],
      "source": [
        "s = {1,2,3,3}\n",
        "print(s) # only one \"3\" can be contained"
      ]
    },
    {
      "cell_type": "markdown",
      "metadata": {},
      "source": [
        "We can add an element to a set using the \"add\" method:"
      ]
    },
    {
      "cell_type": "code",
      "execution_count": 88,
      "metadata": {},
      "outputs": [
        {
          "name": "stdout",
          "output_type": "stream",
          "text": [
            "{1, 2, 3}\n",
            "{1, 2, 3, 5}\n",
            "{1, 2, 3, 5}\n"
          ]
        }
      ],
      "source": [
        "print(s)\n",
        "s.add(5)\n",
        "print(s)\n",
        "s.add(1) # has no effect. 1 is already present\n",
        "print(s)"
      ]
    },
    {
      "cell_type": "markdown",
      "metadata": {},
      "source": [
        "Also in this case, we can check whether an element belongs to a set using the keyword `in` :"
      ]
    },
    {
      "cell_type": "code",
      "execution_count": 89,
      "metadata": {},
      "outputs": [
        {
          "name": "stdout",
          "output_type": "stream",
          "text": [
            "True\n",
            "False\n"
          ]
        }
      ],
      "source": [
        "s={1,5,-1}\n",
        "print(-1 in s)\n",
        "print(8 in s)"
      ]
    },
    {
      "cell_type": "markdown",
      "metadata": {},
      "source": [
        "It is also possible to create sets from lists:"
      ]
    },
    {
      "cell_type": "code",
      "execution_count": 90,
      "metadata": {},
      "outputs": [
        {
          "data": {
            "text/plain": [
              "{1, 2, 3, 5}"
            ]
          },
          "execution_count": 90,
          "metadata": {},
          "output_type": "execute_result"
        }
      ],
      "source": [
        "set([1,3,3,2,5,1])"
      ]
    },
    {
      "cell_type": "markdown",
      "metadata": {},
      "source": [
        "## If/elif/else constructs\n",
        "\n",
        "Conditional constructs work similarly to C-based languages. Unlike those languages, however, Python replaces parentheses with mandatory indentation. The following C++ code:\n",
        "\n",
        "```c++\n",
        "int var1 = 5;\n",
        "int var2 = 10;\n",
        "if(var1<var2) {\n",
        "    int var3 = var1+var2;\n",
        "    cout << \"Hello World \"<<var3;\n",
        "}\n",
        "cout << \"End\";\n",
        "```\n",
        "\n",
        "is instead written as follows:"
      ]
    },
    {
      "cell_type": "code",
      "execution_count": 91,
      "metadata": {},
      "outputs": [
        {
          "name": "stdout",
          "output_type": "stream",
          "text": [
            "Hello World 15\n",
            "End\n"
          ]
        }
      ],
      "source": [
        "var1 = 5\n",
        "var2 = 10\n",
        "if var1<var2:\n",
        "    var3 = var1+var2\n",
        "    print(\"Hello World\",var3)\n",
        "print(\"End\")"
      ]
    },
    {
      "cell_type": "markdown",
      "metadata": {},
      "source": [
        "In practice:\n",
        " * the condition to be checked is not enclosed in parentheses;\n",
        " * the colon indicates the beginning of the if body;\n",
        " * indentation determines what belongs to the if body and what does not belong to the if body.\n",
        " \n",
        "Since indentation has syntactic value, it becomes mandatory. Furthermore, it is not possible to indent parts of code where it is not significant. For example, the following code returns an error:\n",
        "\n",
        "```python\n",
        "print(\"Hello\")\n",
        "    print(\"World\") #indentation error\n",
        "```"
      ]
    },
    {
      "cell_type": "markdown",
      "metadata": {},
      "source": [
        "The indentation rules just seen also apply to loops and other constructs where it is necessary to delimit blocks of code. The if construct also allows specifying an `else` branch and an `elif` branch for cascaded controls. Let's look at some examples:"
      ]
    },
    {
      "cell_type": "code",
      "execution_count": 92,
      "metadata": {},
      "outputs": [
        {
          "name": "stdout",
          "output_type": "stream",
          "text": [
            "cool!\n",
            "cool again :)\n",
            "true\n",
            "5>4\n"
          ]
        }
      ],
      "source": [
        "true_condition = True\n",
        "false_condition = False\n",
        "\n",
        "if true_condition: #the colon \":\" is mandatory\n",
        "    word=\"cool!\"\n",
        "    print(word) #indentation is mandatory\n",
        "    \n",
        "if false_condition:\n",
        "    print(\"not cool :(\")\n",
        "    \n",
        "if not false_condition: #we negate the condition with \"not\"\n",
        "    word=\"cool\"\n",
        "    print(word,\"again :)\")\n",
        "    \n",
        "if false_condition:\n",
        "    word=\"this\"\n",
        "    print(word+\" is \"+\"false\")\n",
        "else: #colon + indentation\n",
        "    print(\"true\")\n",
        "    \n",
        "if false_condition:\n",
        "    print(\"false\")\n",
        "elif 5>4: #implements an \"else if\"\n",
        "    print(\"5>4\")\n",
        "else:\n",
        "    print(\"4<5??\")"
      ]
    },
    {
      "cell_type": "markdown",
      "metadata": {},
      "source": [
        "It is also possible to check if a value belongs to a list. This is very useful for checking if a parameter is allowed."
      ]
    },
    {
      "cell_type": "code",
      "execution_count": 93,
      "metadata": {},
      "outputs": [
        {
          "name": "stdout",
          "output_type": "stream",
          "text": [
            "double is ok\n",
            "8 not in ['single', 'double', 5, -2]\n"
          ]
        }
      ],
      "source": [
        "allowed_parameters = [\"single\", \"double\", 5, -2]\n",
        "\n",
        "parameter = \"double\"\n",
        "\n",
        "if parameter in allowed_parameters:\n",
        "    print(parameter,\"is ok\")\n",
        "else:\n",
        "    print(parameter,\"not in\",allowed_parameters)\n",
        "\n",
        "x=8\n",
        "if x in allowed_parameters:\n",
        "    print(x,\"is not ok\")\n",
        "else:\n",
        "    print(x,\"not in\",allowed_parameters)"
      ]
    },
    {
      "cell_type": "markdown",
      "metadata": {},
      "source": [
        "An \"inline\" variant of the if construct can be used for conditional assignments:"
      ]
    },
    {
      "cell_type": "code",
      "execution_count": 94,
      "metadata": {},
      "outputs": [
        {
          "name": "stdout",
          "output_type": "stream",
          "text": [
            "5\n"
          ]
        }
      ],
      "source": [
        "var1 = 5\n",
        "var2 = 3\n",
        "m = var1 if var1>var2 else var2 # Calculate the maximum\n",
        "print(m)"
      ]
    },
    {
      "cell_type": "markdown",
      "metadata": {},
      "source": [
        "In Python there is no switch construct; to implement it, a series of cascaded elif statements is used:"
      ]
    },
    {
      "cell_type": "code",
      "execution_count": 95,
      "metadata": {},
      "outputs": [
        {
          "name": "stdout",
          "output_type": "stream",
          "text": [
            "ciao mondo\n"
          ]
        }
      ],
      "source": [
        "s = \"hello\"\n",
        "if s==\"help\":\n",
        "    print(\"help\")\n",
        "elif s==\"world\":\n",
        "    print(\"hello\",s)\n",
        "elif s==\"hello\":\n",
        "    print(s,\"world\")\n",
        "else:\n",
        "    print(\"Default\")"
      ]
    },
    {
      "cell_type": "markdown",
      "metadata": {},
      "source": [
        "> **Question 6**\n",
        ">\n",
        "> Consider the following code:\n",
        ">\n",
        "> ```python\n",
        "> x=2\n",
        "> if x>0:\n",
        ">     y=12\n",
        ">     x=x+y\n",
        ">     print y\n",
        "> else:\n",
        ">         z=28\n",
        ">         h=12\n",
        ">         print z+h\n",
        "> ```\n",
        ">\n",
        "> Highlight any syntactic errors. Rewrite the code in C++ or Java and compare the two versions of the code."
      ]
    },
    {
      "cell_type": "markdown",
      "metadata": {},
      "source": [
        "## While and For Loops\n",
        "While loops are defined as follows:"
      ]
    },
    {
      "cell_type": "code",
      "execution_count": 96,
      "metadata": {},
      "outputs": [
        {
          "name": "stdout",
          "output_type": "stream",
          "text": [
            "0\n",
            "1\n",
            "2\n",
            "3\n",
            "4\n"
          ]
        }
      ],
      "source": [
        "i=0\n",
        "while i<5: # Colon \":\"\n",
        "    print(i) # Indentation\n",
        "    i+=1"
      ]
    },
    {
      "cell_type": "markdown",
      "metadata": {},
      "source": [
        "The syntax of for loops is a bit different from the standard C syntax. For loops in Python are more like **foreach** and require an \"iterable\" (for example, a list or a tuple) to be executed:"
      ]
    },
    {
      "cell_type": "code",
      "execution_count": 97,
      "metadata": {},
      "outputs": [
        {
          "name": "stdout",
          "output_type": "stream",
          "text": [
            "1\n",
            "7\n",
            "2\n",
            "5\n"
          ]
        }
      ],
      "source": [
        "l=[1,7,2,5]\n",
        "for v in l:\n",
        "    print(v)"
      ]
    },
    {
      "cell_type": "markdown",
      "metadata": {},
      "source": [
        "To write something equivalent to the following C code:\n",
        "\n",
        "```c++\n",
        "for (int i=0; i<5; i++) {...}\n",
        "```\n",
        "\n",
        "we can use the **range** function which generates sequential numbers on the fly:"
      ]
    },
    {
      "cell_type": "code",
      "execution_count": 98,
      "metadata": {},
      "outputs": [
        {
          "name": "stdout",
          "output_type": "stream",
          "text": [
            "0\n",
            "1\n",
            "2\n",
            "3\n",
            "4\n"
          ]
        }
      ],
      "source": [
        "for i in range(5):\n",
        "    print(i)"
      ]
    },
    {
      "cell_type": "markdown",
      "metadata": {},
      "source": [
        "Range does not directly generate a list, but a \"range-type\" \"generator\", i.e., an object capable of generating numbers. If we want to convert it into a list, we must do so explicitly:"
      ]
    },
    {
      "cell_type": "code",
      "execution_count": 99,
      "metadata": {},
      "outputs": [
        {
          "name": "stdout",
          "output_type": "stream",
          "text": [
            "range(0, 5)\n",
            "[0, 1, 2, 3, 4]\n"
          ]
        }
      ],
      "source": [
        "print(range(5)) #range type object, generates numbers from 0 to 5 (exclusive)\n",
        "print(list(range(5))) #range just generates consecutive numbers\n",
        "#converting range to a list, we can verify which numbers are generated"
      ]
    },
    {
      "cell_type": "markdown",
      "metadata": {},
      "source": [
        "If we wanted to simultaneously iterate through indices and values of an array, we could write:"
      ]
    },
    {
      "cell_type": "code",
      "execution_count": 100,
      "metadata": {},
      "outputs": [
        {
          "name": "stdout",
          "output_type": "stream",
          "text": [
            "0 -> 1\n",
            "1 -> 7\n",
            "2 -> 2\n",
            "3 -> 4\n",
            "4 -> 5\n"
          ]
        }
      ],
      "source": [
        "array=[1,7,2,4,5] \n",
        "for i in range(len(array)):\n",
        "    print(i,\"->\",array[i])"
      ]
    },
    {
      "cell_type": "markdown",
      "metadata": {},
      "source": [
        "In Python, however, it is possible to use the `enumerate` function to obtain the same result in a more compact way:"
      ]
    },
    {
      "cell_type": "code",
      "execution_count": 101,
      "metadata": {},
      "outputs": [
        {
          "name": "stdout",
          "output_type": "stream",
          "text": [
            "0 -> 1\n",
            "1 -> 7\n",
            "2 -> 2\n",
            "3 -> 4\n",
            "4 -> 5\n"
          ]
        }
      ],
      "source": [
        "for index,value in enumerate(array): #get both index and value\n",
        "    print(index,\"->\",value)"
      ]
    },
    {
      "cell_type": "markdown",
      "metadata": {},
      "source": [
        "Now let's assume we want to simultaneously iterate through all the i-th elements of multiple lists. For example:"
      ]
    },
    {
      "cell_type": "code",
      "execution_count": 102,
      "metadata": {},
      "outputs": [
        {
          "name": "stdout",
          "output_type": "stream",
          "text": [
            "1 1 9\n",
            "6 8 2\n",
            "2 2 5\n",
            "5 7 2\n"
          ]
        }
      ],
      "source": [
        "a1=[1,6,2,5]\n",
        "a2=[1,8,2,7]\n",
        "a3=[9,2,5,2]\n",
        "\n",
        "for i in range(len(a1)):\n",
        "    print(a1[i],a2[i],a3[i])"
      ]
    },
    {
      "cell_type": "markdown",
      "metadata": {},
      "source": [
        "A very useful function when working with loops is `zip`, which allows to group the corresponding elements from different lists:"
      ]
    },
    {
      "cell_type": "code",
      "execution_count": 103,
      "metadata": {},
      "outputs": [
        {
          "name": "stdout",
          "output_type": "stream",
          "text": [
            "[(1, 3), (6, 8), (5, 9), (2, 2)]\n"
          ]
        }
      ],
      "source": [
        "l1 = [1,6,5,2]\n",
        "l2 = [3,8,9,2]\n",
        "zipped=list(zip(l1,l2))\n",
        "print(zipped)"
      ]
    },
    {
      "cell_type": "markdown",
      "metadata": {},
      "source": [
        "In practice, `zip` groups the i-th elements of the lists into tuples. The i-th tuple of `zipped` contains the i-th elements of the two lists. By combining `zip` with a for loop, we can obtain the following result:"
      ]
    },
    {
      "cell_type": "code",
      "execution_count": 104,
      "metadata": {},
      "outputs": [
        {
          "name": "stdout",
          "output_type": "stream",
          "text": [
            "1 1 9\n",
            "6 8 2\n",
            "2 2 5\n",
            "5 7 2\n"
          ]
        }
      ],
      "source": [
        "for v1,v2,v3 in zip(a1,a2,a3):\n",
        "    print(v1,v2,v3)"
      ]
    },
    {
      "cell_type": "markdown",
      "metadata": {},
      "source": [
        "which is equivalent to the code seen previously. It is also possible to combine zip and enumerate as follows:"
      ]
    },
    {
      "cell_type": "code",
      "execution_count": 105,
      "metadata": {},
      "outputs": [
        {
          "name": "stdout",
          "output_type": "stream",
          "text": [
            "0 -> 1 1 9\n",
            "1 -> 6 8 2\n",
            "2 -> 2 2 5\n",
            "3 -> 5 7 2\n"
          ]
        }
      ],
      "source": [
        "for i,(v1,v2,v3) in enumerate(zip(a1,a2,a3)):\n",
        "    print(i,\"->\",v1,v2,v3)"
      ]
    },
    {
      "cell_type": "markdown",
      "metadata": {},
      "source": [
        "Attention, also `zip`, like `range`, produces a generator. Therefore it is necessary to convert it explicitly into a list to print its values:"
      ]
    },
    {
      "cell_type": "code",
      "execution_count": 106,
      "metadata": {},
      "outputs": [
        {
          "name": "stdout",
          "output_type": "stream",
          "text": [
            "<zip object at 0x103f7c740>\n",
            "[(1, 3), (6, 8), (5, 9), (2, 2)]\n"
          ]
        }
      ],
      "source": [
        "print(zip(l1,l2))\n",
        "print(list(zip(l1,l2)))"
      ]
    },
    {
      "cell_type": "markdown",
      "metadata": {},
      "source": [
        "## Understanding Lists and Dictionaries\n",
        "\n",
        "List comprehension is a syntactic tool that allows you to define lists on the fly from other lists, in an iterative manner. For example, it is possible to multiply all elements of a list by a value, as follows:"
      ]
    },
    {
      "cell_type": "code",
      "execution_count": 107,
      "metadata": {},
      "outputs": [
        {
          "name": "stdout",
          "output_type": "stream",
          "text": [
            "[0, 1, 2, 3, 4, 5, 6, 7]\n",
            "[0, 3, 6, 9, 12, 15, 18, 21]\n"
          ]
        }
      ],
      "source": [
        "a = list(range(8))\n",
        "\n",
        "b = [x*3 for x in a] # List \"a\" is iterated. Variable \"x\" will contain the values of \"a\" in each iteration.\n",
        "\n",
        "print(a)\n",
        "print(b)"
      ]
    },
    {
      "cell_type": "markdown",
      "metadata": {},
      "source": [
        "It's also possible to include only some elements selectively:"
      ]
    },
    {
      "cell_type": "code",
      "execution_count": 108,
      "metadata": {},
      "outputs": [
        {
          "name": "stdout",
          "output_type": "stream",
          "text": [
            "[0, 2, 4, 6]\n"
          ]
        }
      ],
      "source": [
        "print([x for x in a if x%2==0]) # Includes only the even numbers"
      ]
    },
    {
      "cell_type": "code",
      "execution_count": 109,
      "metadata": {},
      "outputs": [
        {
          "name": "stdout",
          "output_type": "stream",
          "text": [
            "[1, 3, 8, 2, 9]\n",
            "[4, 9, 2, 1, 4]\n",
            "[5, 12, 10, 3, 13]\n"
          ]
        }
      ],
      "source": [
        "a = [1,3,8,2,9]\n",
        "b = [4,9,2,1,4]\n",
        "\n",
        "c = [x+y for x,y in zip(a,b)]\n",
        "\n",
        "print(a)\n",
        "print(b)\n",
        "print(c) # its elements are the sums of the elements from a and b"
      ]
    },
    {
      "cell_type": "markdown",
      "metadata": {},
      "source": [
        "The mechanisms of understanding can also be used in the case of dictionaries:"
      ]
    },
    {
      "cell_type": "code",
      "execution_count": 110,
      "metadata": {},
      "outputs": [
        {
          "name": "stdout",
          "output_type": "stream",
          "text": [
            "{'one': 1, 'two': 2, 'three': 3, 'four': 4, 'five': 5, 'six': 6, 'seven': 7}\n"
          ]
        }
      ],
      "source": [
        "a = [\"one\",\"two\",\"three\",\"four\",\"five\",\"six\",\"seven\"]\n",
        "b = range(1,8)\n",
        "d = {i:s for i,s in zip(a,b)}\n",
        "print(d)"
      ]
    },
    {
      "cell_type": "markdown",
      "metadata": {},
      "source": [
        "> **Question 7**\n",
        ">\n",
        "> Can all operations that can be performed using list and dictionary comprehensions be performed using a for loop? What are the main advantages of these techniques compared to using for loops?"
      ]
    },
    {
      "cell_type": "markdown",
      "metadata": {},
      "source": [
        "## Definition of Functions\n",
        "\n",
        "Given what has already been said about indentation, the definition of a function is very natural:"
      ]
    },
    {
      "cell_type": "code",
      "execution_count": 111,
      "metadata": {},
      "outputs": [
        {
          "name": "stdout",
          "output_type": "stream",
          "text": [
            "9\n"
          ]
        }
      ],
      "source": [
        "def fun(x, y):\n",
        "    return x**y\n",
        "\n",
        "print(fun(3,2)) # the default value \"2\" is used"
      ]
    },
    {
      "cell_type": "markdown",
      "metadata": {},
      "source": [
        "Furthermore, similarly to what happens with the C language, it is possible to define default values for parameters:"
      ]
    },
    {
      "cell_type": "code",
      "execution_count": 112,
      "metadata": {},
      "outputs": [
        {
          "name": "stdout",
          "output_type": "stream",
          "text": [
            "9\n"
          ]
        }
      ],
      "source": [
        "def fun(x, y=2):\n",
        "    return x**y\n",
        "\n",
        "print(fun(3)) #the default value \"2\" is used"
      ]
    },
    {
      "cell_type": "markdown",
      "metadata": {},
      "source": [
        "The parameters of a function can be specified in a different order than the one in which they were defined by calling them by name:"
      ]
    },
    {
      "cell_type": "code",
      "execution_count": 113,
      "metadata": {},
      "outputs": [
        {
          "name": "stdout",
          "output_type": "stream",
          "text": [
            "8\n"
          ]
        }
      ],
      "source": [
        "print(fun(y=3,x=2))"
      ]
    },
    {
      "cell_type": "markdown",
      "metadata": {},
      "source": [
        "It is possible to define a function that returns more than one element using tuples:"
      ]
    },
    {
      "cell_type": "code",
      "execution_count": 114,
      "metadata": {},
      "outputs": [
        {
          "name": "stdout",
          "output_type": "stream",
          "text": [
            "(8, 9)\n",
            "8 9\n"
          ]
        }
      ],
      "source": [
        "def soMuchFun(x,y):\n",
        "    return x**y, y**x\n",
        "\n",
        "print(soMuchFun(2,3))\n",
        "\n",
        "a,b=soMuchFun(2,3) # I can \"unpack\" the returned tuple\n",
        "print(a,b)"
      ]
    },
    {
      "cell_type": "markdown",
      "metadata": {},
      "source": [
        "It is also possible to define anonymous functions as follows:"
      ]
    },
    {
      "cell_type": "code",
      "execution_count": 115,
      "metadata": {},
      "outputs": [
        {
          "name": "stdout",
          "output_type": "stream",
          "text": [
            "4\n",
            "5\n",
            "(4, 9)\n"
          ]
        }
      ],
      "source": [
        "myfun = lambda x: x**2 #one input and one output\n",
        "print(myfun(2))\n",
        "\n",
        "myfun1 = lambda x,y: x+y #two inputs and one output\n",
        "print(myfun1(2,3))\n",
        "\n",
        "myfun2 = lambda x,y: (x**2,y**2) #two inputs and two outputs\n",
        "print(myfun2(2,3))"
      ]
    },
    {
      "cell_type": "markdown",
      "metadata": {},
      "source": [
        "> **Question 8**\n",
        ">\n",
        "> What is the advantage of defining a function using **lambda**? What are its limitations?"
      ]
    },
    {
      "cell_type": "markdown",
      "metadata": {},
      "source": [
        "## Map and Filter\n",
        "\n",
        "The functions **map** and **filter** allow operations to be performed on the elements of a list. In particular, **map** applies a function to all elements of a list:"
      ]
    },
    {
      "cell_type": "code",
      "execution_count": 116,
      "metadata": {},
      "outputs": [
        {
          "name": "stdout",
          "output_type": "stream",
          "text": [
            "[0, 1, 2, 3, 4, 5]\n",
            "[0, 1, 4, 9, 16, 25]\n"
          ]
        }
      ],
      "source": [
        "def pow2(x):\n",
        "    return(x**2)\n",
        "\n",
        "l1 = list(range(6))\n",
        "l2 = list(map(pow2,l1)) # Applies pow2 to all elements of the list\n",
        "print(l1)\n",
        "print(l2)"
      ]
    },
    {
      "cell_type": "markdown",
      "metadata": {},
      "source": [
        "When using **map** and **filter**, anonymous functions become particularly useful, allowing us to write more compactly. For example, we can rewrite what was seen above as follows:"
      ]
    },
    {
      "cell_type": "code",
      "execution_count": 117,
      "metadata": {},
      "outputs": [
        {
          "name": "stdout",
          "output_type": "stream",
          "text": [
            "[0, 1, 4, 9, 16, 25]\n"
          ]
        }
      ],
      "source": [
        "l2 = list(map(lambda x: x**2, l1))\n",
        "print(l2)"
      ]
    },
    {
      "cell_type": "markdown",
      "metadata": {},
      "source": [
        "**Filter** allows selecting a subset of the elements of a list based on a condition. The condition is specified by passing a function that takes the list element as input and returns a boolean:"
      ]
    },
    {
      "cell_type": "code",
      "execution_count": 118,
      "metadata": {},
      "outputs": [
        {
          "name": "stdout",
          "output_type": "stream",
          "text": [
            "[0, 2, 4]\n"
          ]
        }
      ],
      "source": [
        "print(list(filter(lambda x: x%2==0,l1))) # Filter only even numbers"
      ]
    },
    {
      "cell_type": "markdown",
      "metadata": {},
      "source": [
        "## Object-Oriented Programming - Definition of Classes"
      ]
    },
    {
      "cell_type": "markdown",
      "metadata": {},
      "source": [
        "Object-oriented programming in Python is intuitive. The main differences compared to the most common object-oriented programming languages are the following:\n",
        " * visibility modifiers do not exist (**private**, **protected**, and **public**). By convention, all private symbols are preceded by \"\\_\\_\";\n",
        " * every method is a function with a default argument (**self**) that represents the object's state;\n",
        " * the constructor is called \"\\_\\_init\\_\\_\"."
      ]
    },
    {
      "cell_type": "code",
      "execution_count": 119,
      "metadata": {},
      "outputs": [
        {
          "name": "stdout",
          "output_type": "stream",
          "text": [
            "3\n",
            "27\n",
            "729\n"
          ]
        }
      ],
      "source": [
        "class Class(object): # inherit from the standard \"object\" class\n",
        "    def __init__(self, x): # constructor\n",
        "        self.x=x # insert the value x into the object's state\n",
        "\n",
        "    def print_value(self):\n",
        "        print(self.x)\n",
        "\n",
        "    def power(self,y=2):\n",
        "        self.x =  self.x**y\n",
        "\n",
        "c = Class(3)\n",
        "c.print_value()\n",
        "c.power(3)\n",
        "c.print_value()\n",
        "c.power()\n",
        "c.print_value()"
      ]
    },
    {
      "cell_type": "markdown",
      "metadata": {},
      "source": [
        "To extend a class, one does as follows:"
      ]
    },
    {
      "cell_type": "code",
      "execution_count": 120,
      "metadata": {},
      "outputs": [
        {
          "name": "stdout",
          "output_type": "stream",
          "text": [
            "yeah 4\n"
          ]
        }
      ],
      "source": [
        "class Class2(Class): # derive the class \"Class\" and inherit methods and properties\n",
        "    def __init__(self,x):\n",
        "        super(Class2, self).__init__(x) # call the constructor of the parent class\n",
        "    def prt(self): # redefine the prt method\n",
        "        print(\"yeah\",self.x)\n",
        "        \n",
        "c2 = Class2(2)\n",
        "c2.power()\n",
        "c2.prt()"
      ]
    },
    {
      "cell_type": "markdown",
      "metadata": {},
      "source": [
        "## Duck Typing\n",
        "\n",
        "To identify data types, Python follows the principle of <a href=\"https://en.wikipedia.org/wiki/Duck_typing\">duck typing</a>. According to this principle, types are defined using the _duck test_:\n",
        "\n",
        "<blockquote>If it looks like a duck, swims like a duck, and quacks like a duck, then it probably is a duck.</blockquote>\n",
        "\n",
        "This means that types are defined in relation to the operations that can be performed on them. Let's look at an example (taken from Wikipedia)."
      ]
    },
    {
      "cell_type": "code",
      "execution_count": 121,
      "metadata": {},
      "outputs": [
        {
          "name": "stdout",
          "output_type": "stream",
          "text": [
            "Sparrow flying\n",
            "Airplane flying\n",
            "Error: 'Whale' object has no attribute 'fly'\n"
          ]
        }
      ],
      "source": [
        "class Sparrow(object):\n",
        "    def fly(self):\n",
        "        print(\"Sparrow flying\")\n",
        "\n",
        "class Airplane(object):\n",
        "    def fly(self):\n",
        "        print(\"Airplane flying\")\n",
        "\n",
        "class Whale(object):\n",
        "    def swim(self):\n",
        "        print(\"Whale swimming\")\n",
        "\n",
        "def lift_off(entity):\n",
        "    entity.fly()\n",
        "\n",
        "sparrow = Sparrow()\n",
        "airplane = Airplane()\n",
        "whale = Whale()\n",
        "\n",
        "try:\n",
        "    lift_off(sparrow)\n",
        "    lift_off(airplane)\n",
        "    lift_off(whale) #Error, the \"type\" of this object does not allow executing the \"fly\" method.\n",
        "                    #According to the duck test, this type is incompatible\n",
        "except AttributeError as e:\n",
        "    print(\"Error:\",e)"
      ]
    },
    {
      "cell_type": "markdown",
      "metadata": {},
      "source": [
        "## Exceptions\n",
        "Similar to many modern languages, Python supports the use of exceptions. It is possible to catch an exception with the `try - except` construct:"
      ]
    },
    {
      "cell_type": "code",
      "execution_count": 122,
      "metadata": {},
      "outputs": [
        {
          "name": "stdout",
          "output_type": "stream",
          "text": [
            "Houston, abbiamo un problema!\n"
          ]
        }
      ],
      "source": [
        "try:\n",
        "    5/0\n",
        "except:\n",
        "    print(\"Houston, we have a problem!\")"
      ]
    },
    {
      "cell_type": "markdown",
      "metadata": {},
      "source": [
        "In Python, exceptions are typed. We can decide which types of exceptions to catch as follows:"
      ]
    },
    {
      "cell_type": "code",
      "execution_count": 123,
      "metadata": {},
      "outputs": [
        {
          "name": "stdout",
          "output_type": "stream",
          "text": [
            "Houston, abbiamo un problema!\n"
          ]
        }
      ],
      "source": [
        "try:\n",
        "    5/0\n",
        "except ZeroDivisionError:\n",
        "    print(\"Houston, we have a problem!\")"
      ]
    },
    {
      "cell_type": "markdown",
      "metadata": {},
      "source": [
        "We can access the triggered exception (e.g., to get more information) as follows:"
      ]
    },
    {
      "cell_type": "code",
      "execution_count": 124,
      "metadata": {},
      "outputs": [
        {
          "name": "stdout",
          "output_type": "stream",
          "text": [
            "Houston, abbiamo un problema!\n",
            "division by zero\n"
          ]
        }
      ],
      "source": [
        "try:\n",
        "    5/0\n",
        "except ZeroDivisionError as e:\n",
        "    print(\"Houston, we have a problem!\")\n",
        "    print(e)"
      ]
    },
    {
      "cell_type": "markdown",
      "metadata": {},
      "source": [
        "It is possible to raise an exception using `raise`:\n",
        "\n",
        "```python\n",
        "def div(x,y):\n",
        "    if y==0:\n",
        "        raise ZeroDivisionError() #raises an exception\n",
        "    else:\n",
        "        return x/y\n",
        "div(5,2)\n",
        "div(5,0)\n",
        "```"
      ]
    },
    {
      "cell_type": "markdown",
      "metadata": {},
      "source": [
        "We can define new exceptions by extending the `Exception` class:\n",
        "\n",
        "```python\n",
        "class MyException(Exception):\n",
        "    def __init__(self, message):\n",
        "        self.message = message\n",
        "\n",
        "raise MyException(\"Exception!\")\n",
        "```"
      ]
    },
    {
      "cell_type": "markdown",
      "metadata": {},
      "source": [
        "A fast and convenient way to raise an exception (an AssertionError specifically) when something goes wrong, is to use `assert`, which takes a boolean as input and, optionally, an error message. The boolean should be set to `False` if something went wrong. Let's see an example:\n",
        "\n",
        "```python\n",
        "def div(x,y):\n",
        "    assert y!=0, \"Cannot divide by zero!\"\n",
        "    return x/y\n",
        "\n",
        "div(5,2)\n",
        "div(5,0)\n",
        "```"
      ]
    },
    {
      "cell_type": "markdown",
      "metadata": {},
      "source": [
        "## Definition of Modules\n",
        "When building complex programs, it can be useful to group function and class definitions into modules. The simplest way to define a module in Python is to place the definitions inside a dedicated file `modulo.py`. The definitions can then be imported using the `from modulo import funzione` syntax, provided that the file calling the functions and the one defining the module are in the same folder. Let's see an example:\n",
        "\n",
        "```python\n",
        "#file modulo.py\n",
        "def mysum(a,b):\n",
        "    return a+b\n",
        "\n",
        "def myprod(a,b):\n",
        "    return a*b\n",
        "```\n",
        "\n",
        "```python\n",
        "#file main.py (same folder as modulo.py)\n",
        "from modulo import mysum, myprod\n",
        "print(mysum(2,3)) #5\n",
        "print(myprod(2,3)) #6\n",
        "```"
      ]
    },
    {
      "cell_type": "markdown",
      "metadata": {},
      "source": [
        "Further information on more advanced uses of modules and packages can be found here: https://docs.python.org/3/tutorial/modules.html."
      ]
    },
    {
      "cell_type": "code",
      "execution_count": 130,
      "metadata": {},
      "outputs": [],
      "source": [
        "import numpy as np #The \"as\" notation allows us to reference the numpy namespace simply with np in the future"
      ]
    },
    {
      "cell_type": "code",
      "execution_count": 131,
      "metadata": {},
      "outputs": [
        {
          "name": "stdout",
          "output_type": "stream",
          "text": [
            "List of lists: [[1, 2, 3], [4, 5, 2], [1, 8, 3]]\n",
            "Numpy array:\n",
            " [[1 2 3]\n",
            " [4 5 2]\n",
            " [1 8 3]]\n",
            "Numpy array from tuple:\n",
            " [[1 2 3]\n",
            " [4 5 6]]\n"
          ]
        }
      ],
      "source": [
        "l = [[1,2,3],[4,5,2],[1,8,3]] #a list containing three lists\n",
        "print(\"List of lists:\",l) #it is displayed as defined\n",
        "a = np.array(l) #Build a numpy array from the list of lists\n",
        "print(\"Numpy array:\\n\",a) #each inner list is identified as a row of a two-dimensional matrix\n",
        "print(\"Numpy array from tuple:\\n\",np.array(((1,2,3),(4,5,6)))) #Can also create numpy arrays from tuples"
      ]
    },
    {
      "cell_type": "markdown",
      "metadata": {},
      "source": [
        "Every numpy array has a _shape_ property that allows us to determine the number of dimensions of the structure:"
      ]
    },
    {
      "cell_type": "code",
      "execution_count": 132,
      "metadata": {},
      "outputs": [
        {
          "name": "stdout",
          "output_type": "stream",
          "text": [
            "(3, 3)\n"
          ]
        }
      ],
      "source": [
        "print(a.shape) # This is a 3 x 3 matrix"
      ]
    },
    {
      "cell_type": "markdown",
      "metadata": {},
      "source": [
        "Let's look at a few more examples"
      ]
    },
    {
      "cell_type": "code",
      "execution_count": 133,
      "metadata": {},
      "outputs": [
        {
          "name": "stdout",
          "output_type": "stream",
          "text": [
            "Array: [1 2 3 4] (4,)\n",
            "Matrix:\n",
            " [[1 2 3 4]\n",
            " [5 4 2 3]\n",
            " [7 5 3 2]\n",
            " [0 2 3 1]] (4, 4)\n",
            "matrix:\n",
            " [[['1' '2' '3' '4']\n",
            "  ['a' 'b' 'c' 'd']]\n",
            "\n",
            " [['5' '4' '2' '3']\n",
            "  ['a' 'b' 'c' 'd']]\n",
            "\n",
            " [['7' '5' '3' '2']\n",
            "  ['a' 'b' 'c' 'd']]\n",
            "\n",
            " [['0' '2' '3' '1']\n",
            "  ['a' 'b' 'c' 'd']]] (4, 2, 4)\n"
          ]
        }
      ],
      "source": [
        "array = np.array([1,2,3,4])\n",
        "matrix = np.array([[1,2,3,4],[5,4,2,3],[7,5,3,2],[0,2,3,1]])\n",
        "tensor = np.array([[[1,2,3,4],['a','b','c','d']],[[5,4,2,3],['a','b','c','d']],[[7,5,3,2],['a','b','c','d']],[[0,2,3,1],['a','b','c','d']]])\n",
        "print('Array:',array, array.shape) #one-dimensional array, it will have only one dimension\n",
        "print('Matrix:\\n',matrix, matrix.shape)\n",
        "print('matrix:\\n',tensor, tensor.shape) #tensor, it will have two dimensions"
      ]
    },
    {
      "cell_type": "markdown",
      "metadata": {},
      "source": [
        "Let's see some operations between NumPy arrays:"
      ]
    },
    {
      "cell_type": "code",
      "execution_count": null,
      "metadata": {},
      "outputs": [
        {
          "name": "stdout",
          "output_type": "stream",
          "text": [
            "Sum: [ 5  5 11  5]\n",
            "Elementwise multiplication: [ 4  6 24  4]\n",
            "Power of two: [ 1  4  9 16]\n",
            "Elementwise power: [   1    8 6561    4]\n",
            "Vector product: 38\n",
            "Minimum: 1\n",
            "Maximum: 4\n",
            "Sum: 16\n",
            "Product: 96\n",
            "Mean: 2.5\n"
          ]
        }
      ],
      "source": [
        "a1 = np.array([1,2,3,4]) \n",
        "a2 = np.array([4,3,8,1]) \n",
        "print(\"Sum:\",a1+a2) #somma tra vettori\n",
        "print(\"Elementwise multiplication:\",a1*a2) #moltiplicazione tra elementi corrispondenti\n",
        "print(\"Power of two:\",a1**2) #quadrato degli elementi\n",
        "print(\"Elementwise power:\",a1**a2) #elevamento a potenza elemento per elemento\n",
        "print(\"Scalar product:\",a1.dot(a2)) #prodotto scalare tra vettori\n",
        "print(\"Minimum:\",a1.min()) #minimo dell'array\n",
        "print(\"Maximum:\",a1.max()) #massimo dell'array\n",
        "print(\"Sum:\",a2.sum()) #somma di tutti i valori dell'array\n",
        "print(\"Product:\",a2.prod()) #prodotto di tutti i valori dell'array\n",
        "print(\"Mean:\",a1.mean()) #media di tutti i valori dell'array"
      ]
    },
    {
      "cell_type": "markdown",
      "metadata": {},
      "source": [
        "Operations on matrices:"
      ]
    },
    {
      "cell_type": "code",
      "execution_count": null,
      "metadata": {},
      "outputs": [
        {
          "name": "stdout",
          "output_type": "stream",
          "text": [
            "Sum: [[ 9  4  4  8]\n",
            " [ 5  8  8  4]\n",
            " [11  9  5  2]\n",
            " [ 0  3 11  7]]\n",
            "Elementwise product:\n",
            " [[ 8  4  3 16]\n",
            " [ 0 16 12  3]\n",
            " [28 20  6  0]\n",
            " [ 0  2 24  6]]\n",
            "Power of two:\n",
            " [[ 1  4  9 16]\n",
            " [25 16  4  9]\n",
            " [49 25  9  4]\n",
            " [ 0  4  9  1]]\n",
            "Elementwise power:\n",
            " [[   1    4    3  256]\n",
            " [   1  256   64    3]\n",
            " [2401  625    9    1]\n",
            " [   1    2 6561    1]]\n",
            "Matrix multiplication:\n",
            " [[20 26 51 30]\n",
            " [48 37 57 42]\n",
            " [68 48 59 45]\n",
            " [12 21 26  8]]\n",
            "Minimum: 0\n",
            "Maximum: 7\n",
            "Minimum along columns: [0 2 2 1]\n",
            "Minimum along rows: [1 2 2 0]\n",
            "Sum: 47\n",
            "Mean: 2.9375\n",
            "Diagonal: [1 4 3 1]\n",
            "Transposed:\n",
            " [[1 5 7 0]\n",
            " [2 4 5 2]\n",
            " [3 2 3 3]\n",
            " [4 3 2 1]]\n"
          ]
        }
      ],
      "source": [
        "m1 = np.array([[1,2,3,4],[5,4,2,3],[7,5,3,2],[0,2,3,1]]) \n",
        "m2 = np.array([[8,2,1,4],[0,4,6,1],[4,4,2,0],[0,1,8,6]]) \n",
        "\n",
        "print(\"Sum:\",m1+m2) # Matrix sum\n",
        "print(\"Elementwise product:\\n\",m1*m2) # Element-wise product\n",
        "print(\"Power of two:\\n\",m1**2) # Square of the elements\n",
        "print(\"Elementwise power:\\n\",m1**m2) # Element-wise power\n",
        "print(\"Matrix multiplication:\\n\",m1.dot(m2)) # Matrix multiplication\n",
        "print(\"Minimum:\",m1.min()) # Minimum\n",
        "print(\"Maximum:\",m1.max()) # Maximum\n",
        "print(\"Minimum along columns:\",m1.min(0)) # Minimum along columns\n",
        "print(\"Minimum along rows:\",m1.min(1)) # Minimum along rows\n",
        "print(\"Sum:\",m1.sum()) # Sum of values\n",
        "print(\"Mean:\",m1.mean()) # Mean value\n",
        "print(\"Diagonal:\",m1.diagonal()) # Main diagonal of the matrix\n",
        "print(\"Transposed:\\n\",m1.T) # Transposed matrix"
      ]
    },
    {
      "cell_type": "markdown",
      "metadata": {},
      "source": [
        "## Exercises"
      ]
    },
    {
      "cell_type": "markdown",
      "metadata": {},
      "source": [
        "> **Exercise 1**\n",
        ">\n",
        "> Define the list `[1,8,2,6,15,21,76,22,0,111,23,12,24]`, then:\n",
        "> * Print the first number of the list;\n",
        "> * Print the last number of the list;\n",
        "> * Print the sum of numbers with odd indices (e.g., 1,3,5,...) in the list;\n",
        "> * Print the list sorted in reverse order;\n",
        "> * Print the average of the numbers contained in the list."
      ]
    },
    {
      "cell_type": "markdown",
      "metadata": {},
      "source": [
        "> **Exercise 2**\n",
        ">\n",
        "> Define a dictionary `mesi` that maps the names of the months to their numerical equivalents. For example, the result of:\n",
        "> ```python\n",
        "> print mesi['Gennaio']\n",
        "> ```\n",
        "> should be\n",
        "> ```python\n",
        "> 1\n",
        "> ```"
      ]
    },
    {
      "cell_type": "markdown",
      "metadata": {},
      "source": [
        "> **Exercise 3**\n",
        ">\n",
        "> Consider the following lists:\n",
        ">\n",
        "> ```python\n",
        "> l1 = [1,2,3]\n",
        "> l2 = [4,5,6]\n",
        "> l3 = [5,2,6]\n",
        "> ```\n",
        ">\n",
        "> Combine a for loop, **zip** and **enumerate** to obtain the following output:\n",
        ">\n",
        "> ```\n",
        "> 0 -> 10\n",
        "> 1 -> 9\n",
        "> 2 -> 15\n",
        "> ```"
      ]
    },
    {
      "cell_type": "markdown",
      "metadata": {},
      "source": [
        "> **Exercise 4**\n",
        ">\n",
        "> Repeat exercise **2** using dictionary comprehension. To do this, first define the list `['January','February','March','April','May','June',`\n",
        "> `'July','August','September','October','November','December']`. \n",
        ">\n",
        "> Then build the desired dictionary using dictionary comprehension and the `enum` function"
      ]
    },
    {
      "cell_type": "markdown",
      "metadata": {},
      "source": [
        "> **Exercise 5**\n",
        ">\n",
        "> Given the variables:\n",
        ">\n",
        "> ```python\n",
        "> obj='triangle'\n",
        "> area=21.167822\n",
        "> ```\n",
        ">\n",
        "> print the strings:\n",
        "> * The area of the triangle is 21.16\n",
        "> * 21.1678 is the area of the triangle\n",
        ">\n",
        "> Use string formatting to obtain the result."
      ]
    },
    {
      "cell_type": "markdown",
      "metadata": {},
      "source": [
        "> **Exercise 6**\n",
        ">\n",
        "> Write a function that extracts the domain from an email address. For example, if the address is \"furnari@dmi.unict.it\", the function must extract \"dmi.unict.it\"."
      ]
    }
  ],
  "metadata": {
    "anaconda-cloud": {},
    "kernelspec": {
      "display_name": "Python 3",
      "language": "python",
      "name": "python3"
    },
    "language_info": {
      "codemirror_mode": {
        "name": "ipython",
        "version": 3
      },
      "file_extension": ".py",
      "mimetype": "text/x-python",
      "name": "python",
      "nbconvert_exporter": "python",
      "pygments_lexer": "ipython3",
      "version": "3.11.4"
    }
  },
  "nbformat": 4,
  "nbformat_minor": 1
}
