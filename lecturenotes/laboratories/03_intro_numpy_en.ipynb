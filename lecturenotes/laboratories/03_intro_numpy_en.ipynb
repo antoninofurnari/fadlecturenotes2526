{
  "cells": [
    {
      "cell_type": "markdown",
      "metadata": {},
      "source": [
        "# Introduction to Numpy\n",
        "\n",
        "**Numpy** is the reference library of **scipy** for scientific computing. The core of the library consists of **numpy arrays** which allow for easy handling of operations between vectors and matrices. Python arrays are generally **tensors**, which are numerical structures with a variable number of dimensions, and can therefore be one-dimensional arrays, two-dimensional matrices, or multi-dimensional structures (e.g., 10 x 10 x 10 cuboids). To use numpy arrays, we must first import the **numpy** package:"
      ]
    },
    {
      "cell_type": "code",
      "execution_count": 130,
      "metadata": {},
      "outputs": [],
      "source": [
        "import numpy as np #the \"as\" notation allows us to reference the numpy namespace simply with np in the future"
      ]
    },
    {
      "cell_type": "markdown",
      "metadata": {},
      "source": [
        "## Numpy Arrays\n",
        "A multi-dimensional numpy array can be defined from a list of lists, as follows:"
      ]
    },
    {
      "cell_type": "code",
      "execution_count": 131,
      "metadata": {},
      "outputs": [
        {
          "name": "stdout",
          "output_type": "stream",
          "text": [
            "List of lists: [[1, 2, 3], [4, 5, 2], [1, 8, 3]]\n",
            "Numpy array:\n",
            " [[1 2 3]\n",
            " [4 5 2]\n",
            " [1 8 3]]\n",
            "Numpy array from tuple:\n",
            " [[1 2 3]\n",
            " [4 5 6]]\n"
          ]
        }
      ],
      "source": [
        "l = [[1,2,3],[4,5,2],[1,8,3]] #a list containing three lists\n",
        "print(\"List of lists:\",l) #it is displayed as we defined it\n",
        "a = np.array(l) #I build a numpy array from the list of lists\n",
        "print(\"Numpy array:\\n\",a) #each inner list is identified as a row of a two-dimensional matrix\n",
        "print(\"Numpy array from tuple:\\n\",np.array(((1,2,3),(4,5,6)))) #I can also create numpy arrays from tuples"
      ]
    },
    {
      "cell_type": "markdown",
      "metadata": {},
      "source": [
        "> **Question 1**\n",
        ">\n",
        "> What is an obvious advantage of NumPy arrays compared to lists, given the examples shown above?"
      ]
    },
    {
      "cell_type": "markdown",
      "metadata": {},
      "source": [
        "Every numpy array has a _shape_ property that allows us to determine the number of dimensions of the structure:"
      ]
    },
    {
      "cell_type": "code",
      "execution_count": 132,
      "metadata": {},
      "outputs": [
        {
          "name": "stdout",
          "output_type": "stream",
          "text": [
            "(3, 3)\n"
          ]
        }
      ],
      "source": [
        "print(a.shape) #it is a 3 x 3 matrix"
      ]
    },
    {
      "cell_type": "markdown",
      "metadata": {},
      "source": [
        "Let's look at some other examples:"
      ]
    },
    {
      "cell_type": "code",
      "execution_count": 133,
      "metadata": {},
      "outputs": [
        {
          "name": "stdout",
          "output_type": "stream",
          "text": [
            "Array: [1 2 3 4] (4,)\n",
            "Matrix:\n",
            " [[1 2 3 4]\n",
            " [5 4 2 3]\n",
            " [7 5 3 2]\n",
            " [0 2 3 1]] (4, 4)\n",
            "matrix:\n",
            " [[['1' '2' '3' '4']\n",
            "  ['a' 'b' 'c' 'd']]\n",
            "\n",
            " [['5' '4' '2' '3']\n",
            "  ['a' 'b' 'c' 'd']]\n",
            "\n",
            " [['7' '5' '3' '2']\n",
            "  ['a' 'b' 'c' 'd']]\n",
            "\n",
            " [['0' '2' '3' '1']\n",
            "  ['a' 'b' 'c' 'd']]] (4, 2, 4)\n"
          ]
        }
      ],
      "source": [
        "array = np.array([1,2,3,4])\n",
        "matrix = np.array([[1,2,3,4],[5,4,2,3],[7,5,3,2],[0,2,3,1]])\n",
        "tensor = np.array([[[1,2,3,4],['a','b','c','d']],[[5,4,2,3],['a','b','c','d']],[[7,5,3,2],['a','b','c','d']],[[0,2,3,1],['a','b','c','d']]])\n",
        "print('Array:',array, array.shape) # one-dimensional array, will have only one dimension\n",
        "print('Matrix:\\n',matrix, matrix.shape)\n",
        "print('matrix:\\n',tensor, tensor.shape) # tensor, will have two dimensions"
      ]
    },
    {
      "cell_type": "markdown",
      "metadata": {},
      "source": [
        "> **Question 2**\n",
        ">\n",
        "> In Numpy, is there a formal difference between a one-dimensional array and a matrix containing a single row (or a single column)?"
      ]
    },
    {
      "cell_type": "markdown",
      "metadata": {},
      "source": [
        "Numpy arrays support element-by-element operations. Let's look at the main operations of this type:"
      ]
    },
    {
      "cell_type": "code",
      "execution_count": null,
      "metadata": {},
      "outputs": [
        {
          "name": "stdout",
          "output_type": "stream",
          "text": [
            "Sum: [ 5  5 11  5]\n",
            "Elementwise multiplication: [ 4  6 24  4]\n",
            "Power of two: [ 1  4  9 16]\n",
            "Elementwise power: [   1    8 6561    4]\n",
            "Vector product: 38\n",
            "Minimum: 1\n",
            "Maximum: 4\n",
            "Sum: 16\n",
            "Product: 96\n",
            "Mean: 2.5\n"
          ]
        }
      ],
      "source": [
        "a1 = np.array([1,2,3,4]) \n",
        "a2 = np.array([4,3,8,1]) \n",
        "print(\"Sum:\",a1+a2) #Vector sum\n",
        "print(\"Elementwise multiplication:\",a1*a2) #Element-wise multiplication\n",
        "print(\"Power of two:\",a1**2) #Square of elements\n",
        "print(\"Elementwise power:\",a1**a2) #Element-wise power\n",
        "print(\"Scalar product:\",a1.dot(a2)) #Vector scalar product\n",
        "print(\"Minimum:\",a1.min()) #Array minimum\n",
        "print(\"Maximum:\",a1.max()) #Array maximum\n",
        "print(\"Sum:\",a2.sum()) #Sum of all array values\n",
        "print(\"Product:\",a2.prod()) #Product of all array values\n",
        "print(\"Mean:\",a1.mean()) #Mean of all array values"
      ]
    },
    {
      "cell_type": "markdown",
      "metadata": {},
      "source": [
        "Operations on matrices:"
      ]
    },
    {
      "cell_type": "code",
      "execution_count": 135,
      "metadata": {},
      "outputs": [
        {
          "name": "stdout",
          "output_type": "stream",
          "text": [
            "Sum: [[ 9  4  4  8]\n",
            " [ 5  8  8  4]\n",
            " [11  9  5  2]\n",
            " [ 0  3 11  7]]\n",
            "Elementwise product:\n",
            " [[ 8  4  3 16]\n",
            " [ 0 16 12  3]\n",
            " [28 20  6  0]\n",
            " [ 0  2 24  6]]\n",
            "Power of two:\n",
            " [[ 1  4  9 16]\n",
            " [25 16  4  9]\n",
            " [49 25  9  4]\n",
            " [ 0  4  9  1]]\n",
            "Elementwise power:\n",
            " [[   1    4    3  256]\n",
            " [   1  256   64    3]\n",
            " [2401  625    9    1]\n",
            " [   1    2 6561    1]]\n",
            "Matrix multiplication:\n",
            " [[20 26 51 30]\n",
            " [48 37 57 42]\n",
            " [68 48 59 45]\n",
            " [12 21 26  8]]\n",
            "Minimum: 0\n",
            "Maximum: 7\n",
            "Minimum along columns: [0 2 2 1]\n",
            "Minimum along rows: [1 2 2 0]\n",
            "Sum: 47\n",
            "Mean: 2.9375\n",
            "Diagonal: [1 4 3 1]\n",
            "Transposed:\n",
            " [[1 5 7 0]\n",
            " [2 4 5 2]\n",
            " [3 2 3 3]\n",
            " [4 3 2 1]]\n"
          ]
        }
      ],
      "source": [
        "m1 = np.array([[1,2,3,4],[5,4,2,3],[7,5,3,2],[0,2,3,1]])\n",
        "m2 = np.array([[8,2,1,4],[0,4,6,1],[4,4,2,0],[0,1,8,6]])\n",
        "\n",
        "print(\"Sum:\",m1+m2) #matrix sum\n",
        "print(\"Elementwise product:\\n\",m1*m2) #element-wise product\n",
        "print(\"Power of two:\\n\",m1**2) #square of elements\n",
        "print(\"Elementwise power:\\n\",m1**m2) #element-wise power\n",
        "print(\"Matrix multiplication:\\n\",m1.dot(m2)) #matrix multiplication\n",
        "print(\"Minimum:\",m1.min()) #minimum\n",
        "print(\"Maximum:\",m1.max()) #maximum\n",
        "print(\"Minimum along columns:\",m1.min(0)) #minimum along columns\n",
        "print(\"Minimum along rows:\",m1.min(1)) #minimum along rows\n",
        "print(\"Sum:\",m1.sum()) #sum of values\n",
        "print(\"Mean:\",m1.mean()) #mean value\n",
        "print(\"Diagonal:\",m1.diagonal()) #main diagonal of the matrix\n",
        "print(\"Transposed:\\n\",m1.T) #transposed matrix"
      ]
    },
    {
      "cell_type": "markdown",
      "metadata": {},
      "source": [
        "> **Question 3**\n",
        ">\n",
        "> What is the advantage of using the operations illustrated above? What code would be needed to perform the operation `a1**a2` if `a1` and `a2` were Python lists rather than numpy arrays?"
      ]
    },
    {
      "cell_type": "markdown",
      "metadata": {},
      "source": [
        "## Linspace, Arange, Zeros, Ones, Eye and Random\n",
        "\n",
        "The functions **linspace**, **arange**, **zeros**, **ones**, **eye** and **random** of **numpy** are useful for generating numeric arrays on the fly. In particular, the function **linspace** allows generating a sequence of **n** equally spaced numbers ranging from a minimum value to a maximum value:"
      ]
    },
    {
      "cell_type": "code",
      "execution_count": 136,
      "metadata": {},
      "outputs": [
        {
          "name": "stdout",
          "output_type": "stream",
          "text": [
            "[10.  12.5 15.  17.5 20. ]\n"
          ]
        }
      ],
      "source": [
        "a=np.linspace(10,20,5) # generates 5 equally spaced values ranging from 10 to 20\n",
        "print(a)"
      ]
    },
    {
      "cell_type": "markdown",
      "metadata": {},
      "source": [
        "**arange** is very similar to **range**, but directly returns a **numpy** array:"
      ]
    },
    {
      "cell_type": "code",
      "execution_count": 137,
      "metadata": {},
      "outputs": [
        {
          "name": "stdout",
          "output_type": "stream",
          "text": [
            "[0 1 2 3 4 5 6 7 8 9]\n",
            "[1 2 3 4 5]\n",
            "[0 2 4 6]\n"
          ]
        }
      ],
      "source": [
        "print(np.arange(10)) #numbers from 0 to 9\n",
        "print(np.arange(1,6)) #numbers from 1 to 5\n",
        "print(np.arange(0,7,2)) #even numbers from 0 to 6"
      ]
    },
    {
      "cell_type": "markdown",
      "metadata": {},
      "source": [
        "> **Question 4**\n",
        ">\n",
        "> Is it possible to obtain the same result as `arange` using `range`? How?"
      ]
    },
    {
      "cell_type": "markdown",
      "metadata": {},
      "source": [
        "We can create arrays containing zero or one of arbitrary shapes using **zeros** and **ones**:"
      ]
    },
    {
      "cell_type": "code",
      "execution_count": 138,
      "metadata": {},
      "outputs": [
        {
          "name": "stdout",
          "output_type": "stream",
          "text": [
            "[[0. 0. 0. 0.]\n",
            " [0. 0. 0. 0.]\n",
            " [0. 0. 0. 0.]]\n",
            "[[1.]\n",
            " [1.]]\n"
          ]
        }
      ],
      "source": [
        "print(np.zeros((3,4)))#zeros and ones take as a parameter a tuple containing the desired dimensions\n",
        "print(np.ones((2,1)))"
      ]
    },
    {
      "cell_type": "markdown",
      "metadata": {},
      "source": [
        "The function **eye** allows you to create an identity square matrix:"
      ]
    },
    {
      "cell_type": "code",
      "execution_count": 139,
      "metadata": {},
      "outputs": [
        {
          "name": "stdout",
          "output_type": "stream",
          "text": [
            "[[1. 0. 0.]\n",
            " [0. 1. 0.]\n",
            " [0. 0. 1.]]\n",
            "[[1. 0. 0. 0. 0.]\n",
            " [0. 1. 0. 0. 0.]\n",
            " [0. 0. 1. 0. 0.]\n",
            " [0. 0. 0. 1. 0.]\n",
            " [0. 0. 0. 0. 1.]]\n"
          ]
        }
      ],
      "source": [
        "print(np.eye(3))\n",
        "print(np.eye(5))"
      ]
    },
    {
      "cell_type": "markdown",
      "metadata": {},
      "source": [
        "To build an array of random values (uniform distribution) between 0 and 1 (zero included, one excluded), just write:"
      ]
    },
    {
      "cell_type": "code",
      "execution_count": 140,
      "metadata": {},
      "outputs": [
        {
          "name": "stdout",
          "output_type": "stream",
          "text": [
            "[0.4455531  0.15464262 0.73300802 0.83126699 0.4840601 ]\n",
            "[[0.04519461 0.77306473]\n",
            " [0.81167333 0.33469426]\n",
            " [0.51806682 0.16306516]]\n"
          ]
        }
      ],
      "source": [
        "print(np.random.rand(5)) #an array with 5 random values between 0 and 1\n",
        "print(np.random.rand(3,2)) #a 3x2 matrix of random values between 0 and 1"
      ]
    },
    {
      "cell_type": "markdown",
      "metadata": {},
      "source": [
        "We can generate an array of random values normally (Gaussian) distributed with **randn**:"
      ]
    },
    {
      "cell_type": "code",
      "execution_count": 141,
      "metadata": {},
      "outputs": [
        {
          "name": "stdout",
          "output_type": "stream",
          "text": [
            "[[-0.27659656 -1.47446936]\n",
            " [ 0.30758864  0.95848991]\n",
            " [-0.18955928  0.98689232]\n",
            " [-1.06568839  0.79190779]\n",
            " [ 0.63691861 -1.36459616]]\n"
          ]
        }
      ],
      "source": [
        "print(np.random.randn(5,2))"
      ]
    },
    {
      "cell_type": "markdown",
      "metadata": {},
      "source": [
        "We will talk in more detail about the Gaussian distribution later."
      ]
    },
    {
      "cell_type": "markdown",
      "metadata": {},
      "source": [
        "We can generate integers between a minimum (inclusive) and a maximum (exclusive) using **randint**:"
      ]
    },
    {
      "cell_type": "code",
      "execution_count": 142,
      "metadata": {},
      "outputs": [
        {
          "name": "stdout",
          "output_type": "stream",
          "text": [
            "[ 0 26 31]\n",
            "[[ 7  9  8]\n",
            " [47  3 27]]\n"
          ]
        }
      ],
      "source": [
        "print(np.random.randint(0,50,3))#three values between 0 and 50 (exclusive)\n",
        "print(np.random.randint(0,50,(2,3)))#2x3 matrix of random integer values between 0 and 50 (exclusive)"
      ]
    },
    {
      "cell_type": "markdown",
      "metadata": {},
      "source": [
        "To generate random values reproducibly, you can specify a seed:"
      ]
    },
    {
      "cell_type": "code",
      "execution_count": 143,
      "metadata": {},
      "outputs": [
        {
          "name": "stdout",
          "output_type": "stream",
          "text": [
            "[0.69646919 0.28613933 0.22685145 0.55131477 0.71946897]\n"
          ]
        }
      ],
      "source": [
        "np.random.seed(123)\n",
        "print(np.random.rand(5))"
      ]
    },
    {
      "cell_type": "markdown",
      "metadata": {},
      "source": [
        "The code above (including the seed definition) returns the same results if rerun:"
      ]
    },
    {
      "cell_type": "code",
      "execution_count": 144,
      "metadata": {},
      "outputs": [
        {
          "name": "stdout",
          "output_type": "stream",
          "text": [
            "[0.69646919 0.28613933 0.22685145 0.55131477 0.71946897]\n"
          ]
        }
      ],
      "source": [
        "np.random.seed(123)\n",
        "print(np.random.rand(5))"
      ]
    },
    {
      "cell_type": "markdown",
      "metadata": {},
      "source": [
        "> **Question 5**\n",
        ">\n",
        "> What is the effect of re-running the previous cell changing the seed?"
      ]
    },
    {
      "cell_type": "markdown",
      "metadata": {},
      "source": [
        "## max, min, sum, argmax, argmin"
      ]
    },
    {
      "cell_type": "markdown",
      "metadata": {},
      "source": [
        "It is possible to calculate maxima and minima and sums of a matrix by rows and columns as follows:"
      ]
    },
    {
      "cell_type": "code",
      "execution_count": 145,
      "metadata": {},
      "outputs": [
        {
          "name": "stdout",
          "output_type": "stream",
          "text": [
            "[[  1  -5   0]\n",
            " [  4   3   6]\n",
            " [  5   8  -7]\n",
            " [ 10   6 -12]]\n",
            "\n",
            "[10  8  6]\n",
            "\n",
            "[ 1  6  8 10]\n",
            "\n",
            "[  1  -5 -12]\n",
            "\n",
            "[ -5   3  -7 -12]\n",
            "\n",
            "[ 20  12 -13]\n",
            "\n",
            "[-4 13  6  4]\n",
            "\n",
            "10\n",
            "-12\n",
            "19\n"
          ]
        }
      ],
      "source": [
        "mat = np.array([[1,-5,0],[4,3,6],[5,8,-7],[10,6,-12]])\n",
        "print(mat)\n",
        "print()\n",
        "print( mat.max(0))# Column maximums\n",
        "print()\n",
        "print(mat.max(1))# Row maximums\n",
        "print()\n",
        "print (mat.min(0))# Column minimums\n",
        "print()\n",
        "print(mat.min(1))# Row minimums\n",
        "print()\n",
        "print(mat.sum(0))# Column sum\n",
        "print()\n",
        "print(mat.sum(1))# Row sum\n",
        "print()\n",
        "print(mat.max())# Global maximum\n",
        "print(mat.min())# Global minimum\n",
        "print(mat.sum())# Global sum"
      ]
    },
    {
      "cell_type": "markdown",
      "metadata": {},
      "source": [
        "It is also possible to obtain the indices at which there are maxima and minima using the argmax function:"
      ]
    },
    {
      "cell_type": "code",
      "execution_count": 146,
      "metadata": {},
      "outputs": [
        {
          "name": "stdout",
          "output_type": "stream",
          "text": [
            "[3 2 1]\n"
          ]
        }
      ],
      "source": [
        "print(mat.argmax(0))"
      ]
    },
    {
      "cell_type": "markdown",
      "metadata": {},
      "source": [
        "We have a maximum in the fourth row in the first column, one in the third row in the second column, and one in the second row in the third column. Let's verify it:"
      ]
    },
    {
      "cell_type": "code",
      "execution_count": 147,
      "metadata": {},
      "outputs": [
        {
          "name": "stdout",
          "output_type": "stream",
          "text": [
            "10\n",
            "8\n",
            "6\n",
            "[10  8  6]\n"
          ]
        }
      ],
      "source": [
        "print(mat[3,0])\n",
        "print(mat[2,1])\n",
        "print(mat[1,2])\n",
        "print(mat.max(0))"
      ]
    },
    {
      "cell_type": "markdown",
      "metadata": {},
      "source": [
        "Similarly:"
      ]
    },
    {
      "cell_type": "code",
      "execution_count": 148,
      "metadata": {},
      "outputs": [
        {
          "name": "stdout",
          "output_type": "stream",
          "text": [
            "[0 2 1 0]\n",
            "[0 0 3]\n",
            "[1 1 2 2]\n"
          ]
        }
      ],
      "source": [
        "print(mat.argmax(1))\n",
        "print(mat.argmin(0))\n",
        "print(mat.argmin(1))"
      ]
    },
    {
      "cell_type": "markdown",
      "metadata": {},
      "source": [
        "## Indexing and Slicing\n",
        "Numpy arrays can be indexed in a similar way to Python lists:"
      ]
    },
    {
      "cell_type": "code",
      "execution_count": 149,
      "metadata": {},
      "outputs": [
        {
          "name": "stdout",
          "output_type": "stream",
          "text": [
            "arr[0]       -> 1\n",
            "arr[:3]      -> [1 2 3]\n",
            "arr[1:5:2]   -> [2 4]\n"
          ]
        }
      ],
      "source": [
        "arr = np.array([1,2,3,4,5])\n",
        "print(\"arr[0]       ->\",arr[0]) #first element of the array\n",
        "print(\"arr[:3]      ->\",arr[:3]) #first three elements\n",
        "print(\"arr[1:5:2]   ->\",arr[1:4:2]) #from the second to the fourth (inclusive) with a step of 2"
      ]
    },
    {
      "cell_type": "markdown",
      "metadata": {},
      "source": [
        "When indexing an array with more than one dimension using a single index, the first dimension is automatically indexed. Let's look at some examples with two-dimensional matrices:"
      ]
    },
    {
      "cell_type": "code",
      "execution_count": 150,
      "metadata": {},
      "outputs": [
        {
          "name": "stdout",
          "output_type": "stream",
          "text": [
            "Matrice:\n",
            " [[1 5 2 7]\n",
            " [2 7 3 2]\n",
            " [1 5 2 1]] (3, 4)\n",
            "mat[0]     -> [1 5 2 7]\n",
            "mat[-1]     -> [1 5 2 1]\n",
            "mat[::2]     -> [[1 5 2 7]\n",
            " [1 5 2 1]]\n"
          ]
        }
      ],
      "source": [
        "mat = np.array(([1,5,2,7],[2,7,3,2],[1,5,2,1]))\n",
        "print(\"Matrix:\\n\",mat,mat.shape) #matrix 3 x 4\n",
        "print(\"mat[0]     ->\",mat[0]) #a matrix is a collection of rows, so mat[0] returns the first row\n",
        "print(\"mat[-1]     ->\",mat[-1]) #last row\n",
        "print(\"mat[::2]     ->\",mat[::2]) #odd rows"
      ]
    },
    {
      "cell_type": "markdown",
      "metadata": {},
      "source": [
        "Let's see some examples with multi-dimensional tensors:"
      ]
    },
    {
      "cell_type": "code",
      "execution_count": 151,
      "metadata": {},
      "outputs": [
        {
          "name": "stdout",
          "output_type": "stream",
          "text": [
            "Matrice:\n",
            " [[[1 5 2 7]\n",
            "  [2 7 3 2]\n",
            "  [1 5 2 1]]\n",
            "\n",
            " [[1 5 2 7]\n",
            "  [2 7 3 2]\n",
            "  [1 5 2 1]]] (2, 3, 4)\n",
            "tens[0]    -> [[1 5 2 7]\n",
            " [2 7 3 2]\n",
            " [1 5 2 1]]\n",
            "tens[-1]    -> [[1 5 2 7]\n",
            " [2 7 3 2]\n",
            " [1 5 2 1]]\n"
          ]
        }
      ],
      "source": [
        "tens = np.array(([[1,5,2,7],\n",
        "                [2,7,3,2],\n",
        "                [1,5,2,1]],\n",
        "                [[1,5,2,7],\n",
        "                [2,7,3,2],\n",
        "                [1,5,2,1]]))\n",
        "print(\"Matrix:\\n\",tens,tens.shape) #tensor 2x3x4\n",
        "print(\"tens[0]    ->\",tens[0])#this is the first 3x4 matrix\n",
        "print(\"tens[-1]    ->\",tens[-1])#last 3x4 matrix"
      ]
    },
    {
      "cell_type": "markdown",
      "metadata": {},
      "source": [
        "Indexing can continue through the other dimensions by specifying an additional index in square brackets or by separating the various indices with a comma:"
      ]
    },
    {
      "cell_type": "code",
      "execution_count": 152,
      "metadata": {},
      "outputs": [
        {
          "name": "stdout",
          "output_type": "stream",
          "text": [
            "Matrice:\n",
            " [[1 5 2 7]\n",
            " [2 7 3 2]\n",
            " [1 5 2 1]] (3, 4)\n",
            "mat[2][1]  -> 5\n",
            "mat[0,0]   -> 1\n",
            "mat[0]     ->  [1 5 2 7]\n",
            "mat[:,0]   ->  [1 2 1]\n",
            "mat[0,:]   -> [1 5 2 7]\n",
            "mat[0:2,:] ->\n",
            " [[1 5 2 7]\n",
            " [2 7 3 2]]\n",
            "mat[:,0:2] ->\n",
            " [[1 5]\n",
            " [2 7]\n",
            " [1 5]]\n",
            "mat[-1]    -> [1 5 2 1]\n"
          ]
        }
      ],
      "source": [
        "mat = np.array(([1,5,2,7],[2,7,3,2],[1,5,2,1]))\n",
        "print(\"Matrix:\\n\",mat,mat.shape) #matrix 3 x 4\n",
        "print(\"mat[2][1]  ->\",mat[2][1]) #third row, second column\n",
        "print(\"mat[0,0]   ->\",mat[0,0]) #first row, first column (more compact notation)\n",
        "\n",
        "print(\"mat[0]     -> \",mat[0]) #returns the entire first row of the matrix\n",
        "print(\"mat[:,0]   -> \",mat[:,0]) #returns the first column of the matrix.\n",
        "                                #The two dots \":\" mean \"leave everything unchanged along this dimension\"\n",
        "print(\"mat[0,:]   ->\",mat[0,:]) #alternative notation to get the first row of the matrix\n",
        "print(\"mat[0:2,:] ->\\n\",mat[0:2,:]) #first two rows\n",
        "print(\"mat[:,0:2] ->\\n\",mat[:,0:2]) #first two columns\n",
        "print(\"mat[-1]    ->\",mat[-1]) #last row"
      ]
    },
    {
      "cell_type": "markdown",
      "metadata": {},
      "source": [
        "Case of multi-dimensional tensors:"
      ]
    },
    {
      "cell_type": "code",
      "execution_count": 153,
      "metadata": {},
      "outputs": [
        {
          "name": "stdout",
          "output_type": "stream",
          "text": [
            "mat[:,:,0] -> [['1' 'a']\n",
            " ['5' 'a']\n",
            " ['7' 'a']\n",
            " ['0' 'a']]\n",
            "mat[:,:,1] -> [['2' 'b']\n",
            " ['4' 'b']\n",
            " ['5' 'b']\n",
            " ['2' 'b']]\n",
            "mat[...,0] -> [['1' 'a']\n",
            " ['5' 'a']\n",
            " ['7' 'a']\n",
            " ['0' 'a']]\n",
            "mat[...,1] -> [['2' 'b']\n",
            " ['4' 'b']\n",
            " ['5' 'b']\n",
            " ['2' 'b']]\n"
          ]
        }
      ],
      "source": [
        "mat=np.array([[[1,2,3,4],['a','b','c','d']],\n",
        "              [[5,4,2,3],['a','b','c','d']],\n",
        "              [[7,5,3,2],['a','b','c','d']],\n",
        "              [[0,2,3,1],['a','b','c','d']]]) \n",
        "print(\"mat[:,:,0] ->\", mat[:,:,0]) #matrix contained in the \"first channel\" of the tensor\n",
        "print(\"mat[:,:,1] ->\",mat[:,:,1]) #matrix contained in the \"second channel\" of the tensor\n",
        "print(\"mat[...,0] ->\", mat[...,0]) #matrix contained in the \"first channel\" of the tensor (alternative notation)\n",
        "print(\"mat[...,1] ->\",mat[...,1]) #matrix contained in the \"second channel\" of the tensor (alternative notation)\n",
        "#the \"...\" notation means \"leave everything unchanged along the omitted dimensions\""
      ]
    },
    {
      "cell_type": "markdown",
      "metadata": {},
      "source": [
        "Generally, when a subset of data is extracted from an array, it is referred to as **slicing**."
      ]
    },
    {
      "cell_type": "markdown",
      "metadata": {},
      "source": [
        "> **Question 6**\n",
        ">\n",
        "> Python lists do not support slicing. How can one implement a statement of the type `a[2:8:2]` using Python lists?"
      ]
    },
    {
      "cell_type": "markdown",
      "metadata": {},
      "source": [
        "## Logical Indexing and Slicing\n",
        "\n",
        "In numpy it is also possible to index arrays in a \"logical\" way, meaning by passing an array of boolean values as indices. For example, if we want to select the first and third value of an array, we must pass the array `[True, False, True]` as indices:"
      ]
    },
    {
      "cell_type": "code",
      "execution_count": 154,
      "metadata": {},
      "outputs": [
        {
          "name": "stdout",
          "output_type": "stream",
          "text": [
            "[1 3]\n",
            "[2]\n"
          ]
        }
      ],
      "source": [
        "x = np.array([1,2,3])\n",
        "print(x[np.array([True,False,True])]) # To select only 1 and 3\n",
        "print(x[np.array([False,True,False])]) # To select only 2"
      ]
    },
    {
      "cell_type": "markdown",
      "metadata": {},
      "source": [
        "Logical indexing is very useful when combined with the ability to build logical arrays \"on the fly\" by specifying a condition that array elements may or may not satisfy. For example:"
      ]
    },
    {
      "cell_type": "code",
      "execution_count": 155,
      "metadata": {},
      "outputs": [
        {
          "name": "stdout",
          "output_type": "stream",
          "text": [
            "[0 1 2 3 4 5 6 7 8 9]\n",
            "[False False False  True  True  True  True  True  True  True]\n",
            "[False False False  True False False False False False False]\n"
          ]
        }
      ],
      "source": [
        "x = np.arange(10)\n",
        "print(x)\n",
        "print(x>2) #generates an array of boolean values\n",
        "#that will contain True for the values of x\n",
        "#that satisfy the condition x>2\n",
        "print(x==3) #True only for the value 3"
      ]
    },
    {
      "cell_type": "markdown",
      "metadata": {},
      "source": [
        "By combining these two principles, it is simple to select only some values from an array, based on a condition:"
      ]
    },
    {
      "cell_type": "code",
      "execution_count": 156,
      "metadata": {},
      "outputs": [
        {
          "name": "stdout",
          "output_type": "stream",
          "text": [
            "[0 2 4 6 8]\n",
            "[1 3 5 7 9]\n",
            "[3 4 5 6 7 8 9]\n"
          ]
        }
      ],
      "source": [
        "x = np.arange(10)\n",
        "print(x[x%2==0]) # selects even values\n",
        "print(x[x%2!=0]) # selects odd values\n",
        "print(x[x>2]) # selects values greater than 2"
      ]
    },
    {
      "cell_type": "markdown",
      "metadata": {},
      "source": [
        "> **Question 7**\n",
        ">\n",
        "> Consider the two arrays `a=np.array([1,2,3])` and `b=np.array([5,2,4])`. Use logical indexing to extract the numbers in `a` that are located at positions containing even values in `b`."
      ]
    },
    {
      "cell_type": "markdown",
      "metadata": {},
      "source": [
        "## Reshape\n",
        "In some cases, it can be useful to change the \"shape\" of a matrix. For example, a 3x2 matrix can be modified by rearranging its elements to obtain a 2x3 matrix, a 1x6 matrix, or a 6x1 matrix. This can be done using the \"reshape\" method:"
      ]
    },
    {
      "cell_type": "code",
      "execution_count": 157,
      "metadata": {},
      "outputs": [
        {
          "name": "stdout",
          "output_type": "stream",
          "text": [
            "[[1 2]\n",
            " [3 4]\n",
            " [5 6]]\n",
            "[[1 2 3]\n",
            " [4 5 6]]\n",
            "[[1 2 3 4 5 6]]\n",
            "[[1]\n",
            " [2]\n",
            " [3]\n",
            " [4]\n",
            " [5]\n",
            " [6]]\n",
            "[1 2 3 4 5 6]\n",
            "[1 2 3 4 5 6]\n"
          ]
        }
      ],
      "source": [
        "mat = np.array([[1,2],[3,4],[5,6]])\n",
        "print(mat)\n",
        "print(mat.reshape(2,3))\n",
        "print(mat.reshape(1,6))\n",
        "print(mat.reshape(6,1)) #matrix 6 x 1\n",
        "print(mat.reshape(6)) #one-dimensional vector\n",
        "print(mat.ravel())#equivalent to the previous one, but parameterless"
      ]
    },
    {
      "cell_type": "markdown",
      "metadata": {},
      "source": [
        "We note that, if we read by rows (from left to right, from top to bottom), the order of the elements remains unchanged. We can also let numpy calculate one of the dimensions by replacing it with -1:"
      ]
    },
    {
      "cell_type": "code",
      "execution_count": 158,
      "metadata": {},
      "outputs": [
        {
          "name": "stdout",
          "output_type": "stream",
          "text": [
            "[[1 2 3]\n",
            " [4 5 6]]\n",
            "[[1 2 3 4 5 6]]\n"
          ]
        }
      ],
      "source": [
        "print(mat.reshape(2,-1))\n",
        "print(mat.reshape(-1,6))"
      ]
    },
    {
      "cell_type": "markdown",
      "metadata": {},
      "source": [
        "Reshape can take as input the individual dimensions or a tuple containing the shape. In the latter case, it is convenient to perform operations of this kind:"
      ]
    },
    {
      "cell_type": "code",
      "execution_count": 159,
      "metadata": {},
      "outputs": [
        {
          "name": "stdout",
          "output_type": "stream",
          "text": [
            "[[0.72904971 0.43857224]\n",
            " [0.0596779  0.39804426]\n",
            " [0.73799541 0.18249173]]\n"
          ]
        }
      ],
      "source": [
        "mat1 = np.random.rand(3,2)\n",
        "mat2 = np.random.rand(2,3)\n",
        "print(mat2.reshape(mat1.shape)) # Give mat2 the same shape as mat1"
      ]
    },
    {
      "cell_type": "markdown",
      "metadata": {},
      "source": [
        "## Composing Arrays Using `concatenate` and `stack`\n",
        "Numpy allows combining different arrays using two main functions: `concatenate` and `stack`. The `concatenate` function takes as input a list (or tuple) of arrays and allows concatenating them along a specified existing dimension (`axis`), which by default is zero (row-wise concatenation):"
      ]
    },
    {
      "cell_type": "code",
      "execution_count": 160,
      "metadata": {},
      "outputs": [
        {
          "name": "stdout",
          "output_type": "stream",
          "text": [
            "[[0 1 2]\n",
            " [3 4 5]\n",
            " [6 7 8]] (3, 3) \n",
            "\n",
            "[[0 1 2]\n",
            " [3 4 5]\n",
            " [6 7 8]\n",
            " [0 1 2]\n",
            " [3 4 5]\n",
            " [6 7 8]] (6, 3) \n",
            "\n",
            "[[0 1 2]\n",
            " [3 4 5]\n",
            " [6 7 8]\n",
            " [0 1 2]\n",
            " [3 4 5]\n",
            " [6 7 8]\n",
            " [0 1 2]\n",
            " [3 4 5]\n",
            " [6 7 8]] (9, 3)\n"
          ]
        }
      ],
      "source": [
        "a=np.arange(9).reshape(3,3)\n",
        "print(a,a.shape,\"\\n\")\n",
        "cat=np.concatenate([a,a])\n",
        "print(cat,cat.shape,\"\\n\")\n",
        "cat2=np.concatenate([a,a,a])\n",
        "print(cat2,cat2.shape)"
      ]
    },
    {
      "cell_type": "markdown",
      "metadata": {},
      "source": [
        "It is possible to concatenate arrays along a different dimension by specifying it using the `axis` parameter:"
      ]
    },
    {
      "cell_type": "code",
      "execution_count": 161,
      "metadata": {},
      "outputs": [
        {
          "name": "stdout",
          "output_type": "stream",
          "text": [
            "[[0 1 2]\n",
            " [3 4 5]\n",
            " [6 7 8]] (3, 3) \n",
            "\n",
            "[[0 1 2 0 1 2]\n",
            " [3 4 5 3 4 5]\n",
            " [6 7 8 6 7 8]] (3, 6) \n",
            "\n",
            "[[0 1 2 0 1 2 0 1 2]\n",
            " [3 4 5 3 4 5 3 4 5]\n",
            " [6 7 8 6 7 8 6 7 8]] (3, 9)\n"
          ]
        }
      ],
      "source": [
        "a=np.arange(9).reshape(3,3)\n",
        "print(a,a.shape,\"\\n\")\n",
        "cat=np.concatenate([a,a], axis=1) #column-wise concatenation\n",
        "print(cat,cat.shape,\"\\n\")\n",
        "cat2=np.concatenate([a,a,a], axis=1) #column-wise concatenation\n",
        "print(cat2,cat2.shape)"
      ]
    },
    {
      "cell_type": "markdown",
      "metadata": {},
      "source": [
        "For the concatenation to be compatible, the arrays in the list must have the same dimensions along those that **are not concatenated**:"
      ]
    },
    {
      "cell_type": "code",
      "execution_count": 163,
      "metadata": {},
      "outputs": [
        {
          "name": "stdout",
          "output_type": "stream",
          "text": [
            "(3, 6) (3, 3)\n"
          ]
        }
      ],
      "source": [
        "print(cat.shape,a.shape) #concatenation along axis 0, dimensions along other axes must be equal"
      ]
    },
    {
      "cell_type": "markdown",
      "metadata": {},
      "source": [
        "```python\n",
        "np.concatenate([cat,a], axis=0) #concatenation by columns #error!\n",
        "```"
      ]
    },
    {
      "cell_type": "markdown",
      "metadata": {},
      "source": [
        "The `stack` function, unlike `concatenate`, allows concatenating arrays along a new dimension. Compare the outputs of the two functions:"
      ]
    },
    {
      "cell_type": "code",
      "execution_count": 164,
      "metadata": {},
      "outputs": [
        {
          "name": "stdout",
          "output_type": "stream",
          "text": [
            "[[0 1 2]\n",
            " [3 4 5]\n",
            " [6 7 8]\n",
            " [0 1 2]\n",
            " [3 4 5]\n",
            " [6 7 8]] (6, 3)\n",
            "[[[0 1 2]\n",
            "  [3 4 5]\n",
            "  [6 7 8]]\n",
            "\n",
            " [[0 1 2]\n",
            "  [3 4 5]\n",
            "  [6 7 8]]] (2, 3, 3)\n"
          ]
        }
      ],
      "source": [
        "cat=np.concatenate([a,a])\n",
        "print(cat,cat.shape)\n",
        "stack=np.stack([a,a])\n",
        "print(stack,stack.shape)"
      ]
    },
    {
      "cell_type": "markdown",
      "metadata": {},
      "source": [
        "In the case of `stack`, the arrays were concatenated along a new dimension. It is possible to specify alternative dimensions as in the case of `concatenate`:"
      ]
    },
    {
      "cell_type": "code",
      "execution_count": 165,
      "metadata": {},
      "outputs": [
        {
          "name": "stdout",
          "output_type": "stream",
          "text": [
            "[[[0 1 2]\n",
            "  [0 1 2]]\n",
            "\n",
            " [[3 4 5]\n",
            "  [3 4 5]]\n",
            "\n",
            " [[6 7 8]\n",
            "  [6 7 8]]] (3, 2, 3)\n"
          ]
        }
      ],
      "source": [
        "stack=np.stack([a,a],axis=1)\n",
        "print(stack,stack.shape)"
      ]
    },
    {
      "cell_type": "markdown",
      "metadata": {},
      "source": [
        "In this case, the arrays have been concatenated along the second dimension."
      ]
    },
    {
      "cell_type": "code",
      "execution_count": 166,
      "metadata": {},
      "outputs": [
        {
          "name": "stdout",
          "output_type": "stream",
          "text": [
            "[[[0 0]\n",
            "  [1 1]\n",
            "  [2 2]]\n",
            "\n",
            " [[3 3]\n",
            "  [4 4]\n",
            "  [5 5]]\n",
            "\n",
            " [[6 6]\n",
            "  [7 7]\n",
            "  [8 8]]] (3, 3, 2)\n"
          ]
        }
      ],
      "source": [
        "stack=np.stack([a,a],axis=2)\n",
        "print(stack,stack.shape)"
      ]
    },
    {
      "cell_type": "markdown",
      "metadata": {},
      "source": [
        "In this case, the arrays were concatenated along the last dimension."
      ]
    },
    {
      "cell_type": "markdown",
      "metadata": {},
      "source": [
        "## Types\n",
        "Every numpy array has its type (see https://docs.scipy.org/doc/numpy-1.13.0/user/basics.types.html for the list of supported types). We can see the type of an array by inspecting the `dtype` property:"
      ]
    },
    {
      "cell_type": "code",
      "execution_count": 167,
      "metadata": {},
      "outputs": [
        {
          "name": "stdout",
          "output_type": "stream",
          "text": [
            "float64\n"
          ]
        }
      ],
      "source": [
        "print(mat1.dtype)"
      ]
    },
    {
      "cell_type": "markdown",
      "metadata": {},
      "source": [
        "We can specify the type during array construction:"
      ]
    },
    {
      "cell_type": "code",
      "execution_count": 168,
      "metadata": {},
      "outputs": [
        {
          "name": "stdout",
          "output_type": "stream",
          "text": [
            "int64\n"
          ]
        }
      ],
      "source": [
        "mat = np.array([[1,2,3],[4,5,6]],int)\n",
        "print(mat.dtype)"
      ]
    },
    {
      "cell_type": "markdown",
      "metadata": {},
      "source": [
        "We can also change the type of an array on the fly using `astype`. This is useful, for example, if we want to perform a non-integer division:"
      ]
    },
    {
      "cell_type": "code",
      "execution_count": 169,
      "metadata": {},
      "outputs": [
        {
          "name": "stdout",
          "output_type": "stream",
          "text": [
            "[[0.5 1.  1.5]\n",
            " [2.  2.5 3. ]]\n",
            "[[0.5 1.  1.5]\n",
            " [2.  2.5 3. ]]\n"
          ]
        }
      ],
      "source": [
        "print(mat/2)\n",
        "print(mat.astype(float)/2)"
      ]
    },
    {
      "cell_type": "markdown",
      "metadata": {},
      "source": [
        "## Memory Management in Numpy\n",
        "Numpy manages memory dynamically for efficiency reasons. Therefore, an assignment or a slicing operation generally **does not create a new copy of the data**. Consider for example this code:"
      ]
    },
    {
      "cell_type": "code",
      "execution_count": 170,
      "metadata": {},
      "outputs": [
        {
          "name": "stdout",
          "output_type": "stream",
          "text": [
            "[[1 2 3]\n",
            " [4 5 6]]\n",
            "[1 2]\n"
          ]
        }
      ],
      "source": [
        "a=np.array([[1,2,3],[4,5,6]])\n",
        "print(a)\n",
        "b=a[0,0:2]\n",
        "print(b)"
      ]
    },
    {
      "cell_type": "markdown",
      "metadata": {},
      "source": [
        "The slicing operation `b=a[0,0:2]` only allowed obtaining a new \"view\" of a part of `a`, but the data was not replicated in memory. Therefore, if we modify an element of b, the modification will actually be applied to `a`:"
      ]
    },
    {
      "cell_type": "code",
      "execution_count": 171,
      "metadata": {},
      "outputs": [
        {
          "name": "stdout",
          "output_type": "stream",
          "text": [
            "[-1  2]\n",
            "[[-1  2  3]\n",
            " [ 4  5  6]]\n"
          ]
        }
      ],
      "source": [
        "b[0]=-1\n",
        "print(b)\n",
        "print(a)"
      ]
    },
    {
      "cell_type": "markdown",
      "metadata": {},
      "source": [
        "To avoid this kind of behavior, it is possible to use the `copy` method which forces numpy to create a new copy of the data:"
      ]
    },
    {
      "cell_type": "code",
      "execution_count": 172,
      "metadata": {},
      "outputs": [
        {
          "name": "stdout",
          "output_type": "stream",
          "text": [
            "[[1 2 3]\n",
            " [4 5 6]]\n",
            "[1 2]\n",
            "[-1  2]\n",
            "[[1 2 3]\n",
            " [4 5 6]]\n"
          ]
        }
      ],
      "source": [
        "a=np.array([[1,2,3],[4,5,6]])\n",
        "print(a)\n",
        "b=a[0,0:2].copy()\n",
        "\n",
        "print(b)\n",
        "b[0]=-1\n",
        "print(b)\n",
        "print(a)"
      ]
    },
    {
      "cell_type": "markdown",
      "metadata": {},
      "source": [
        "In this new version of the code, `a` is no longer modified upon modification of `b`."
      ]
    },
    {
      "cell_type": "markdown",
      "metadata": {},
      "source": [
        "## Broadcasting\n",
        "Numpy intelligently handles operations between arrays that have different shapes under certain conditions. Let's look at a practical example: suppose we have a $2\\times3$ matrix and a $1\\times3$ array:"
      ]
    },
    {
      "cell_type": "code",
      "execution_count": 174,
      "metadata": {},
      "outputs": [
        {
          "name": "stdout",
          "output_type": "stream",
          "text": [
            "[[1. 2. 3.]\n",
            " [4. 5. 6.]]\n",
            "[2 3 8]\n"
          ]
        }
      ],
      "source": [
        "mat=np.array([[1,2,3],[4,5,6]],dtype=float)\n",
        "arr=np.array([2,3,8])\n",
        "print(mat)\n",
        "print(arr)"
      ]
    },
    {
      "cell_type": "markdown",
      "metadata": {},
      "source": [
        "Now, suppose we want to divide, element by element, all the values of each row of the matrix by the values of the array. We can perform the required operation using a for loop:"
      ]
    },
    {
      "cell_type": "code",
      "execution_count": 175,
      "metadata": {},
      "outputs": [
        {
          "name": "stdout",
          "output_type": "stream",
          "text": [
            "[[0.5        0.66666667 0.375     ]\n",
            " [2.         1.66666667 0.75      ]]\n"
          ]
        }
      ],
      "source": [
        "mat2=mat.copy() # Copy the content of the matrix to not overwrite it\n",
        "for i in range(mat2.shape[0]):# Indexes the rows\n",
        "    mat2[i]=mat2[i]/arr\n",
        "print(mat2)"
      ]
    },
    {
      "cell_type": "code",
      "execution_count": 176,
      "metadata": {},
      "outputs": [
        {
          "data": {
            "text/plain": [
              "(3,)"
            ]
          },
          "execution_count": 176,
          "metadata": {},
          "output_type": "execute_result"
        }
      ],
      "source": [
        "arr.shape"
      ]
    },
    {
      "cell_type": "markdown",
      "metadata": {},
      "source": [
        "If we didn't want to use for loops, we could replicate _arr_ to obtain a $2 \\times 3$ matrix and then perform a simple element-wise division:"
      ]
    },
    {
      "cell_type": "code",
      "execution_count": 177,
      "metadata": {},
      "outputs": [
        {
          "name": "stdout",
          "output_type": "stream",
          "text": [
            "[[2 3 8]\n",
            " [2 3 8]]\n",
            "[[0.5        0.66666667 0.375     ]\n",
            " [2.         1.66666667 0.75      ]]\n"
          ]
        }
      ],
      "source": [
        "arr2=np.stack([arr,arr])\n",
        "print(arr2)\n",
        "\n",
        "print(mat/arr2)"
      ]
    },
    {
      "cell_type": "markdown",
      "metadata": {},
      "source": [
        "The same result can be obtained simply by asking numpy to divide mat by arr:"
      ]
    },
    {
      "cell_type": "code",
      "execution_count": 178,
      "metadata": {},
      "outputs": [
        {
          "name": "stdout",
          "output_type": "stream",
          "text": [
            "[[0.5        0.66666667 0.375     ]\n",
            " [2.         1.66666667 0.75      ]]\n"
          ]
        }
      ],
      "source": [
        "print(mat/arr)"
      ]
    },
    {
      "cell_type": "markdown",
      "metadata": {},
      "source": [
        "This happens because **numpy** compares the dimensions of the two operands ($2 \\times 3$ and $1 \\times 3$) and adapts the operand with the smaller shape to the one with the larger shape, by replicating its elements along the unit dimension (the first one). In practice, broadcasting generalizes operations between scalars and vectors/matrices like:"
      ]
    },
    {
      "cell_type": "code",
      "execution_count": 179,
      "metadata": {},
      "outputs": [
        {
          "name": "stdout",
          "output_type": "stream",
          "text": [
            "[[ 2.  4.  6.]\n",
            " [ 8. 10. 12.]]\n",
            "[ 4  6 16]\n"
          ]
        }
      ],
      "source": [
        "print(2*mat)\n",
        "print(2*arr)"
      ]
    },
    {
      "cell_type": "markdown",
      "metadata": {},
      "source": [
        "In general, when operations are performed between two arrays, numpy compares the shapes dimension by dimension, from the last to the first. Two dimensions are compatible if:\n",
        " * They are equal;\n",
        " * One of them is equal to one.\n",
        "\n",
        "Furthermore, the two shapes do not necessarily have to have the same number of dimensions.\n",
        " \n",
        "For example, the following shapes are compatible:\n",
        "\n",
        " $$\n",
        " 2 \\times 3 \\times 5 \\\\\n",
        " 2 \\times 3 \\times 5\n",
        " $$\n",
        " \n",
        " $$\n",
        " 2 \\times 3 \\times 5 \\\\\n",
        " 2 \\times 1 \\times 5\n",
        " $$\n",
        " \n",
        " $$\n",
        " 2 \\times 3 \\times 5 \\\\\n",
        " 3 \\times 5\n",
        " $$\n",
        " \n",
        " $$\n",
        " 2 \\times 3 \\times 5 \\\\\n",
        " 3 \\times 1\n",
        " $$\n",
        " \n",
        "Let's see more examples of broadcasting:"
      ]
    },
    {
      "cell_type": "code",
      "execution_count": 180,
      "metadata": {},
      "outputs": [
        {
          "name": "stdout",
          "output_type": "stream",
          "text": [
            "Mat1 shape (2, 2, 3)\n",
            "Mat2 shape (2, 3)\n",
            "\n",
            "Mat1\n",
            " [[[1 3 5]\n",
            "  [7 6 2]]\n",
            "\n",
            " [[6 5 2]\n",
            "  [8 9 9]]]\n",
            "\n",
            "Mat2\n",
            " [[2 1 3]\n",
            " [7 6 2]]\n",
            "\n",
            "Mat1*Mat2\n",
            " [[[ 2  3 15]\n",
            "  [49 36  4]]\n",
            "\n",
            " [[12  5  6]\n",
            "  [56 54 18]]]\n"
          ]
        }
      ],
      "source": [
        "mat1=np.array([[[1,3,5],[7,6,2]],[[6,5,2],[8,9,9]]])\n",
        "mat2=np.array([[2,1,3],[7,6,2]])\n",
        "print(\"Mat1 shape\",mat1.shape)\n",
        "print(\"Mat2 shape\",mat2.shape)\n",
        "print()\n",
        "print(\"Mat1\\n\",mat1)\n",
        "print()\n",
        "print(\"Mat2\\n\",mat2)\n",
        "print()\n",
        "print(\"Mat1*Mat2\\n\",mat1*mat2)"
      ]
    },
    {
      "cell_type": "markdown",
      "metadata": {},
      "source": [
        "The product between the two tensors was performed by multiplying the two-dimensional matrices `mat1[0,...]` and `mat2[0,...]` by `mat2`. This is equivalent to repeating the elements of `mat2` along the missing dimension and performing a point-by-point product between `mat1` and the adapted version of `mat2`."
      ]
    },
    {
      "cell_type": "code",
      "execution_count": 181,
      "metadata": {},
      "outputs": [
        {
          "name": "stdout",
          "output_type": "stream",
          "text": [
            "Mat1 shape (2, 2, 3)\n",
            "Mat2 shape (2, 1, 3)\n",
            "\n",
            "Mat1\n",
            " [[[1 3 5]\n",
            "  [7 6 2]]\n",
            "\n",
            " [[6 5 2]\n",
            "  [8 9 9]]]\n",
            "\n",
            "Mat2\n",
            " [[[1 3 5]]\n",
            "\n",
            " [[6 5 2]]]\n",
            "\n",
            "Mat1*Mat2\n",
            " [[[ 1  9 25]\n",
            "  [ 7 18 10]]\n",
            "\n",
            " [[36 25  4]\n",
            "  [48 45 18]]]\n"
          ]
        }
      ],
      "source": [
        "mat1=np.array([[[1,3,5],[7,6,2]],[[6,5,2],[8,9,9]]])\n",
        "mat2=np.array([[[1,3,5]],[[6,5,2]]])\n",
        "print(\"Mat1 shape\",mat1.shape)\n",
        "print(\"Mat2 shape\",mat2.shape)\n",
        "print()\n",
        "print(\"Mat1\\n\",mat1)\n",
        "print()\n",
        "print(\"Mat2\\n\",mat2)\n",
        "print()\n",
        "print(\"Mat1*Mat2\\n\",mat1*mat2)"
      ]
    },
    {
      "cell_type": "markdown",
      "metadata": {},
      "source": [
        "In this case, the product between the two tensors was obtained by multiplying all rows of the two-dimensional matrices `mat1[0,...]` by `mat2[0]` (first row of mat2) and all rows of the two-dimensional matrices `mat1[1,...]` by `mat2[1]` (second row of mat2). This is equivalent to repeating all elements of `mat2` along the second dimension (the one containing $1$) and performing an element-wise product between `mat1` and the adapted version of `mat2`."
      ]
    },
    {
      "cell_type": "markdown",
      "metadata": {},
      "source": [
        "## Exercises"
      ]
    },
    {
      "cell_type": "markdown",
      "metadata": {},
      "source": [
        "> **Exercise 1**\n",
        ">\n",
        "> Define a 3x4 matrix, then:\n",
        "> * Print the first row of the matrix;\n",
        "> * Print the second column of the matrix;\n",
        "> * Sum the first and last columns of the matrix;\n",
        "> * Sum the elements along the main diagonal;\n",
        "> * Print the number of elements in the matrix."
      ]
    },
    {
      "cell_type": "markdown",
      "metadata": {},
      "source": [
        "> **Exercise 2**\n",
        ">\n",
        "> Generate an array of $100$ numbers between $2$ and $4$ and calculate the sum of the elements whose squares have a value greater than $8$."
      ]
    },
    {
      "cell_type": "markdown",
      "metadata": {},
      "source": [
        "> **Exercise 3**\n",
        ">\n",
        "> Generate the following matrix writing the smallest amount of code possible:\n",
        ">\n",
        "> ```\n",
        "> 0 1 2\n",
        "> 3 4 5\n",
        "> 6 7 8\n",
        "> ```\n",
        ">\n",
        "> Repeat the exercise generating a $25 \\times 13$ matrix of the same type."
      ]
    }
  ],
  "metadata": {
    "anaconda-cloud": {},
    "kernelspec": {
      "display_name": "Python 3",
      "language": "python",
      "name": "python3"
    },
    "language_info": {
      "codemirror_mode": {
        "name": "ipython",
        "version": 3
      },
      "file_extension": ".py",
      "mimetype": "text/x-python",
      "name": "python",
      "nbconvert_exporter": "python",
      "pygments_lexer": "ipython3",
      "version": "3.11.4"
    }
  },
  "nbformat": 4,
  "nbformat_minor": 1
}
