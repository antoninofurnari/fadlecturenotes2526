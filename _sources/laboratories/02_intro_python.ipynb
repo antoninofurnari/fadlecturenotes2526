{
 "cells": [
  {
   "cell_type": "markdown",
   "metadata": {},
   "source": [
    "# Introduzione a Python\n",
    "\n",
    "Python è un linguaggio di programmazione ad alto livello, interpretato e pensato per la programmazione \"general purpose\". Python supporta un sistema dei tipi dinamico e diversi paradigmi di programmazione tra cui la programmazione orientata agli oggetti, la programmazione imperativa, la programmazione funzionale e la programmazione procedurale. Il linguaggio è stato ideato nel 1991 da Guido van Rossum e il suo nome è ispirato alla serie TV satirica Monty Python's Flying Circus (https://en.wikipedia.org/wiki/Monty_Python%27s_Flying_Circus).\n",
    "\n",
    "Benché Python non sia nato come linguaggio di programmazione per il calcolo scientifico, la sua estrema versatilità ha contribuito al nascere di una serie di librerire che rendono la computazione numerica in Python comoda ed efficiente. Buona parte di queste librerie fanno parte di \"SciPy\" (https://www.scipy.org/), un ecosistema di software open-source per il calcolo scientifico. In questo laboratorio, oltre a una introduzione a Python, vedremo in particolare i fondamenti di NumPy (calcolo scientifico) e Matplolib (Plot 2D).\n",
    "\n",
    "Referenze importanti da consultare durante il corso, solo le seguenti documentazioni:\n",
    " * Python 3: https://docs.python.org/3/index.html;\n",
    " * Numpy: http://www.numpy.org/;\n",
    " * Matplotlib: https://matplotlib.org/."
   ]
  },
  {
   "cell_type": "markdown",
   "metadata": {},
   "source": [
    "## Numeri\n",
    "I tipi di dato numerici in Python sono int, float e complex. Noi ci concentreremo su int e float. Alcuni esempi di operazioni tra numeri:"
   ]
  },
  {
   "cell_type": "code",
   "execution_count": 1,
   "metadata": {},
   "outputs": [
    {
     "data": {
      "text/plain": [
       "8"
      ]
     },
     "execution_count": 1,
     "metadata": {},
     "output_type": "execute_result"
    }
   ],
   "source": [
    "3 + 5 #somma"
   ]
  },
  {
   "cell_type": "code",
   "execution_count": 2,
   "metadata": {},
   "outputs": [
    {
     "data": {
      "text/plain": [
       "-6"
      ]
     },
     "execution_count": 2,
     "metadata": {},
     "output_type": "execute_result"
    }
   ],
   "source": [
    "2 - 8 #differenza"
   ]
  },
  {
   "cell_type": "code",
   "execution_count": 3,
   "metadata": {},
   "outputs": [
    {
     "data": {
      "text/plain": [
       "15"
      ]
     },
     "execution_count": 3,
     "metadata": {},
     "output_type": "execute_result"
    }
   ],
   "source": [
    "3 * 5 #prodotto"
   ]
  },
  {
   "cell_type": "code",
   "execution_count": 4,
   "metadata": {},
   "outputs": [
    {
     "data": {
      "text/plain": [
       "1.5"
      ]
     },
     "execution_count": 4,
     "metadata": {},
     "output_type": "execute_result"
    }
   ],
   "source": [
    "3 / 2 #divisione, da notare che in Python 3, la divisione tra numeri interi restituisce un float"
   ]
  },
  {
   "cell_type": "code",
   "execution_count": 5,
   "metadata": {},
   "outputs": [
    {
     "data": {
      "text/plain": [
       "1"
      ]
     },
     "execution_count": 5,
     "metadata": {},
     "output_type": "execute_result"
    }
   ],
   "source": [
    "3 // 2 #divisione intera"
   ]
  },
  {
   "cell_type": "code",
   "execution_count": 6,
   "metadata": {},
   "outputs": [
    {
     "data": {
      "text/plain": [
       "81"
      ]
     },
     "execution_count": 6,
     "metadata": {},
     "output_type": "execute_result"
    }
   ],
   "source": [
    "9 ** 2 #elevamento a potenza"
   ]
  },
  {
   "cell_type": "code",
   "execution_count": 7,
   "metadata": {},
   "outputs": [
    {
     "data": {
      "text/plain": [
       "0"
      ]
     },
     "execution_count": 7,
     "metadata": {},
     "output_type": "execute_result"
    }
   ],
   "source": [
    "4 % 2 #modulo"
   ]
  },
  {
   "cell_type": "code",
   "execution_count": 8,
   "metadata": {},
   "outputs": [
    {
     "data": {
      "text/plain": [
       "5"
      ]
     },
     "execution_count": 8,
     "metadata": {},
     "output_type": "execute_result"
    }
   ],
   "source": [
    "(1 + 4) * (3 - 2) #uso delle parentesi"
   ]
  },
  {
   "cell_type": "markdown",
   "metadata": {},
   "source": [
    "## Variabili e Tipi\n",
    "In generale, i numeri senza virgola vengono interpretati come int, mentre quelli con virgola come float. Dato che Python è tipizzato dinamicamente, non dobbiamo esplicitamente dichiarare il tipo di una variabile. Il tipo verrà associato alla variabile non appena vi assegniamo un valore. Possiamo controllare il tipo di una variabile mediante la funzione `type`:"
   ]
  },
  {
   "cell_type": "code",
   "execution_count": 9,
   "metadata": {},
   "outputs": [
    {
     "data": {
      "text/plain": [
       "(int, int, float, float, int)"
      ]
     },
     "execution_count": 9,
     "metadata": {},
     "output_type": "execute_result"
    }
   ],
   "source": [
    "x = 3\n",
    "y = 9\n",
    "z = 1.5\n",
    "h = x/y\n",
    "l = x//y\n",
    "type(x), type(y), type(z), type(h), type(l)"
   ]
  },
  {
   "cell_type": "markdown",
   "metadata": {},
   "source": [
    "E' possibile effettuare il casting da un tipo a un altro mediante le funzioni `int` e `float`:"
   ]
  },
  {
   "cell_type": "code",
   "execution_count": 10,
   "metadata": {},
   "outputs": [
    {
     "data": {
      "text/plain": [
       "2"
      ]
     },
     "execution_count": 10,
     "metadata": {},
     "output_type": "execute_result"
    }
   ],
   "source": [
    "int(2.5)"
   ]
  },
  {
   "cell_type": "code",
   "execution_count": 11,
   "metadata": {},
   "outputs": [
    {
     "data": {
      "text/plain": [
       "3.0"
      ]
     },
     "execution_count": 11,
     "metadata": {},
     "output_type": "execute_result"
    }
   ],
   "source": [
    "float(3)"
   ]
  },
  {
   "cell_type": "markdown",
   "metadata": {},
   "source": [
    "Come in C, sono definite le operazioni \"in place\" tra variabili:"
   ]
  },
  {
   "cell_type": "code",
   "execution_count": 12,
   "metadata": {},
   "outputs": [
    {
     "data": {
      "text/plain": [
       "20"
      ]
     },
     "execution_count": 12,
     "metadata": {},
     "output_type": "execute_result"
    }
   ],
   "source": [
    "x = 8\n",
    "y = 12\n",
    "x+=y #del tutto equivalente a x=x+y\n",
    "x"
   ]
  },
  {
   "cell_type": "markdown",
   "metadata": {},
   "source": [
    "Non sono definite le notazioni \"++\" e \"--\". \n",
    "\n",
    "```python\n",
    "a++ #error!\n",
    "```"
   ]
  },
  {
   "cell_type": "markdown",
   "metadata": {},
   "source": [
    "Per effettuare un incremento di una unità, va utilizzata la notazione +=1:"
   ]
  },
  {
   "cell_type": "code",
   "execution_count": 13,
   "metadata": {},
   "outputs": [
    {
     "data": {
      "text/plain": [
       "2"
      ]
     },
     "execution_count": 13,
     "metadata": {},
     "output_type": "execute_result"
    }
   ],
   "source": [
    "a=1\n",
    "a+=1\n",
    "a"
   ]
  },
  {
   "cell_type": "markdown",
   "metadata": {},
   "source": [
    "\n",
    "> **Domanda 1**\n",
    ">\n",
    "> Qual è il tipo della seguente variabile?\n",
    "> ```python\n",
    "> x = (3//2*2)**2+(3*0.0)\n",
    "> ```"
   ]
  },
  {
   "cell_type": "markdown",
   "metadata": {},
   "source": [
    "## Booleani\n",
    "I booleani vengono rappresentati mediante le parole chiave `True` e `False` (iniziano entrambe per maiuscola)."
   ]
  },
  {
   "cell_type": "code",
   "execution_count": 16,
   "metadata": {},
   "outputs": [
    {
     "name": "stdout",
     "output_type": "stream",
     "text": [
      "True\n",
      "False\n"
     ]
    }
   ],
   "source": [
    "print(True)\n",
    "print(False)"
   ]
  },
  {
   "cell_type": "code",
   "execution_count": 17,
   "metadata": {},
   "outputs": [
    {
     "data": {
      "text/plain": [
       "bool"
      ]
     },
     "execution_count": 17,
     "metadata": {},
     "output_type": "execute_result"
    }
   ],
   "source": [
    "type(True)"
   ]
  },
  {
   "cell_type": "markdown",
   "metadata": {},
   "source": [
    "E' possibile generare booleani mediante gli operatori di confronto:"
   ]
  },
  {
   "cell_type": "code",
   "execution_count": 18,
   "metadata": {},
   "outputs": [
    {
     "data": {
      "text/plain": [
       "True"
      ]
     },
     "execution_count": 18,
     "metadata": {},
     "output_type": "execute_result"
    }
   ],
   "source": [
    "5==5"
   ]
  },
  {
   "cell_type": "code",
   "execution_count": 19,
   "metadata": {},
   "outputs": [
    {
     "data": {
      "text/plain": [
       "False"
      ]
     },
     "execution_count": 19,
     "metadata": {},
     "output_type": "execute_result"
    }
   ],
   "source": [
    "7==5"
   ]
  },
  {
   "cell_type": "code",
   "execution_count": 20,
   "metadata": {},
   "outputs": [
    {
     "data": {
      "text/plain": [
       "True"
      ]
     },
     "execution_count": 20,
     "metadata": {},
     "output_type": "execute_result"
    }
   ],
   "source": [
    "5>4"
   ]
  },
  {
   "cell_type": "code",
   "execution_count": 21,
   "metadata": {},
   "outputs": [
    {
     "data": {
      "text/plain": [
       "False"
      ]
     },
     "execution_count": 21,
     "metadata": {},
     "output_type": "execute_result"
    }
   ],
   "source": [
    "9>10"
   ]
  },
  {
   "cell_type": "code",
   "execution_count": 22,
   "metadata": {},
   "outputs": [
    {
     "data": {
      "text/plain": [
       "True"
      ]
     },
     "execution_count": 22,
     "metadata": {},
     "output_type": "execute_result"
    }
   ],
   "source": [
    "9<=10"
   ]
  },
  {
   "cell_type": "code",
   "execution_count": 23,
   "metadata": {},
   "outputs": [
    {
     "data": {
      "text/plain": [
       "False"
      ]
     },
     "execution_count": 23,
     "metadata": {},
     "output_type": "execute_result"
    }
   ],
   "source": [
    "11<=10"
   ]
  },
  {
   "cell_type": "markdown",
   "metadata": {},
   "source": [
    "Gli operatori logici sono `and` e `or`:"
   ]
  },
  {
   "cell_type": "code",
   "execution_count": 24,
   "metadata": {},
   "outputs": [
    {
     "name": "stdout",
     "output_type": "stream",
     "text": [
      "True\n",
      "True\n",
      "False\n"
     ]
    }
   ],
   "source": [
    "print(5==5 and 3<5)\n",
    "print(3>5 or 3<5)\n",
    "print(3>9 or 3<2)"
   ]
  },
  {
   "cell_type": "markdown",
   "metadata": {},
   "source": [
    "E' possibile effettuare in controllo sui tipi mediante `type` e `==`:"
   ]
  },
  {
   "cell_type": "code",
   "execution_count": 25,
   "metadata": {},
   "outputs": [
    {
     "data": {
      "text/plain": [
       "True"
      ]
     },
     "execution_count": 25,
     "metadata": {},
     "output_type": "execute_result"
    }
   ],
   "source": [
    "type(2.5)==float"
   ]
  },
  {
   "cell_type": "code",
   "execution_count": 26,
   "metadata": {},
   "outputs": [
    {
     "data": {
      "text/plain": [
       "False"
      ]
     },
     "execution_count": 26,
     "metadata": {},
     "output_type": "execute_result"
    }
   ],
   "source": [
    "type(2)==float"
   ]
  },
  {
   "cell_type": "markdown",
   "metadata": {},
   "source": [
    "In alternativa, è possibile utilizzare la funzione `isinstance`:"
   ]
  },
  {
   "cell_type": "code",
   "execution_count": 27,
   "metadata": {},
   "outputs": [
    {
     "data": {
      "text/plain": [
       "True"
      ]
     },
     "execution_count": 27,
     "metadata": {},
     "output_type": "execute_result"
    }
   ],
   "source": [
    "isinstance(2.5,float)"
   ]
  },
  {
   "cell_type": "code",
   "execution_count": 28,
   "metadata": {},
   "outputs": [
    {
     "data": {
      "text/plain": [
       "False"
      ]
     },
     "execution_count": 28,
     "metadata": {},
     "output_type": "execute_result"
    }
   ],
   "source": [
    "isinstance(2.5,int)"
   ]
  },
  {
   "cell_type": "markdown",
   "metadata": {},
   "source": [
    "La funzione `isinstance` è particolarmente comoda quando si vuole controllare che una variabile appartenga a uno tra una serie di tipi. Ad esempio, se vogliamo controllare che una variabile contenga un numero:"
   ]
  },
  {
   "cell_type": "code",
   "execution_count": 29,
   "metadata": {},
   "outputs": [
    {
     "data": {
      "text/plain": [
       "True"
      ]
     },
     "execution_count": 29,
     "metadata": {},
     "output_type": "execute_result"
    }
   ],
   "source": [
    "isinstance(2.5,(float,int))"
   ]
  },
  {
   "cell_type": "code",
   "execution_count": 30,
   "metadata": {},
   "outputs": [
    {
     "data": {
      "text/plain": [
       "True"
      ]
     },
     "execution_count": 30,
     "metadata": {},
     "output_type": "execute_result"
    }
   ],
   "source": [
    "isinstance(5,(float,int))"
   ]
  },
  {
   "cell_type": "markdown",
   "metadata": {},
   "source": [
    "## Stampa\n",
    "\n",
    "La stampa avviene mediante la funzione `print`:"
   ]
  },
  {
   "cell_type": "code",
   "execution_count": 31,
   "metadata": {},
   "outputs": [
    {
     "name": "stdout",
     "output_type": "stream",
     "text": [
      "2.2\n"
     ]
    }
   ],
   "source": [
    "var = 2.2\n",
    "print(var)"
   ]
  },
  {
   "cell_type": "markdown",
   "metadata": {},
   "source": [
    "Possiamo stampare una riga vuota omettendo il parametro di print:"
   ]
  },
  {
   "cell_type": "code",
   "execution_count": 32,
   "metadata": {},
   "outputs": [
    {
     "name": "stdout",
     "output_type": "stream",
     "text": [
      "2\n",
      "\n",
      "3\n"
     ]
    }
   ],
   "source": [
    "print(2)\n",
    "print()\n",
    "print(3)"
   ]
  },
  {
   "cell_type": "markdown",
   "metadata": {},
   "source": [
    "Alternativamente, possiamo specificare di inserire due \"a capo\" alla fine della stampa specificando il parametro `end=\"\\n\\n\"` (\"\\n\\n\" è una stringa - approfondiremo le stringhe in seguito):"
   ]
  },
  {
   "cell_type": "code",
   "execution_count": 33,
   "metadata": {},
   "outputs": [
    {
     "name": "stdout",
     "output_type": "stream",
     "text": [
      "2\n",
      "\n",
      "3\n"
     ]
    }
   ],
   "source": [
    "print(2, end=\"\\n\\n\")\n",
    "print(3)"
   ]
  },
  {
   "cell_type": "markdown",
   "metadata": {},
   "source": [
    "Lo stesso metodo può essere usato per omettere l'inserimento di spazi tra due stampe consecutive:"
   ]
  },
  {
   "cell_type": "code",
   "execution_count": 34,
   "metadata": {},
   "outputs": [
    {
     "name": "stdout",
     "output_type": "stream",
     "text": [
      "23\n"
     ]
    }
   ],
   "source": [
    "print(2, end=\"\") #\"\" rappresenta una stringa vuota\n",
    "print(3)"
   ]
  },
  {
   "cell_type": "markdown",
   "metadata": {},
   "source": [
    "Possiamo stampare più elementi di seguito separando gli argomenti di `print` con delle virgole. Inoltre, la funzione `print` permette di stampare anche numeri, oltre a stringhe:"
   ]
  },
  {
   "cell_type": "code",
   "execution_count": 35,
   "metadata": {},
   "outputs": [
    {
     "name": "stdout",
     "output_type": "stream",
     "text": [
      "1 4.0 7 2 True\n"
     ]
    }
   ],
   "source": [
    "print(1,8/2,7,14%6,True)"
   ]
  },
  {
   "cell_type": "markdown",
   "metadata": {},
   "source": [
    "## Liste\n",
    "\n",
    "Le liste sono una struttura dati di tipo sequenziali che possono essere utilizzate per rappresentare sequenze di valori di qualsiasi tipo. Le liste possono anche contenere elementi di tipi misti. Una lista si definisce utilizzando le parentesi quadre:"
   ]
  },
  {
   "cell_type": "code",
   "execution_count": 36,
   "metadata": {},
   "outputs": [
    {
     "name": "stdout",
     "output_type": "stream",
     "text": [
      "[1, 2, 3, 4, 5]\n"
     ]
    }
   ],
   "source": [
    "l = [1,2,3,4,5] #questa è una lista (parentesi quadre)\n",
    "print(l)"
   ]
  },
  {
   "cell_type": "markdown",
   "metadata": {},
   "source": [
    "Le liste possono essere indicizzate utilizzando le parentesi quadre. L'indicizzazione inizia da 0 come in C:"
   ]
  },
  {
   "cell_type": "code",
   "execution_count": 37,
   "metadata": {},
   "outputs": [
    {
     "name": "stdout",
     "output_type": "stream",
     "text": [
      "1 3\n",
      "[8, 2, 3, 4, 5]\n"
     ]
    }
   ],
   "source": [
    "print(l[0],l[2])\n",
    "l[0]=8 #assegnamento di un nuovo valore alla prima locazione di memoria\n",
    "print(l)"
   ]
  },
  {
   "cell_type": "markdown",
   "metadata": {},
   "source": [
    "E' possibile aggiungere nuovi valori a una lista mediante la funzione `append`:"
   ]
  },
  {
   "cell_type": "code",
   "execution_count": 38,
   "metadata": {},
   "outputs": [
    {
     "name": "stdout",
     "output_type": "stream",
     "text": [
      "[]\n",
      "[1, 2.5, 8, -12]\n"
     ]
    }
   ],
   "source": [
    "l = []\n",
    "print(l)\n",
    "l.append(1)\n",
    "l.append(2.5)\n",
    "l.append(8)\n",
    "l.append(-12)\n",
    "print(l)"
   ]
  },
  {
   "cell_type": "markdown",
   "metadata": {},
   "source": [
    "Le liste possono essere concatenate mediante l'operatore somma:"
   ]
  },
  {
   "cell_type": "code",
   "execution_count": 39,
   "metadata": {},
   "outputs": [
    {
     "name": "stdout",
     "output_type": "stream",
     "text": [
      "[1, 5, 4, 6]\n"
     ]
    }
   ],
   "source": [
    "l1 = [1,5]\n",
    "l2 = [4,6]\n",
    "print(l1+l2)"
   ]
  },
  {
   "cell_type": "markdown",
   "metadata": {},
   "source": [
    "L'operatore di moltiplicazione può essere utilizzato per ripetere una lista. Ad esempio:"
   ]
  },
  {
   "cell_type": "code",
   "execution_count": 40,
   "metadata": {},
   "outputs": [
    {
     "name": "stdout",
     "output_type": "stream",
     "text": [
      "[1, 3, 1, 3]\n"
     ]
    }
   ],
   "source": [
    "l1 = [1,3]\n",
    "print(l1*2) #concatena l1 a se stessa per due volte"
   ]
  },
  {
   "cell_type": "markdown",
   "metadata": {},
   "source": [
    "Utilizzando l'operatore di moltiplicazione, è possibile creare velocemente liste con un numero arbitrario di valori uguali. Ad esempio:"
   ]
  },
  {
   "cell_type": "code",
   "execution_count": 41,
   "metadata": {},
   "outputs": [
    {
     "name": "stdout",
     "output_type": "stream",
     "text": [
      "[0, 0, 0, 0, 0]\n",
      "[0, 0, 0, 0, 1]\n"
     ]
    }
   ],
   "source": [
    "print([0]*5) #lista di 5 zeri\n",
    "print([0]*4+[1]*1) #4 zeri seguiti da 1 uno"
   ]
  },
  {
   "cell_type": "markdown",
   "metadata": {},
   "source": [
    "La lunghezza di una lista può essere ottenuta utilizzando la funzione `len`:"
   ]
  },
  {
   "cell_type": "code",
   "execution_count": 42,
   "metadata": {},
   "outputs": [
    {
     "name": "stdout",
     "output_type": "stream",
     "text": [
      "[4, 6]\n",
      "2\n"
     ]
    }
   ],
   "source": [
    "print(l2)\n",
    "print(len(l2))"
   ]
  },
  {
   "cell_type": "markdown",
   "metadata": {},
   "source": [
    "Sulle liste è definito un ordinamento che dipende dalla loro lunghezza: liste più corte sono \"minori di\" liste più lunghe:"
   ]
  },
  {
   "cell_type": "code",
   "execution_count": 43,
   "metadata": {},
   "outputs": [
    {
     "name": "stdout",
     "output_type": "stream",
     "text": [
      "True\n",
      "True\n"
     ]
    }
   ],
   "source": [
    "print([1,2,3]<[1,2,3,4])\n",
    "print([1,2,3,5]>=[1,2,3,4])"
   ]
  },
  {
   "cell_type": "markdown",
   "metadata": {},
   "source": [
    "L'operatore `==` non controlla se le lunghezze sono uguali, ma verifica che il contenuto delle due liste sia effettivamente uguale:"
   ]
  },
  {
   "cell_type": "code",
   "execution_count": 44,
   "metadata": {},
   "outputs": [
    {
     "name": "stdout",
     "output_type": "stream",
     "text": [
      "True\n",
      "False\n"
     ]
    }
   ],
   "source": [
    "print([1,2,3]==[1,2,3])\n",
    "print([1,2,3]==[1,3,2])"
   ]
  },
  {
   "cell_type": "markdown",
   "metadata": {},
   "source": [
    "E' possibile controllare che un elemento appartenga alla lista mediante la parola chiave `in`:"
   ]
  },
  {
   "cell_type": "code",
   "execution_count": 45,
   "metadata": {},
   "outputs": [
    {
     "name": "stdout",
     "output_type": "stream",
     "text": [
      "False\n",
      "True\n"
     ]
    }
   ],
   "source": [
    "print(7 in [1,3,4])\n",
    "print(3 in [1,3,4])"
   ]
  },
  {
   "cell_type": "markdown",
   "metadata": {},
   "source": [
    "Le funzioni `max` e `min` possono essere utilizzate per calcolare il massimo e il minimo di una lista:"
   ]
  },
  {
   "cell_type": "code",
   "execution_count": 46,
   "metadata": {},
   "outputs": [
    {
     "name": "stdout",
     "output_type": "stream",
     "text": [
      "10\n",
      "-5\n"
     ]
    }
   ],
   "source": [
    "l=[-5,2,10,6]\n",
    "print(max(l))\n",
    "print(min(l))"
   ]
  },
  {
   "cell_type": "markdown",
   "metadata": {},
   "source": [
    "E' possibile rimuovere un valore da una lista mediante il metodo `remove`:"
   ]
  },
  {
   "cell_type": "code",
   "execution_count": 47,
   "metadata": {},
   "outputs": [
    {
     "name": "stdout",
     "output_type": "stream",
     "text": [
      "[1, 2, 3, 4, 2]\n",
      "[1, 3, 4, 2]\n"
     ]
    }
   ],
   "source": [
    "l=[1,2,3,4,2]\n",
    "print(l)\n",
    "l.remove(2)\n",
    "print(l)"
   ]
  },
  {
   "cell_type": "markdown",
   "metadata": {},
   "source": [
    "Tale metodo tuttavia rimuove solo **la prima occorrenza** del valore passato. Se vogliamo rimuovere un valore identificato da uno specifico indice, possiamo usare il costrutto `del`:"
   ]
  },
  {
   "cell_type": "code",
   "execution_count": 48,
   "metadata": {},
   "outputs": [
    {
     "name": "stdout",
     "output_type": "stream",
     "text": [
      "[1, 2, 3, 4, 2]\n",
      "[1, 2, 3, 4]\n"
     ]
    }
   ],
   "source": [
    "l=[1,2,3,4,2]\n",
    "print(l)\n",
    "del l[4]\n",
    "print(l)"
   ]
  },
  {
   "cell_type": "markdown",
   "metadata": {},
   "source": [
    "Inoltre, per accedere all'ultimo elemento e rimuoverlo, possiamo usare il metodo `pop`:"
   ]
  },
  {
   "cell_type": "code",
   "execution_count": 49,
   "metadata": {},
   "outputs": [
    {
     "name": "stdout",
     "output_type": "stream",
     "text": [
      "[1, 2, 3, 4, 5]\n",
      "5\n",
      "[1, 2, 3, 4]\n"
     ]
    }
   ],
   "source": [
    "l=[1,2,3,4,5]\n",
    "print(l)\n",
    "print(l.pop())\n",
    "print(l)"
   ]
  },
  {
   "cell_type": "markdown",
   "metadata": {},
   "source": [
    "### Indicizzazione e Slicing\n",
    "E' possibile estrarre una sottolista da una lista specificando il primo indice (incluso) e l'ultimo indice (escluso) separati dal simbolo `:`. Questa notazione è in qualche modo reminiscende del metodo `substr` delle stringhe di C++."
   ]
  },
  {
   "cell_type": "code",
   "execution_count": 50,
   "metadata": {},
   "outputs": [
    {
     "name": "stdout",
     "output_type": "stream",
     "text": [
      "Lista l     -> [1, 2, 3, 4, 5, 6, 7, 8]\n",
      "l[0:3]      -> [1, 2, 3]\n",
      "l[1:2]      -> [2]\n"
     ]
    }
   ],
   "source": [
    "l = [1,2,3,4,5,6,7,8]\n",
    "print(\"Lista l     ->\", l)\n",
    "print(\"l[0:3]      ->\", l[0:3]) #dall'indice 0 (incluso) all'indice 3 (escluso)\n",
    "print(\"l[1:2]      ->\", l[1:2]) #dall'indice 1 (incluso) all'indice 2 (escluso)"
   ]
  },
  {
   "cell_type": "markdown",
   "metadata": {},
   "source": [
    "Quando il primo indice è omesso, questo viene automaticamente sostituito con \"0\":"
   ]
  },
  {
   "cell_type": "code",
   "execution_count": 51,
   "metadata": {},
   "outputs": [
    {
     "name": "stdout",
     "output_type": "stream",
     "text": [
      "l[:2]       -> [1, 2]\n",
      "l[0:2]      -> [1, 2]\n"
     ]
    }
   ],
   "source": [
    "print(\"l[:2]       ->\", l[:2]) #dall'indice 0 (incluso) all'indice 2 (escluso)\n",
    "#equivalente al seguente:\n",
    "print(\"l[0:2]      ->\", l[0:2]) #dall'indice 0 (incluso) all'indice 2 (escluso)"
   ]
  },
  {
   "cell_type": "markdown",
   "metadata": {},
   "source": [
    "Analogamente, se omettiamo il secondo indice, esso viene sostituito con l'ultimo indice della lista:"
   ]
  },
  {
   "cell_type": "code",
   "execution_count": null,
   "metadata": {},
   "outputs": [
    {
     "name": "stdout",
     "output_type": "stream",
     "text": [
      "Ultimo indice della lista: 8\n",
      "l[3:]       -> [4, 5, 6, 7, 8]\n",
      "l[3:5]      -> [4, 5, 6, 7, 8]\n"
     ]
    }
   ],
   "source": [
    "print(\"Ultimo indice della lista:\",len(l))\n",
    "print(\"l[3:]       ->\", l[3:]) #dall'indice 3 (incluso) all'indice 5 (escluso)\n",
    "#equivalente al seguente:\n",
    "print(\"l[3:8]      ->\", l[3:8]) #dall'indice 3 (incluso) all'indice 5 (escluso)"
   ]
  },
  {
   "cell_type": "markdown",
   "metadata": {},
   "source": [
    "Omettendo entrambi gli indici:"
   ]
  },
  {
   "cell_type": "code",
   "execution_count": 53,
   "metadata": {},
   "outputs": [
    {
     "name": "stdout",
     "output_type": "stream",
     "text": [
      "l[:]         -> [1, 2, 3, 4, 5, 6, 7, 8]\n",
      "l[0:8]       -> [1, 2, 3, 4, 5, 6, 7, 8]\n"
     ]
    }
   ],
   "source": [
    "print(\"l[:]         ->\", l[:]) #dall'indice 0 (incluso) all'indice 5 (escluso)\n",
    "#equivalente a:\n",
    "print(\"l[0:8]       ->\", l[0:8]) #dall'indice 0 (incluso) all'indice 5 (escluso)"
   ]
  },
  {
   "cell_type": "markdown",
   "metadata": {},
   "source": [
    "E' inoltre possibile specificare il \"passo\", come terzo numero separato da un altro simbolo `:`:"
   ]
  },
  {
   "cell_type": "code",
   "execution_count": null,
   "metadata": {},
   "outputs": [
    {
     "name": "stdout",
     "output_type": "stream",
     "text": [
      "l[0:8:2]    -> [1, 3, 5, 7]\n",
      "l[::2]      -> [1, 3, 5, 7]\n"
     ]
    }
   ],
   "source": [
    "print(\"l[0:8:2]    ->\", l[0:8:2]) \n",
    "#da 0 (incluso) a 8 (escluso) a un passo di 2 (un elemento sì e uno no)\n",
    "#equivalente a:\n",
    "print(\"l[::2]      ->\", l[::2]) \n",
    "#da 0 (incluso) a 8 (escluso) a un passo di 2 (un elemento sì e uno no)"
   ]
  },
  {
   "cell_type": "markdown",
   "metadata": {},
   "source": [
    "Per invertire l'ordine degli elementi, è inoltre possibile specificare un passo negativo. In questo caso, bisogna assicurarsi che il primo indice sia maggiore del secondo:"
   ]
  },
  {
   "cell_type": "code",
   "execution_count": 55,
   "metadata": {},
   "outputs": [
    {
     "name": "stdout",
     "output_type": "stream",
     "text": [
      "l[5:2:-1]    -> [6, 5, 4]\n",
      "l[2:5:-1]    -> []\n"
     ]
    }
   ],
   "source": [
    "print(\"l[5:2:-1]    ->\", l[5:2:-1]) \n",
    "#da 5 (incluso) a 2 (escluso) a un passo di -1\n",
    "print(\"l[2:5:-1]    ->\", l[2:5:-1]) \n",
    "#in questo caso, il primo indice è più piccolo del secondo, \n",
    "#quindi il risultato sarà una lista vuota"
   ]
  },
  {
   "cell_type": "markdown",
   "metadata": {},
   "source": [
    "Anche in questo caso, omettendo degli indici, questi verranno rimpiazzati con le scelte più ovvie. Nel caso dell'omissione però, cambiano le condizioni di inclusione ed esclusione degli indici. Vediamo qualche esempio:"
   ]
  },
  {
   "cell_type": "code",
   "execution_count": 56,
   "metadata": {},
   "outputs": [
    {
     "name": "stdout",
     "output_type": "stream",
     "text": [
      "l[:2:-1]     -> [8, 7, 6, 5, 4]\n",
      "l[8:2:-1]    -> [8, 7, 6, 5, 4]\n",
      "\n",
      "l[3::-1]     -> [4, 3, 2, 1]\n",
      "l[3:0:-1]    -> [4, 3, 2]\n",
      "\n",
      "l[::-1]      -> [8, 7, 6, 5, 4, 3, 2, 1]\n",
      "l[8:0:-1]    -> [8, 7, 6, 5, 4, 3, 2]\n"
     ]
    }
   ],
   "source": [
    "print(\"l[:2:-1]     ->\", l[:2:-1]) \n",
    "#dall'ultimo indice (incluso) a 2 (escluso) a un passo di -1\n",
    "#equivalente a:\n",
    "print(\"l[8:2:-1]    ->\", l[8:2:-1]) \n",
    "\n",
    "print()\n",
    "print(\"l[3::-1]     ->\", l[3::-1]) \n",
    "#dal terzo indice (incluso) a 0 (incluso, in quanto omesso) a un passo di -1\n",
    "#simile, ma non equivalente a:\n",
    "print(\"l[3:0:-1]    ->\", l[3:0:-1]) \n",
    "#dal terzo indice (incluso) a 0 (escluso) a un passo di -1\n",
    "\n",
    "print()\n",
    "print(\"l[::-1]      ->\", l[::-1])\n",
    "#dall'ultimo indice (incluso) al primo (incluso, in quanto omesso) a un passo di -1\n",
    "#simile, ma non equivalente a:\n",
    "print(\"l[8:0:-1]    ->\", l[8:0:-1]) \n",
    "#dall'ultimo indice (incluso) al primo (escluso) a un passo di -1"
   ]
  },
  {
   "cell_type": "markdown",
   "metadata": {},
   "source": [
    "La notazione `::-1`, in particolare, è utile per invertire le liste:"
   ]
  },
  {
   "cell_type": "code",
   "execution_count": 57,
   "metadata": {},
   "outputs": [
    {
     "name": "stdout",
     "output_type": "stream",
     "text": [
      "[1, 2, 3, 4, 5, 6, 7, 8]\n",
      "[8, 7, 6, 5, 4, 3, 2, 1]\n"
     ]
    }
   ],
   "source": [
    "print(l)\n",
    "print(l[::-1])"
   ]
  },
  {
   "cell_type": "markdown",
   "metadata": {},
   "source": [
    "Indicizzazione e slicing possono essere utilizzate anche per assegnare valori agli elementi delle liste. Ad esempio:"
   ]
  },
  {
   "cell_type": "code",
   "execution_count": 58,
   "metadata": {},
   "outputs": [
    {
     "name": "stdout",
     "output_type": "stream",
     "text": [
      "[5, 7, 9, -1, 2, 6, 5, 4, -6]\n",
      "[5, 7, 9, 80, 2, 6, 5, 4, -6]\n"
     ]
    }
   ],
   "source": [
    "l = [5,7,9,-1,2,6,5,4,-6]\n",
    "print(l)\n",
    "l[3]=80\n",
    "print(l)"
   ]
  },
  {
   "cell_type": "markdown",
   "metadata": {},
   "source": [
    "E' anche possibile assegnare più di un elemento alla volta:"
   ]
  },
  {
   "cell_type": "code",
   "execution_count": 59,
   "metadata": {},
   "outputs": [
    {
     "name": "stdout",
     "output_type": "stream",
     "text": [
      "[0, 7, 0, 80, 0, 6, 0, 4, 0]\n"
     ]
    }
   ],
   "source": [
    "l[::2]=[0,0,0,0,0] #assegno 0 ai numeri di posizione dispari\n",
    "print(l)"
   ]
  },
  {
   "cell_type": "markdown",
   "metadata": {},
   "source": [
    "Le liste possono anche essere annidate:"
   ]
  },
  {
   "cell_type": "code",
   "execution_count": 60,
   "metadata": {},
   "outputs": [
    {
     "name": "stdout",
     "output_type": "stream",
     "text": [
      "[1, 2, [4, 8, [7, 5]], [9], 2]\n"
     ]
    }
   ],
   "source": [
    "a1 = [1,2,[4,8,[7,5]],[9],2]\n",
    "print(a1)"
   ]
  },
  {
   "cell_type": "markdown",
   "metadata": {},
   "source": [
    "L'indicizzazione di queste strutture annidate avviene concatenando gli indici come segue:"
   ]
  },
  {
   "cell_type": "code",
   "execution_count": 61,
   "metadata": {},
   "outputs": [
    {
     "name": "stdout",
     "output_type": "stream",
     "text": [
      "7\n"
     ]
    }
   ],
   "source": [
    "print(a1[2][2][0]) #il primo indice seleziona la lista [4,8,...]\n",
    "#il secondo indice seleziona la lista [7,5]\n",
    "#il terzo indice seleziona l'elemento 7"
   ]
  },
  {
   "cell_type": "markdown",
   "metadata": {},
   "source": [
    "\n",
    "> **Domanda 2**\n",
    ">\n",
    "> Estrarre la lista `[3, 1.2]` dalla seguente lista:\n",
    "> ```python\n",
    "> l = [1, 4, 5, [7, 9, -1, [0, 3, 2, 1.2], 8, []]]\n",
    "> ```"
   ]
  },
  {
   "cell_type": "markdown",
   "metadata": {},
   "source": [
    "## Tuple\n",
    "\n",
    "Le tuple sono simili alle liste, ma sono immutabili. Non possono cioè essere modificate dopo la loro inizializzazione. A differenza delle liste, le tuple vengono definite utilizzando le parentesi tonde:"
   ]
  },
  {
   "cell_type": "code",
   "execution_count": 62,
   "metadata": {},
   "outputs": [
    {
     "name": "stdout",
     "output_type": "stream",
     "text": [
      "[1, 2, 3, 4, 5]\n",
      "(1, 2, 3, 4, 5)\n"
     ]
    }
   ],
   "source": [
    "l = [1,2,3,4,5] #questa è una lista (parentesi quadre)\n",
    "t = (1,2,3,4,5) #questa è una tupla (parentesi tonde)\n",
    "print(l)\n",
    "print(t)"
   ]
  },
  {
   "cell_type": "markdown",
   "metadata": {},
   "source": [
    "Le regole di indicizzazione e slicing viste per le liste valgono anche per tuple. Tuttavia, come accennato prima, le tuple non possono essere modificate:\n",
    "\n",
    "```python\n",
    "t = (1,3,5)\n",
    "t[0]=8 #restituisce un errore in quanto le tuple sono immutabili\n",
    "```"
   ]
  },
  {
   "cell_type": "markdown",
   "metadata": {},
   "source": [
    "Inizializzare una tupla con un solo elemento produrrà un numero. Ciò avviene in quanto le parentesi tonde vengono utilizzate anche per raggruppare i diversi termini di una operazione:"
   ]
  },
  {
   "cell_type": "code",
   "execution_count": 63,
   "metadata": {},
   "outputs": [
    {
     "name": "stdout",
     "output_type": "stream",
     "text": [
      "1\n"
     ]
    }
   ],
   "source": [
    "t=(1)\n",
    "print(t)"
   ]
  },
  {
   "cell_type": "markdown",
   "metadata": {},
   "source": [
    "Per definire una tupla monodimensionale, dobbiamo aggiungere esplicitamente una virgola, dopo il primo elemento:"
   ]
  },
  {
   "cell_type": "code",
   "execution_count": 64,
   "metadata": {},
   "outputs": [
    {
     "name": "stdout",
     "output_type": "stream",
     "text": [
      "(1,)\n"
     ]
    }
   ],
   "source": [
    "t=(1,)\n",
    "print(t)"
   ]
  },
  {
   "cell_type": "markdown",
   "metadata": {},
   "source": [
    "E' inoltre possibile omettere le parentesi nella definizione delle tuple:"
   ]
  },
  {
   "cell_type": "code",
   "execution_count": 65,
   "metadata": {},
   "outputs": [
    {
     "name": "stdout",
     "output_type": "stream",
     "text": [
      "(1, 3, 5) (1,)\n"
     ]
    }
   ],
   "source": [
    "t1=1,3,5\n",
    "t2=1,\n",
    "print(t1,t2)"
   ]
  },
  {
   "cell_type": "markdown",
   "metadata": {},
   "source": [
    "E' possibile convertire tuple in liste e viceversa:"
   ]
  },
  {
   "cell_type": "code",
   "execution_count": 66,
   "metadata": {},
   "outputs": [
    {
     "name": "stdout",
     "output_type": "stream",
     "text": [
      "[4, 5, 6, 7, 4, 8, 2, 4]\n",
      "(1, 2, 3, 4, 5, 6, 7, 8)\n"
     ]
    }
   ],
   "source": [
    "l=[1,2,3,4,5,6,7,8]\n",
    "t=(4,5,6,7,4,8,2,4)\n",
    "ttl = list(t)\n",
    "ltt = tuple(l)\n",
    "\n",
    "print(ttl)\n",
    "print(ltt)"
   ]
  },
  {
   "cell_type": "markdown",
   "metadata": {},
   "source": [
    "Le tuple possono inoltre essere create e \"spacchettate\" al volo:"
   ]
  },
  {
   "cell_type": "code",
   "execution_count": 67,
   "metadata": {},
   "outputs": [
    {
     "name": "stdout",
     "output_type": "stream",
     "text": [
      "(1, 2, 3)\n",
      "1 2 3\n"
     ]
    }
   ],
   "source": [
    "t1=1,2,3\n",
    "\n",
    "print(t1)\n",
    "\n",
    "a,b,c=t1 #spacchettamento della tupla\n",
    "print(a,b,c)"
   ]
  },
  {
   "cell_type": "markdown",
   "metadata": {},
   "source": [
    "Questo sistema permette di effettuare lo swap di due variabili in una sola riga di codice:"
   ]
  },
  {
   "cell_type": "code",
   "execution_count": 68,
   "metadata": {},
   "outputs": [
    {
     "name": "stdout",
     "output_type": "stream",
     "text": [
      "Var 1 Var 2\n",
      "Var 2 Var 1\n",
      "Var 2 Var 1\n"
     ]
    }
   ],
   "source": [
    "var1 = \"Var 1\"\n",
    "var2 = \"Var 2\"\n",
    "\n",
    "print(var1,var2)\n",
    "\n",
    "var1,var2=var2,var1\n",
    "print(var1,var2)\n",
    "\n",
    "#equivalente a:\n",
    "var1 = \"Var 1\"\n",
    "var2 = \"Var 2\"\n",
    "t = (var2,var1)\n",
    "var1=t[0]\n",
    "var2=t[1]\n",
    "print(var1,var2)"
   ]
  },
  {
   "cell_type": "markdown",
   "metadata": {},
   "source": [
    "Le tuple annidate possono essere spacchetate come segue:"
   ]
  },
  {
   "cell_type": "code",
   "execution_count": 69,
   "metadata": {},
   "outputs": [
    {
     "name": "stdout",
     "output_type": "stream",
     "text": [
      "(1, (2, 3), (4, 5, 6))\n",
      "1 2 3 4 5 6\n"
     ]
    }
   ],
   "source": [
    "t = (1,(2,3),(4,5,6))\n",
    "x,(t11,t12),(t21,t22,t23) = t\n",
    "print(t)\n",
    "print(x, t11, t12, t21, t22, t23)\n",
    "#La notazione a,b,c,d,e,f = t restituirebbe un errore"
   ]
  },
  {
   "cell_type": "markdown",
   "metadata": {},
   "source": [
    "> **Domanda 3**\n",
    "> \n",
    "> Qual è la differenza principale tra tuple e liste? Si faccia l'esempio di un caso in cui una tupla è un tipo più appropriato rispetto a una lista."
   ]
  },
  {
   "cell_type": "markdown",
   "metadata": {},
   "source": [
    "## Stringhe\n",
    "In Python possiamo definire le stringhe in tre modi:"
   ]
  },
  {
   "cell_type": "code",
   "execution_count": 70,
   "metadata": {},
   "outputs": [
    {
     "data": {
      "text/plain": [
       "(str, str, str)"
      ]
     },
     "execution_count": 70,
     "metadata": {},
     "output_type": "execute_result"
    }
   ],
   "source": [
    "s1 = 'Singoli apici'\n",
    "s2 = \"Doppi apici, possono contenere anche apici singoli '' \"\n",
    "s3 = \"\"\"Tripli\n",
    "doppi apici\n",
    "possono essere definite su più righe\"\"\"\n",
    "type(s1), type(s2), type(s3)"
   ]
  },
  {
   "cell_type": "markdown",
   "metadata": {},
   "source": [
    "La stampa avviene mediante la funzione \"print\":"
   ]
  },
  {
   "cell_type": "code",
   "execution_count": 71,
   "metadata": {},
   "outputs": [
    {
     "name": "stdout",
     "output_type": "stream",
     "text": [
      "Singoli apici\n",
      "Doppi apici, possono contenere anche apici singoli '' \n",
      "Tripli\n",
      "doppi apici\n",
      "possono essere definite su più righe\n"
     ]
    }
   ],
   "source": [
    "print(s1)\n",
    "print(s2)\n",
    "print(s3)"
   ]
  },
  {
   "cell_type": "markdown",
   "metadata": {},
   "source": [
    "Le stringhe hanno inoltre una serie di metodi predefiniti:"
   ]
  },
  {
   "cell_type": "code",
   "execution_count": 72,
   "metadata": {},
   "outputs": [
    {
     "name": "stdout",
     "output_type": "stream",
     "text": [
      "CIAO\n",
      "ciao\n",
      "Ciao come stai\n",
      "['ciao', 'come', 'stai']\n",
      "['ciao', ' come stai']\n",
      "uno-due-tre\n"
     ]
    }
   ],
   "source": [
    "print(\"ciao\".upper()) #rendi tutto maiuscolo\n",
    "print(\"CIAO\".lower()) #tutto minuscolo\n",
    "print(\"ciao come stai\".capitalize()) #prima lettera maiuscola\n",
    "print(\"ciao come stai\".split()) #spezza una stringa e restituisce una lista\n",
    "print(\"ciao, come stai\".split(','))# spezza quando trova la virgola\n",
    "print(\"-\".join([\"uno\",\"due\",\"tre\"])) #costruisce una stringa concatenando gli elementi \n",
    "#della lista e separandoli mediante il delimitatore"
   ]
  },
  {
   "cell_type": "markdown",
   "metadata": {},
   "source": [
    "Le stringhe possono essere indicizzate in maniera simile agli array per ottenere delle sottostringhe:"
   ]
  },
  {
   "cell_type": "code",
   "execution_count": 73,
   "metadata": {},
   "outputs": [
    {
     "name": "stdout",
     "output_type": "stream",
     "text": [
      "Hell\n",
      "o World\n",
      "o W\n",
      "dlroW olleH\n"
     ]
    }
   ],
   "source": [
    "s = \"Hello World\"\n",
    "print(s[:4]) #primi 4 caratteri\n",
    "print(s[4:]) #dal quarto carattere alla fine\n",
    "print(s[4:7]) #dal quarto al sesto carattere\n",
    "print(s[::-1]) #inversione della stringa"
   ]
  },
  {
   "cell_type": "markdown",
   "metadata": {},
   "source": [
    "Il metodo `split` in particolare può essere utilizzato per la tokenizzazione o per estrarre sottostringhe in maniera agevole. Ad esempio, supponiamo di voler estrarre il numero `2017` dalla stringa `A-2017-B2`:"
   ]
  },
  {
   "cell_type": "code",
   "execution_count": 74,
   "metadata": {},
   "outputs": [
    {
     "name": "stdout",
     "output_type": "stream",
     "text": [
      "2017\n"
     ]
    }
   ],
   "source": [
    "print(\"A-2017-B2\".split('-')[1])"
   ]
  },
  {
   "cell_type": "markdown",
   "metadata": {},
   "source": [
    "L'operatore `==` controlla che due stringhe siano uguali:"
   ]
  },
  {
   "cell_type": "code",
   "execution_count": 75,
   "metadata": {},
   "outputs": [
    {
     "name": "stdout",
     "output_type": "stream",
     "text": [
      "True\n",
      "False\n"
     ]
    }
   ],
   "source": [
    "print(\"ciao\"==\"ciao\")\n",
    "print(\"ciao\"==\"ciao2\")"
   ]
  },
  {
   "cell_type": "markdown",
   "metadata": {},
   "source": [
    "Gli altri operatori rispecchiano l'ordinamento lessicografico tra stringhe:"
   ]
  },
  {
   "cell_type": "code",
   "execution_count": 76,
   "metadata": {},
   "outputs": [
    {
     "name": "stdout",
     "output_type": "stream",
     "text": [
      "True\n",
      "False\n"
     ]
    }
   ],
   "source": [
    "print(\"abc\"<\"def\")\n",
    "print(\"Abc\">\"def\")"
   ]
  },
  {
   "cell_type": "markdown",
   "metadata": {},
   "source": [
    "> **Domanda 4**\n",
    "> \n",
    "> Quale codice permette di manipolare la stringa `azyp-kk9-382` per ottenere la stringa `Kk9`?"
   ]
  },
  {
   "cell_type": "markdown",
   "metadata": {},
   "source": [
    "## Formattazione di Stringhe\n",
    "Possiamo costruire stringhe formattate seguendo una sintassi simile a quella di printf:"
   ]
  },
  {
   "cell_type": "code",
   "execution_count": 77,
   "metadata": {},
   "outputs": [
    {
     "name": "stdout",
     "output_type": "stream",
     "text": [
      "Questa stringa è formattata. Posso inserire numeri, as esempio 3.00\n"
     ]
    }
   ],
   "source": [
    "#per costruire la stringa formattata, faccio seguire la stringa dal simbolo \"%\" e poi inserisco\n",
    "#una tupla contenente gli argomenti\n",
    "s1 = \"Questa %s è formattata. Posso inserire numeri, as esempio %0.2f\" % (\"stringa\",3.00002)\n",
    "print(s1)"
   ]
  },
  {
   "cell_type": "markdown",
   "metadata": {},
   "source": [
    "Un modo alternativo e più recente di formattare le strighe consiste nell'usare il metodo \"format\":"
   ]
  },
  {
   "cell_type": "code",
   "execution_count": 78,
   "metadata": {},
   "outputs": [
    {
     "name": "stdout",
     "output_type": "stream",
     "text": [
      "Questa stringa è formattata. Posso inserire numeri, ad esempio 3.000002\n"
     ]
    }
   ],
   "source": [
    "s2 = \"Questa {} è formattata. Posso inserire numeri, ad esempio {}\"\\\n",
    "    .format(\"stringa\",3.000002)# il carattere \"\\\" permette di spezzare la riga\n",
    "print(s2)"
   ]
  },
  {
   "cell_type": "markdown",
   "metadata": {},
   "source": [
    "E' possibile specificare il tipo di ogni argomento utilizzando i due punti:"
   ]
  },
  {
   "cell_type": "code",
   "execution_count": 79,
   "metadata": {},
   "outputs": [
    {
     "name": "stdout",
     "output_type": "stream",
     "text": [
      "Questa stringa è formattata. Posso inserire numeri, ad esempio 3.00\n"
     ]
    }
   ],
   "source": [
    "print(\"Questa {:s} è formattata. Posso inserire numeri, ad esempio {:0.2f}\"\\\n",
    "      .format(\"stringa\",3.00002)) #parametri posizionali, senza speci"
   ]
  },
  {
   "cell_type": "markdown",
   "metadata": {},
   "source": [
    "E' anche possibile assegnare nomi agli argomenti in modo da richimarli in maniera non ordinata:"
   ]
  },
  {
   "cell_type": "code",
   "execution_count": 80,
   "metadata": {},
   "outputs": [
    {
     "name": "stdout",
     "output_type": "stream",
     "text": [
      "Questa stringa è formattata. Posso inserire numeri, ad esempio 3.00\n"
     ]
    }
   ],
   "source": [
    "print(\"Questa {str:s} è formattata. Posso inserire numeri, ad esempio {num:0.2f}\"\\\n",
    "    .format(num=3.00002, str=\"stringa\"))"
   ]
  },
  {
   "cell_type": "markdown",
   "metadata": {},
   "source": [
    "> **Domanda 5**\n",
    "> \n",
    "> Date le variabili:\n",
    "> \n",
    "> ```python\n",
    "> a = \"hello\"\n",
    "> b = \"world\"\n",
    "> c = 2.0```\n",
    "> \n",
    "> Usare la formattazione delle stringhe per stampare la stringa `hello 2 times world`."
   ]
  },
  {
   "cell_type": "markdown",
   "metadata": {},
   "source": [
    "## Dizionari\n",
    "I dizionari sono simili a delle liste, ma vengono indicizzate da oggetti di tipo \"hashable\", ad esempio stringhe:"
   ]
  },
  {
   "cell_type": "code",
   "execution_count": 81,
   "metadata": {},
   "outputs": [
    {
     "name": "stdout",
     "output_type": "stream",
     "text": [
      "{'val1': 1, 'val2': 2}\n",
      "1\n"
     ]
    }
   ],
   "source": [
    "d = {\"val1\":1, \"val2\":2}\n",
    "print(d)\n",
    "\n",
    "print(d[\"val1\"])"
   ]
  },
  {
   "cell_type": "markdown",
   "metadata": {},
   "source": [
    "E' possibile ottenere la lista delle chiavi e dei valori come segue:"
   ]
  },
  {
   "cell_type": "code",
   "execution_count": 82,
   "metadata": {},
   "outputs": [
    {
     "name": "stdout",
     "output_type": "stream",
     "text": [
      "dict_keys(['val1', 'val2'])\n",
      "dict_values([1, 2])\n"
     ]
    }
   ],
   "source": [
    "print(d.keys()) #chiavi e valori sono in ordine casuale\n",
    "print(d.values())"
   ]
  },
  {
   "cell_type": "markdown",
   "metadata": {},
   "source": [
    "E' possibile indicizzare dizionari con tuple (che sono \"hashable\")"
   ]
  },
  {
   "cell_type": "code",
   "execution_count": 83,
   "metadata": {},
   "outputs": [
    {
     "name": "stdout",
     "output_type": "stream",
     "text": [
      "5\n"
     ]
    }
   ],
   "source": [
    "d = {(2,3):5, (4,6):11}\n",
    "\n",
    "print(d[(2,3)])"
   ]
  },
  {
   "cell_type": "markdown",
   "metadata": {},
   "source": [
    "I dizionari possono anche essere estesi dinamicamente:"
   ]
  },
  {
   "cell_type": "code",
   "execution_count": 84,
   "metadata": {},
   "outputs": [
    {
     "name": "stdout",
     "output_type": "stream",
     "text": [
      "{'chiave': 'valore'}\n"
     ]
    }
   ],
   "source": [
    "d = dict() #dizionario vuoto\n",
    "d[\"chiave\"]=\"valore\"\n",
    "print(d)"
   ]
  },
  {
   "cell_type": "markdown",
   "metadata": {},
   "source": [
    "Possiamo controllare che un elemento si trovi tra le chiavi di un dizionario come segue:"
   ]
  },
  {
   "cell_type": "code",
   "execution_count": 85,
   "metadata": {},
   "outputs": [
    {
     "name": "stdout",
     "output_type": "stream",
     "text": [
      "False\n",
      "True\n"
     ]
    }
   ],
   "source": [
    "d = {1:'ciao', '5': 5, 8: -1}\n",
    "print(5 in d)\n",
    "print('5' in d)"
   ]
  },
  {
   "cell_type": "markdown",
   "metadata": {},
   "source": [
    "E' possibile controllare che un elemento si trovi tra i valori di un dizionario come segue:"
   ]
  },
  {
   "cell_type": "code",
   "execution_count": 86,
   "metadata": {},
   "outputs": [
    {
     "name": "stdout",
     "output_type": "stream",
     "text": [
      "True\n"
     ]
    }
   ],
   "source": [
    "print(-1 in d.values())"
   ]
  },
  {
   "cell_type": "markdown",
   "metadata": {},
   "source": [
    "## Set\n",
    "I set sono delle strutture dati che possono contenere solo una istanza di un dato elemento:"
   ]
  },
  {
   "cell_type": "code",
   "execution_count": 87,
   "metadata": {},
   "outputs": [
    {
     "name": "stdout",
     "output_type": "stream",
     "text": [
      "{1, 2, 3}\n"
     ]
    }
   ],
   "source": [
    "s = {1,2,3,3}\n",
    "print(s) #può essere contenuto solo un \"3\""
   ]
  },
  {
   "cell_type": "markdown",
   "metadata": {},
   "source": [
    "Possiamo aggiungere un elemento a un set mediante il metodo \"add\":"
   ]
  },
  {
   "cell_type": "code",
   "execution_count": 88,
   "metadata": {},
   "outputs": [
    {
     "name": "stdout",
     "output_type": "stream",
     "text": [
      "{1, 2, 3}\n",
      "{1, 2, 3, 5}\n",
      "{1, 2, 3, 5}\n"
     ]
    }
   ],
   "source": [
    "print(s)\n",
    "s.add(5)\n",
    "print(s)\n",
    "s.add(1) #non ha effetto. 1 è già presente\n",
    "print(s)"
   ]
  },
  {
   "cell_type": "markdown",
   "metadata": {},
   "source": [
    "Anche in questo caso, possiamo controllare l'appartenenza di un elemento ad un set mediante la parola chiave `in`:"
   ]
  },
  {
   "cell_type": "code",
   "execution_count": 89,
   "metadata": {},
   "outputs": [
    {
     "name": "stdout",
     "output_type": "stream",
     "text": [
      "True\n",
      "False\n"
     ]
    }
   ],
   "source": [
    "s={1,5,-1}\n",
    "print(-1 in s)\n",
    "print(8 in s)"
   ]
  },
  {
   "cell_type": "markdown",
   "metadata": {},
   "source": [
    "E' inoltre possibile creare set da liste:"
   ]
  },
  {
   "cell_type": "code",
   "execution_count": 90,
   "metadata": {},
   "outputs": [
    {
     "data": {
      "text/plain": [
       "{1, 2, 3, 5}"
      ]
     },
     "execution_count": 90,
     "metadata": {},
     "output_type": "execute_result"
    }
   ],
   "source": [
    "set([1,3,3,2,5,1])"
   ]
  },
  {
   "cell_type": "markdown",
   "metadata": {},
   "source": [
    "## Costrutti if/elif/else\n",
    "\n",
    "I costrutti condizionali funzionano in maniera simile ai linguaggi basati su C. A differenza di tali linguaggi tuttavia, Python sostituisce le parentesi con l'indentazione obbligatoria. Il seguente codice C++:\n",
    "\n",
    "```c++\n",
    "int var1 = 5;\n",
    "int var2 = 10;\n",
    "if(var1<var2) {\n",
    "    int var3 = var1+var2;\n",
    "    cout << \"Hello World \"<<var3;\n",
    "}\n",
    "cout << \"End\";\n",
    "```\n",
    "\n",
    "viene invece scritto come segue:"
   ]
  },
  {
   "cell_type": "code",
   "execution_count": 91,
   "metadata": {},
   "outputs": [
    {
     "name": "stdout",
     "output_type": "stream",
     "text": [
      "Hello World 15\n",
      "End\n"
     ]
    }
   ],
   "source": [
    "var1 = 5\n",
    "var2 = 10\n",
    "if var1<var2:\n",
    "    var3 = var1+var2\n",
    "    print(\"Hello World\",var3)\n",
    "print(\"End\")"
   ]
  },
  {
   "cell_type": "markdown",
   "metadata": {},
   "source": [
    "In pratica:\n",
    " * la condizione da verificare non è racchiusa tra parentesi;\n",
    " * i due punti indicano l'inizio del corpo dell'if;\n",
    " * l'indentazione stabilisce cosa appartiene al corpo dell'if e cosa non appartiene al corpo dell'if.\n",
    " \n",
    "Dal momento che l'indentazione ha valore sintattico, essa diventa obbligatoria. Inoltre, non è possibile indentare parti di codice ove ciò non è significativo. Ad esempio, il seguente codice restituisce un errore:\n",
    "\n",
    "```python\n",
    "print(\"Hello\")\n",
    "    print(\"World\") #errore di indentazione\n",
    "```"
   ]
  },
  {
   "cell_type": "markdown",
   "metadata": {},
   "source": [
    "Le regole di indentazione appena viste, valgono anche per i cicli e altri costrutti in cui è necessario deliminare blocchi di codice. Il costrutto if, permette anche di specificare un ramo `else` e un ramo `elif` per i controlli in cascata. Vediamo alcuni esempi:"
   ]
  },
  {
   "cell_type": "code",
   "execution_count": 92,
   "metadata": {},
   "outputs": [
    {
     "name": "stdout",
     "output_type": "stream",
     "text": [
      "cool!\n",
      "cool again :)\n",
      "true\n",
      "5>4\n"
     ]
    }
   ],
   "source": [
    "true_condition = True\n",
    "false_condition = False\n",
    "\n",
    "if true_condition: #i due punti \":\" sono obbligatori\n",
    "    word=\"cool!\"\n",
    "    print(word) #l'indentazione è obbligatoria\n",
    "    \n",
    "if false_condition:\n",
    "    print(\"not cool :(\")\n",
    "    \n",
    "if not false_condition: #neghiamo la condizione con \"not\"\n",
    "    word=\"cool\"\n",
    "    print(word,\"again :)\")\n",
    "    \n",
    "if false_condition:\n",
    "    word=\"this\"\n",
    "    print(word+\" is \"+\"false\")\n",
    "else: #due punti + indentazione\n",
    "    print(\"true\")\n",
    "    \n",
    "if false_condition:\n",
    "    print(\"false\")\n",
    "elif 5>4: #implementa un \"else if\"\n",
    "    print(\"5>4\")\n",
    "else:\n",
    "    print(\"4<5??\")"
   ]
  },
  {
   "cell_type": "markdown",
   "metadata": {},
   "source": [
    "E' anche possibile verificare se un valore appartiene a una lista. Ciò è molto utile per verificare se un parametro è ammesso."
   ]
  },
  {
   "cell_type": "code",
   "execution_count": 93,
   "metadata": {},
   "outputs": [
    {
     "name": "stdout",
     "output_type": "stream",
     "text": [
      "double is ok\n",
      "8 not in ['single', 'double', 5, -2]\n"
     ]
    }
   ],
   "source": [
    "allowed_parameters = [\"single\", \"double\", 5, -2]\n",
    "\n",
    "parameter = \"double\"\n",
    "\n",
    "if parameter in allowed_parameters:\n",
    "    print(parameter,\"is ok\")\n",
    "else:\n",
    "    print(parameter,\"not in\",allowed_parameters)\n",
    "\n",
    "x=8\n",
    "if x in allowed_parameters:\n",
    "    print(x,\"is not ok\")\n",
    "else:\n",
    "    print(x,\"not in\",allowed_parameters)"
   ]
  },
  {
   "cell_type": "markdown",
   "metadata": {},
   "source": [
    "Una variante \"inline\" del costrutto if può essere utilizzata per gli assegnamenti condizionali:"
   ]
  },
  {
   "cell_type": "code",
   "execution_count": 94,
   "metadata": {},
   "outputs": [
    {
     "name": "stdout",
     "output_type": "stream",
     "text": [
      "5\n"
     ]
    }
   ],
   "source": [
    "var1 = 5\n",
    "var2 = 3\n",
    "m = var1 if var1>var2 else var2 #calcola il massimo\n",
    "print(m)"
   ]
  },
  {
   "cell_type": "markdown",
   "metadata": {},
   "source": [
    "In Python non esiste il costrutto switch, per implementare il quale si utilizza una lista di elif in cascata:"
   ]
  },
  {
   "cell_type": "code",
   "execution_count": 95,
   "metadata": {},
   "outputs": [
    {
     "name": "stdout",
     "output_type": "stream",
     "text": [
      "ciao mondo\n"
     ]
    }
   ],
   "source": [
    "s = \"ciao\"\n",
    "if s==\"help\":\n",
    "    print(\"help\")\n",
    "elif s==\"world\":\n",
    "    print(\"hello\",s)\n",
    "elif s==\"ciao\":\n",
    "    print(s,\"mondo\")\n",
    "else:\n",
    "    print(\"Default\")"
   ]
  },
  {
   "cell_type": "markdown",
   "metadata": {},
   "source": [
    "> **Domanda 6**\n",
    "> \n",
    "> Si consideri il seguente codice:\n",
    "> \n",
    "> ```python\n",
    "> x=2\n",
    "> if x>0:\n",
    ">     y=12\n",
    ">     x=x+y\n",
    ">     print y\n",
    "> else:\n",
    ">         z=28\n",
    ">         h=12\n",
    ">         print z+h\n",
    "> ```\n",
    "> \n",
    "> Si evidenziino eventuali errori sintattici. Si riscriva il codice in C++ o Java e si confrontino le due versioni del codice."
   ]
  },
  {
   "cell_type": "markdown",
   "metadata": {},
   "source": [
    "## Cicli while e for\n",
    "I cicli while, si definiscono come segue:"
   ]
  },
  {
   "cell_type": "code",
   "execution_count": 96,
   "metadata": {},
   "outputs": [
    {
     "name": "stdout",
     "output_type": "stream",
     "text": [
      "0\n",
      "1\n",
      "2\n",
      "3\n",
      "4\n"
     ]
    }
   ],
   "source": [
    "i=0\n",
    "while i<5: #due punti \":\"\n",
    "    print(i) #indentazione\n",
    "    i+=1"
   ]
  },
  {
   "cell_type": "markdown",
   "metadata": {},
   "source": [
    "La sintassi dei cicli for è un po' diversa dalla sintassi standard del C. I cicli for in Python sono più simili a dei **foreach** e richiedono un \"iterable\" (ad esempio una lista o una tupla) per essere eseguiti:"
   ]
  },
  {
   "cell_type": "code",
   "execution_count": 97,
   "metadata": {},
   "outputs": [
    {
     "name": "stdout",
     "output_type": "stream",
     "text": [
      "1\n",
      "7\n",
      "2\n",
      "5\n"
     ]
    }
   ],
   "source": [
    "l=[1,7,2,5]\n",
    "for v in l:\n",
    "    print(v)"
   ]
  },
  {
   "cell_type": "markdown",
   "metadata": {},
   "source": [
    "Per scrivere qualcosa di equivalente al seguente codice C:\n",
    "\n",
    "```c++\n",
    "for (int i=0; i<5; i++) {...}\n",
    "```\n",
    "\n",
    "possiamo utilizzare la funzione **range** che genera numeri sequenziali al volo:"
   ]
  },
  {
   "cell_type": "code",
   "execution_count": 98,
   "metadata": {},
   "outputs": [
    {
     "name": "stdout",
     "output_type": "stream",
     "text": [
      "0\n",
      "1\n",
      "2\n",
      "3\n",
      "4\n"
     ]
    }
   ],
   "source": [
    "for i in range(5):\n",
    "    print(i)"
   ]
  },
  {
   "cell_type": "markdown",
   "metadata": {},
   "source": [
    "Range non genera direttamente una lista, ma un \"generator\" di tipo range, ovvero un oggetto capace di generare numeri. Se vogliamo convertirlo in una lista, dobbiamo farlo esplicitamente:"
   ]
  },
  {
   "cell_type": "code",
   "execution_count": 99,
   "metadata": {},
   "outputs": [
    {
     "name": "stdout",
     "output_type": "stream",
     "text": [
      "range(0, 5)\n",
      "[0, 1, 2, 3, 4]\n"
     ]
    }
   ],
   "source": [
    "print(range(5)) #oggetto di tipo range, genera numeri da 0 a 5 (escluso)\n",
    "print(list(range(5))) #range non fa altro che generare numeri consecutivi\n",
    "#convertendo range in una lista, possiamo verificare quali numeri vengono generati"
   ]
  },
  {
   "cell_type": "markdown",
   "metadata": {},
   "source": [
    "Se volessimo scorrere contemporaneamente indici e valori di un array potremmo scrivere:"
   ]
  },
  {
   "cell_type": "code",
   "execution_count": 100,
   "metadata": {},
   "outputs": [
    {
     "name": "stdout",
     "output_type": "stream",
     "text": [
      "0 -> 1\n",
      "1 -> 7\n",
      "2 -> 2\n",
      "3 -> 4\n",
      "4 -> 5\n"
     ]
    }
   ],
   "source": [
    "array=[1,7,2,4,5] \n",
    "for i in range(len(array)):\n",
    "    print(i,\"->\",array[i])"
   ]
  },
  {
   "cell_type": "markdown",
   "metadata": {},
   "source": [
    "In Python però, è possibile utilizzare la funzione `enumerate` per ottenere lo stesso risultato in maniera più compatta:"
   ]
  },
  {
   "cell_type": "code",
   "execution_count": 101,
   "metadata": {},
   "outputs": [
    {
     "name": "stdout",
     "output_type": "stream",
     "text": [
      "0 -> 1\n",
      "1 -> 7\n",
      "2 -> 2\n",
      "3 -> 4\n",
      "4 -> 5\n"
     ]
    }
   ],
   "source": [
    "for index,value in enumerate(array): #get both index and value\n",
    "    print(index,\"->\",value)"
   ]
  },
  {
   "cell_type": "markdown",
   "metadata": {},
   "source": [
    "Supponiamo adesso di voler scorrere contemporaneamente tutti gli i-esimi elementi di più liste. Ad esempio:"
   ]
  },
  {
   "cell_type": "code",
   "execution_count": 102,
   "metadata": {},
   "outputs": [
    {
     "name": "stdout",
     "output_type": "stream",
     "text": [
      "1 1 9\n",
      "6 8 2\n",
      "2 2 5\n",
      "5 7 2\n"
     ]
    }
   ],
   "source": [
    "a1=[1,6,2,5]\n",
    "a2=[1,8,2,7]\n",
    "a3=[9,2,5,2]\n",
    "\n",
    "for i in range(len(a1)):\n",
    "    print(a1[i],a2[i],a3[i])"
   ]
  },
  {
   "cell_type": "markdown",
   "metadata": {},
   "source": [
    "Una funzione molto utile quando si lavora con i cicli è `zip`, che permette di raggruppare gli elementi corrispondenti di diverse liste:"
   ]
  },
  {
   "cell_type": "code",
   "execution_count": 103,
   "metadata": {},
   "outputs": [
    {
     "name": "stdout",
     "output_type": "stream",
     "text": [
      "[(1, 3), (6, 8), (5, 9), (2, 2)]\n"
     ]
    }
   ],
   "source": [
    "l1 = [1,6,5,2]\n",
    "l2 = [3,8,9,2]\n",
    "zipped=list(zip(l1,l2))\n",
    "print(zipped)"
   ]
  },
  {
   "cell_type": "markdown",
   "metadata": {},
   "source": [
    "In pratica, `zip` raggruppa gli elementi i-esimi delle liste in tuple. La i-esima tupla di `zipped` contiene gli i-esimi elementi delle due liste. Combinando `zip` con un ciclo for, possiamo ottenere il seguente risultato:"
   ]
  },
  {
   "cell_type": "code",
   "execution_count": 104,
   "metadata": {},
   "outputs": [
    {
     "name": "stdout",
     "output_type": "stream",
     "text": [
      "1 1 9\n",
      "6 8 2\n",
      "2 2 5\n",
      "5 7 2\n"
     ]
    }
   ],
   "source": [
    "for v1,v2,v3 in zip(a1,a2,a3):\n",
    "    print(v1,v2,v3)"
   ]
  },
  {
   "cell_type": "markdown",
   "metadata": {},
   "source": [
    "che è equivalente al codice visto in precedenza. E' anche possibile combinare zip e enumerate come segue:"
   ]
  },
  {
   "cell_type": "code",
   "execution_count": 105,
   "metadata": {},
   "outputs": [
    {
     "name": "stdout",
     "output_type": "stream",
     "text": [
      "0 -> 1 1 9\n",
      "1 -> 6 8 2\n",
      "2 -> 2 2 5\n",
      "3 -> 5 7 2\n"
     ]
    }
   ],
   "source": [
    "for i,(v1,v2,v3) in enumerate(zip(a1,a2,a3)):\n",
    "    print(i,\"->\",v1,v2,v3)"
   ]
  },
  {
   "cell_type": "markdown",
   "metadata": {},
   "source": [
    "Attenzione, anche `zip`, come `range`, produce un generator. Pertanto è necessario convertirlo esplicitamente in una lista per stamparne i valori:"
   ]
  },
  {
   "cell_type": "code",
   "execution_count": 106,
   "metadata": {},
   "outputs": [
    {
     "name": "stdout",
     "output_type": "stream",
     "text": [
      "<zip object at 0x103f7c740>\n",
      "[(1, 3), (6, 8), (5, 9), (2, 2)]\n"
     ]
    }
   ],
   "source": [
    "print(zip(l1,l2))\n",
    "print(list(zip(l1,l2)))"
   ]
  },
  {
   "cell_type": "markdown",
   "metadata": {},
   "source": [
    "## Comprensione di liste e dizionari\n",
    "\n",
    "La comprensione di liste è uno strumento sintattico che permette di definire liste al volo a partire da altre liste, in maniera iterativa. Ad esempio, è possibile moltiplicare tutti gli elementi di una lista per un valore, come segue:"
   ]
  },
  {
   "cell_type": "code",
   "execution_count": 107,
   "metadata": {},
   "outputs": [
    {
     "name": "stdout",
     "output_type": "stream",
     "text": [
      "[0, 1, 2, 3, 4, 5, 6, 7]\n",
      "[0, 3, 6, 9, 12, 15, 18, 21]\n"
     ]
    }
   ],
   "source": [
    "a = list(range(8))\n",
    "\n",
    "b = [x*3 for x in a] #la lista \"a\" viene iterata. La variabile \"x\" conterrà di volta in volta i valori di a\n",
    "\n",
    "print(a)\n",
    "print(b)"
   ]
  },
  {
   "cell_type": "markdown",
   "metadata": {},
   "source": [
    "E' anche possibile includere solo alcuni elementi selettivamente:"
   ]
  },
  {
   "cell_type": "code",
   "execution_count": 108,
   "metadata": {},
   "outputs": [
    {
     "name": "stdout",
     "output_type": "stream",
     "text": [
      "[0, 2, 4, 6]\n"
     ]
    }
   ],
   "source": [
    "print([x for x in a if x%2==0]) #include solo i numeri pari"
   ]
  },
  {
   "cell_type": "code",
   "execution_count": 109,
   "metadata": {},
   "outputs": [
    {
     "name": "stdout",
     "output_type": "stream",
     "text": [
      "[1, 3, 8, 2, 9]\n",
      "[4, 9, 2, 1, 4]\n",
      "[5, 12, 10, 3, 13]\n"
     ]
    }
   ],
   "source": [
    "a = [1,3,8,2,9]\n",
    "b = [4,9,2,1,4]\n",
    "\n",
    "c = [x+y for x,y in zip(a,b)]\n",
    "\n",
    "print(a)\n",
    "print(b)\n",
    "print(c) #i suoi elementi sono le somme degli elementi di a e b"
   ]
  },
  {
   "cell_type": "markdown",
   "metadata": {},
   "source": [
    "I meccanismi di comprensione si possono utilizzare anche nel caso dei dizionari:"
   ]
  },
  {
   "cell_type": "code",
   "execution_count": 110,
   "metadata": {},
   "outputs": [
    {
     "name": "stdout",
     "output_type": "stream",
     "text": [
      "{'one': 1, 'two': 2, 'three': 3, 'four': 4, 'five': 5, 'six': 6, 'seven': 7}\n"
     ]
    }
   ],
   "source": [
    "a = [\"one\",\"two\",\"three\",\"four\",\"five\",\"six\",\"seven\"]\n",
    "b = range(1,8)\n",
    "d = {i:s for i,s in zip(a,b)}\n",
    "print(d)"
   ]
  },
  {
   "cell_type": "markdown",
   "metadata": {},
   "source": [
    "> **Domanda 7**\n",
    "> \n",
    "> Tutte le operazioni che si possono fare mediante comprensione di liste e dizionari possono essere fatte mediante un ciclo for? Quali sono i vantaggi principali di queste tecniche rispetto a l'utilizzo dei cicli for?"
   ]
  },
  {
   "cell_type": "markdown",
   "metadata": {},
   "source": [
    "## Definizione di Funzioni\n",
    "\n",
    "Considerato quanto già detto sulla indentazione, la definizione di una funzione è molto naturale:"
   ]
  },
  {
   "cell_type": "code",
   "execution_count": 111,
   "metadata": {},
   "outputs": [
    {
     "name": "stdout",
     "output_type": "stream",
     "text": [
      "9\n"
     ]
    }
   ],
   "source": [
    "def fun(x, y):\n",
    "    return x**y\n",
    "\n",
    "print(fun(3,2)) #il valore di default \"2\" viene utilizzato"
   ]
  },
  {
   "cell_type": "markdown",
   "metadata": {},
   "source": [
    " Inoltre, in maniera simile a quanto avviene con il linguaggio C, è possibile definire valori di default per i parametri:"
   ]
  },
  {
   "cell_type": "code",
   "execution_count": 112,
   "metadata": {},
   "outputs": [
    {
     "name": "stdout",
     "output_type": "stream",
     "text": [
      "9\n"
     ]
    }
   ],
   "source": [
    "def fun(x, y=2):\n",
    "    return x**y\n",
    "\n",
    "print(fun(3)) #il valore di default \"2\" viene utilizzato"
   ]
  },
  {
   "cell_type": "markdown",
   "metadata": {},
   "source": [
    "I parametri di una funzione possono essere specificati in un ordine diverso rispetto a quello in cui essi sono stati definiti richiamandone il nome:"
   ]
  },
  {
   "cell_type": "code",
   "execution_count": 113,
   "metadata": {},
   "outputs": [
    {
     "name": "stdout",
     "output_type": "stream",
     "text": [
      "8\n"
     ]
    }
   ],
   "source": [
    "print(fun(y=3,x=2))"
   ]
  },
  {
   "cell_type": "markdown",
   "metadata": {},
   "source": [
    "E' possibile definire una funzione che restituisce più di un elemento utilizzando le tuple:"
   ]
  },
  {
   "cell_type": "code",
   "execution_count": 114,
   "metadata": {},
   "outputs": [
    {
     "name": "stdout",
     "output_type": "stream",
     "text": [
      "(8, 9)\n",
      "8 9\n"
     ]
    }
   ],
   "source": [
    "def soMuchFun(x,y):\n",
    "    return x**y, y**x\n",
    "\n",
    "print(soMuchFun(2,3))\n",
    "\n",
    "a,b=soMuchFun(2,3) #posso \"spacchettare\" la tupla restituita\n",
    "print(a,b)"
   ]
  },
  {
   "cell_type": "markdown",
   "metadata": {},
   "source": [
    "E' inoltre possibile definire funzioni anonime come segue:"
   ]
  },
  {
   "cell_type": "code",
   "execution_count": 115,
   "metadata": {},
   "outputs": [
    {
     "name": "stdout",
     "output_type": "stream",
     "text": [
      "4\n",
      "5\n",
      "(4, 9)\n"
     ]
    }
   ],
   "source": [
    "myfun = lambda x: x**2 #un input e un output\n",
    "print(myfun(2))\n",
    "\n",
    "myfun1 = lambda x,y: x+y #due input e un output\n",
    "print(myfun1(2,3))\n",
    "\n",
    "myfun2 = lambda x,y: (x**2,y**2) #due input e due output\n",
    "print(myfun2(2,3))"
   ]
  },
  {
   "cell_type": "markdown",
   "metadata": {},
   "source": [
    "> **Domanda 8**\n",
    "> \n",
    "> Qual è il vantaggio di definire una funzione mediante **lambda**? Quali sono i suoi limiti?"
   ]
  },
  {
   "cell_type": "markdown",
   "metadata": {},
   "source": [
    "## Map e Filter\n",
    "\n",
    "Le funzioni **map** e **filter** permettono di eseguire operazioni sugli elementi di una lista. In particolare, **map** applica una funzione a tutti gli elementi di una lista:"
   ]
  },
  {
   "cell_type": "code",
   "execution_count": 116,
   "metadata": {},
   "outputs": [
    {
     "name": "stdout",
     "output_type": "stream",
     "text": [
      "[0, 1, 2, 3, 4, 5]\n",
      "[0, 1, 4, 9, 16, 25]\n"
     ]
    }
   ],
   "source": [
    "def pow2(x):\n",
    "    return(x**2)\n",
    "\n",
    "l1 = list(range(6))\n",
    "l2 = list(map(pow2,l1)) #applica pow2 a tutti gli elementi della lista\n",
    "print(l1)\n",
    "print(l2)"
   ]
  },
  {
   "cell_type": "markdown",
   "metadata": {},
   "source": [
    "Quando si utilizzano **map** e **filter**, tornano particolarmente utili le funzioni anonime, che ci permettono di scrivere in maniera più compatta. Ad esempio, possiamo riscrivere quanto visto sopra come segue:"
   ]
  },
  {
   "cell_type": "code",
   "execution_count": 117,
   "metadata": {},
   "outputs": [
    {
     "name": "stdout",
     "output_type": "stream",
     "text": [
      "[0, 1, 4, 9, 16, 25]\n"
     ]
    }
   ],
   "source": [
    "l2 = list(map(lambda x: x**2, l1))\n",
    "print(l2)"
   ]
  },
  {
   "cell_type": "markdown",
   "metadata": {},
   "source": [
    "**Filter** permette di selezionare un sottoinsieme degli elementi di una lista sulla base di una condizione. La condizione viene specificata passando una funzione che prende in input l'elemento della lista e restituisce un booleano:"
   ]
  },
  {
   "cell_type": "code",
   "execution_count": 118,
   "metadata": {},
   "outputs": [
    {
     "name": "stdout",
     "output_type": "stream",
     "text": [
      "[0, 2, 4]\n"
     ]
    }
   ],
   "source": [
    "print(list(filter(lambda x: x%2==0,l1))) #filtra solo i numeri pari"
   ]
  },
  {
   "cell_type": "markdown",
   "metadata": {},
   "source": [
    "## Programmazione Orientata agli Oggetti - Definizione di Classi"
   ]
  },
  {
   "cell_type": "markdown",
   "metadata": {},
   "source": [
    "La programmazione orientata agli oggetti in Python è intuitiva. Le principali differenze rispetto ai più diffusi linguaggi di programmazione orientata agli oggetti sono le seguenti:\n",
    " * non esistono i modificatori di visibilità (**private**, **protected** e **public**). Per convenzione, tutti i simboli privati vanno preceduti da \"\\_\\_\";\n",
    " * ogni metodo è una funzione con un argomento di default (**self**) che rappresenta lo stato dell'oggetto;\n",
    " * il costruttore si chiama \"\\_\\_init\\_\\_\"."
   ]
  },
  {
   "cell_type": "code",
   "execution_count": 119,
   "metadata": {},
   "outputs": [
    {
     "name": "stdout",
     "output_type": "stream",
     "text": [
      "3\n",
      "27\n",
      "729\n"
     ]
    }
   ],
   "source": [
    "class Classe(object): #ereditiamo dalla classe standard \"object\"\n",
    "    def __init__(self, x): #costruttore\n",
    "        self.x=x #inserisco il valore x nello stato dell'oggetto\n",
    "    \n",
    "    def prt(self):\n",
    "        print(self.x)\n",
    "    \n",
    "    def power(self,y=2):\n",
    "        self.x =  self.x**y\n",
    "        \n",
    "c = Classe(3)\n",
    "c.prt()\n",
    "c.power(3)\n",
    "c.prt()\n",
    "c.power()\n",
    "c.prt()"
   ]
  },
  {
   "cell_type": "markdown",
   "metadata": {},
   "source": [
    "Per estendere una classe, si fa come segue:"
   ]
  },
  {
   "cell_type": "code",
   "execution_count": 120,
   "metadata": {},
   "outputs": [
    {
     "name": "stdout",
     "output_type": "stream",
     "text": [
      "yeah 4\n"
     ]
    }
   ],
   "source": [
    "class Classe2(Classe): #derivo la classe \"Classe\" ed eredito metodi e proprietà\n",
    "    def __init__(self,x):\n",
    "        super(Classe2, self).__init__(x) #chiamo il costruttore della classe madre\n",
    "    def prt(self): #ridefinisco il metodo prt\n",
    "        print(\"yeah\",self.x)\n",
    "        \n",
    "c2 = Classe2(2)\n",
    "c2.power()\n",
    "c2.prt()"
   ]
  },
  {
   "cell_type": "markdown",
   "metadata": {},
   "source": [
    "## Duck Typing\n",
    "\n",
    "Per identificare i tipi dei dati, Python segue il principio del <a href=\"https://en.wikipedia.org/wiki/Duck_typing\">duck typing</a>. Secondo tale principio, i tipi sono definiti utilizzando il _duck test_:\n",
    "\n",
    "<blockquote>If it looks like a duck, swims like a duck, and quacks like a duck, then it probably is a duck.</blockquote>\n",
    "\n",
    "Ciò significa che i tipi sono definiti in relazione alle operazioni che possono essere eseguite su di essi. Vediamo un esempio (preso da Wikipedia)."
   ]
  },
  {
   "cell_type": "code",
   "execution_count": 121,
   "metadata": {},
   "outputs": [
    {
     "name": "stdout",
     "output_type": "stream",
     "text": [
      "Sparrow flying\n",
      "Airplane flying\n",
      "Error: 'Whale' object has no attribute 'fly'\n"
     ]
    }
   ],
   "source": [
    "class Sparrow(object):\n",
    "    def fly(self):\n",
    "        print(\"Sparrow flying\")\n",
    "\n",
    "class Airplane(object):\n",
    "    def fly(self):\n",
    "        print(\"Airplane flying\")\n",
    "\n",
    "class Whale(object):\n",
    "    def swim(self):\n",
    "        print(\"Whale swimming\")\n",
    "\n",
    "def lift_off(entity):\n",
    "    entity.fly()\n",
    "\n",
    "sparrow = Sparrow()\n",
    "airplane = Airplane()\n",
    "whale = Whale()\n",
    "\n",
    "try:\n",
    "    lift_off(sparrow) \n",
    "    lift_off(airplane) \n",
    "    lift_off(whale) #Errore, il \"tipo\" di questo oggetto non permette di eseguire il metodo \"fly\". \n",
    "                    #Secondo il duck test, questo tipo è incompatibile\n",
    "except AttributeError as e:\n",
    "    print(\"Error:\",e)\n",
    "        "
   ]
  },
  {
   "cell_type": "markdown",
   "metadata": {},
   "source": [
    "## Eccezioni\n",
    "In maniera simile a molti linguaggi moderni, Python supporta l'uso delle eccezioni. E' possibile catturare una eccezione con il costrutto `try - except`:"
   ]
  },
  {
   "cell_type": "code",
   "execution_count": 122,
   "metadata": {},
   "outputs": [
    {
     "name": "stdout",
     "output_type": "stream",
     "text": [
      "Houston, abbiamo un problema!\n"
     ]
    }
   ],
   "source": [
    "try:\n",
    "    5/0\n",
    "except:\n",
    "    print(\"Houston, abbiamo un problema!\")"
   ]
  },
  {
   "cell_type": "markdown",
   "metadata": {},
   "source": [
    "In Python, le eccezioni sono tipizzate. Possiamo decidere quali tipi di eccezioni catturare come segue:"
   ]
  },
  {
   "cell_type": "code",
   "execution_count": 123,
   "metadata": {},
   "outputs": [
    {
     "name": "stdout",
     "output_type": "stream",
     "text": [
      "Houston, abbiamo un problema!\n"
     ]
    }
   ],
   "source": [
    "try:\n",
    "    5/0\n",
    "except ZeroDivisionError:\n",
    "    print(\"Houston, abbiamo un problema!\")"
   ]
  },
  {
   "cell_type": "markdown",
   "metadata": {},
   "source": [
    "Possiamo avere accesso all'eccezione scatenata (ad esempio ottenere maggiori informazioni) come segue:"
   ]
  },
  {
   "cell_type": "code",
   "execution_count": 124,
   "metadata": {},
   "outputs": [
    {
     "name": "stdout",
     "output_type": "stream",
     "text": [
      "Houston, abbiamo un problema!\n",
      "division by zero\n"
     ]
    }
   ],
   "source": [
    "try:\n",
    "    5/0\n",
    "except ZeroDivisionError as e:\n",
    "    print(\"Houston, abbiamo un problema!\")\n",
    "    print(e)"
   ]
  },
  {
   "cell_type": "markdown",
   "metadata": {},
   "source": [
    "E' possibile lanciare una eccezione mediante `raise`:\n",
    "\n",
    "```python\n",
    "def div(x,y):\n",
    "    if y==0:\n",
    "        raise ZeroDivisionError() #lancia una eccezione\n",
    "    else:\n",
    "        return x/y\n",
    "div(5,2)\n",
    "div(5,0)\n",
    "```"
   ]
  },
  {
   "cell_type": "markdown",
   "metadata": {},
   "source": [
    "Possiamo definire nuove eccezioni estendendo la classe `Exception`:\n",
    "\n",
    "```python\n",
    "class MyException(Exception):\n",
    "    def __init__(self, message):\n",
    "        self.message = message\n",
    "\n",
    "raise MyException(\"Exception!\")\n",
    "```"
   ]
  },
  {
   "cell_type": "markdown",
   "metadata": {},
   "source": [
    "Un modo veloce e comodo per lanciare una eccezione (un AssertionError nello specifico) quando qualcosa va male, è utilizzare `assert`, che prende in input un booleano e, opzionalmente, un messaggio di errore. Il booleano va posto uguale a `False` se qualcosa è andato storto. Vediamo un esempio:\n",
    "\n",
    "```python\n",
    "def div(x,y):\n",
    "    assert y!=0, \"Cannot divide by zero!\"\n",
    "    return x/y\n",
    "\n",
    "div(5,2)\n",
    "div(5,0)\n",
    "```"
   ]
  },
  {
   "cell_type": "markdown",
   "metadata": {},
   "source": [
    "## Definizione di Moduli\n",
    "Quando si costruiscono programmi complessi, può essere utile raggruppare le definizioni di funzione e classi in moduli. Il modo più semplice di definire un modulo in Python consiste nell'inserire le definizioni all'interno di un file apposito `modulo.py`. Le definizioni potranno poi essere importati mediante la sintassi `from modulo import funzione`, a patto che il file che richiama le funzioni e quello che definisce il modulo si trovino nella stessa cartella. Vediamo un esempio:\n",
    "\n",
    "```python\n",
    "#file modulo.py\n",
    "def mysum(a,b):\n",
    "    return a+b\n",
    "\n",
    "def myprod(a,b):\n",
    "    return a*b\n",
    "```\n",
    "\n",
    "```python\n",
    "#file main.py (stessa cartella di modulo.py)\n",
    "from modulo import mysum, myprod\n",
    "print(mysum(2,3)) #5\n",
    "print(myprod(2,3)) #6\n",
    "```"
   ]
  },
  {
   "cell_type": "markdown",
   "metadata": {},
   "source": [
    "Altre informazioni su usi più avanzati di moduli e pacchetti possono essere reperite qui: https://docs.python.org/3/tutorial/modules.html."
   ]
  },
  {
   "cell_type": "code",
   "execution_count": 130,
   "metadata": {},
   "outputs": [],
   "source": [
    "import numpy as np #la notazione \"as\" ci permette di referenziare il namespace numpy semplicemente con np in futuro"
   ]
  },
  {
   "cell_type": "code",
   "execution_count": 131,
   "metadata": {},
   "outputs": [
    {
     "name": "stdout",
     "output_type": "stream",
     "text": [
      "List of lists: [[1, 2, 3], [4, 5, 2], [1, 8, 3]]\n",
      "Numpy array:\n",
      " [[1 2 3]\n",
      " [4 5 2]\n",
      " [1 8 3]]\n",
      "Numpy array from tuple:\n",
      " [[1 2 3]\n",
      " [4 5 6]]\n"
     ]
    }
   ],
   "source": [
    "l = [[1,2,3],[4,5,2],[1,8,3]] #una lista contenente tre liste\n",
    "print(\"List of lists:\",l) #viene visualizzata così come l'abbiamo definita\n",
    "a = np.array(l) #costruisco un array di numpy a partire dalla lista di liste\n",
    "print(\"Numpy array:\\n\",a) #ogni lista interna viene identificata come una riga di una matrice bidimensionale\n",
    "print(\"Numpy array from tuple:\\n\",np.array(((1,2,3),(4,5,6)))) #posso creare numpy array anche da tuple"
   ]
  },
  {
   "cell_type": "markdown",
   "metadata": {},
   "source": [
    "Ogni array di numpy ha una proprietà _shape_ che ci permette di determinare il numero di dimensioni della struttura:"
   ]
  },
  {
   "cell_type": "code",
   "execution_count": 132,
   "metadata": {},
   "outputs": [
    {
     "name": "stdout",
     "output_type": "stream",
     "text": [
      "(3, 3)\n"
     ]
    }
   ],
   "source": [
    "print(a.shape) #si tratta di una matrice 3 x 3"
   ]
  },
  {
   "cell_type": "markdown",
   "metadata": {},
   "source": [
    "Vediamo qualche altro esempio"
   ]
  },
  {
   "cell_type": "code",
   "execution_count": 133,
   "metadata": {},
   "outputs": [
    {
     "name": "stdout",
     "output_type": "stream",
     "text": [
      "Array: [1 2 3 4] (4,)\n",
      "Matrix:\n",
      " [[1 2 3 4]\n",
      " [5 4 2 3]\n",
      " [7 5 3 2]\n",
      " [0 2 3 1]] (4, 4)\n",
      "matrix:\n",
      " [[['1' '2' '3' '4']\n",
      "  ['a' 'b' 'c' 'd']]\n",
      "\n",
      " [['5' '4' '2' '3']\n",
      "  ['a' 'b' 'c' 'd']]\n",
      "\n",
      " [['7' '5' '3' '2']\n",
      "  ['a' 'b' 'c' 'd']]\n",
      "\n",
      " [['0' '2' '3' '1']\n",
      "  ['a' 'b' 'c' 'd']]] (4, 2, 4)\n"
     ]
    }
   ],
   "source": [
    "array = np.array([1,2,3,4]) \n",
    "matrice = np.array([[1,2,3,4],[5,4,2,3],[7,5,3,2],[0,2,3,1]]) \n",
    "tensore = np.array([[[1,2,3,4],['a','b','c','d']],[[5,4,2,3],['a','b','c','d']],[[7,5,3,2],['a','b','c','d']],[[0,2,3,1],['a','b','c','d']]]) \n",
    "print('Array:',array, array.shape) #array monodimensionale, avrà una sola dimensione\n",
    "print('Matrix:\\n',matrice, matrice.shape)\n",
    "print('matrix:\\n',tensore, tensore.shape) #tensore, avrà due dimensioni"
   ]
  },
  {
   "cell_type": "markdown",
   "metadata": {},
   "source": [
    "Vediamo qualche operazione tra numpy array:"
   ]
  },
  {
   "cell_type": "code",
   "execution_count": null,
   "metadata": {},
   "outputs": [
    {
     "name": "stdout",
     "output_type": "stream",
     "text": [
      "Sum: [ 5  5 11  5]\n",
      "Elementwise multiplication: [ 4  6 24  4]\n",
      "Power of two: [ 1  4  9 16]\n",
      "Elementwise power: [   1    8 6561    4]\n",
      "Vector product: 38\n",
      "Minimum: 1\n",
      "Maximum: 4\n",
      "Sum: 16\n",
      "Product: 96\n",
      "Mean: 2.5\n"
     ]
    }
   ],
   "source": [
    "a1 = np.array([1,2,3,4]) \n",
    "a2 = np.array([4,3,8,1]) \n",
    "print(\"Sum:\",a1+a2) #somma tra vettori\n",
    "print(\"Elementwise multiplication:\",a1*a2) #moltiplicazione tra elementi corrispondenti\n",
    "print(\"Power of two:\",a1**2) #quadrato degli elementi\n",
    "print(\"Elementwise power:\",a1**a2) #elevamento a potenza elemento per elemento\n",
    "print(\"Scalar product:\",a1.dot(a2)) #prodotto scalare tra vettori\n",
    "print(\"Minimum:\",a1.min()) #minimo dell'array\n",
    "print(\"Maximum:\",a1.max()) #massimo dell'array\n",
    "print(\"Sum:\",a2.sum()) #somma di tutti i valori dell'array\n",
    "print(\"Product:\",a2.prod()) #prodotto di tutti i valori dell'array\n",
    "print(\"Mean:\",a1.mean()) #media di tutti i valori dell'array"
   ]
  },
  {
   "cell_type": "markdown",
   "metadata": {},
   "source": [
    "Operazioni tra matrici:"
   ]
  },
  {
   "cell_type": "code",
   "execution_count": 135,
   "metadata": {},
   "outputs": [
    {
     "name": "stdout",
     "output_type": "stream",
     "text": [
      "Sum: [[ 9  4  4  8]\n",
      " [ 5  8  8  4]\n",
      " [11  9  5  2]\n",
      " [ 0  3 11  7]]\n",
      "Elementwise product:\n",
      " [[ 8  4  3 16]\n",
      " [ 0 16 12  3]\n",
      " [28 20  6  0]\n",
      " [ 0  2 24  6]]\n",
      "Power of two:\n",
      " [[ 1  4  9 16]\n",
      " [25 16  4  9]\n",
      " [49 25  9  4]\n",
      " [ 0  4  9  1]]\n",
      "Elementwise power:\n",
      " [[   1    4    3  256]\n",
      " [   1  256   64    3]\n",
      " [2401  625    9    1]\n",
      " [   1    2 6561    1]]\n",
      "Matrix multiplication:\n",
      " [[20 26 51 30]\n",
      " [48 37 57 42]\n",
      " [68 48 59 45]\n",
      " [12 21 26  8]]\n",
      "Minimum: 0\n",
      "Maximum: 7\n",
      "Minimum along columns: [0 2 2 1]\n",
      "Minimum along rows: [1 2 2 0]\n",
      "Sum: 47\n",
      "Mean: 2.9375\n",
      "Diagonal: [1 4 3 1]\n",
      "Transposed:\n",
      " [[1 5 7 0]\n",
      " [2 4 5 2]\n",
      " [3 2 3 3]\n",
      " [4 3 2 1]]\n"
     ]
    }
   ],
   "source": [
    "m1 = np.array([[1,2,3,4],[5,4,2,3],[7,5,3,2],[0,2,3,1]]) \n",
    "m2 = np.array([[8,2,1,4],[0,4,6,1],[4,4,2,0],[0,1,8,6]]) \n",
    "\n",
    "print(\"Sum:\",m1+m2) #somma tra matrici\n",
    "print(\"Elementwise product:\\n\",m1*m2) #prodotto elemento per elemento\n",
    "print(\"Power of two:\\n\",m1**2) #quadrato degli elementi\n",
    "print(\"Elementwise power:\\n\",m1**m2) #elevamento a potenza elemento per elemento\n",
    "print(\"Matrix multiplication:\\n\",m1.dot(m2)) #prodotto matriciale\n",
    "print(\"Minimum:\",m1.min()) #minimo\n",
    "print(\"Maximum:\",m1.max()) #massimo\n",
    "print(\"Minimum along columns:\",m1.min(0)) #minimo per colonne\n",
    "print(\"Minimum along rows:\",m1.min(1)) #minimo per righe\n",
    "print(\"Sum:\",m1.sum()) #somma dei valori\n",
    "print(\"Mean:\",m1.mean()) #valore medio\n",
    "print(\"Diagonal:\",m1.diagonal()) #diagonale principale della matrice\n",
    "print(\"Transposed:\\n\",m1.T) #matrice trasposta"
   ]
  },
  {
   "cell_type": "markdown",
   "metadata": {},
   "source": [
    "## Esercizi"
   ]
  },
  {
   "cell_type": "markdown",
   "metadata": {},
   "source": [
    "> Esercizio 1\n",
    "> \n",
    "> Definire la lista `[1,8,2,6,15,21,76,22,0,111,23,12,24]`, dunque:\n",
    "> * Stampare il primo numero della lista;\n",
    "> * Stampare l'ultimo numero della lista;\n",
    "> * Stampare la somma dei numeri con indici dispari (e.g., 1,3,5,...) nella lista;\n",
    "> * Stampare la lista ordinata in senso inverso;\n",
    "> * Stampare la media dei numeri contenuti nella lista."
   ]
  },
  {
   "cell_type": "markdown",
   "metadata": {},
   "source": [
    "> Esercizio 2\n",
    "> \n",
    "> Si definisca un dizionario `mesi` che mappi i nomi dei mesi nei loro corrispettivi numerici. Ad esempio, il risultato di:\n",
    "> ```python\n",
    "> print mesi['Gennaio']\n",
    "> ```\n",
    "> deve essere\n",
    "> ```python\n",
    "> 1\n",
    "> ```"
   ]
  },
  {
   "cell_type": "markdown",
   "metadata": {},
   "source": [
    "> Esercizio 3\n",
    "> \n",
    "> Si considerino le seguenti liste:\n",
    "> \n",
    "> ```python\n",
    "> l1 = [1,2,3]\n",
    "> l2 = [4,5,6]\n",
    "> l3 = [5,2,6]\n",
    "> ```\n",
    "> \n",
    "> Si combinino un ciclo for, **zip** e **enumerate** per ottenere il seguente output:\n",
    "> \n",
    "> ```\n",
    "> 0 -> 10\n",
    "> 1 -> 9\n",
    "> 2 -> 15\n",
    "> ```"
   ]
  },
  {
   "cell_type": "markdown",
   "metadata": {},
   "source": [
    "> Esercizio 4\n",
    "> \n",
    "> Si ripeta l'esercizio **2** utilizzando la comprensione di dizionari. A tale scopo, si definisca prima la lista `['Gennaio','Febbraio','Marzo','Aprile','Maggio','Giugno',`\n",
    "`'Luglio','Agosto','Settembre','Ottobre','Novembre','Dicembre']`. \n",
    "> \n",
    "> Si costruisca dunque il dizionario desiderato utilizzando la comprensione di dizionari e la funzione `enum`"
   ]
  },
  {
   "cell_type": "markdown",
   "metadata": {},
   "source": [
    "> Esercizio 5\n",
    "> \n",
    "> Date le variabili:\n",
    "> \n",
    "> ```python\n",
    "> obj='triangolo'\n",
    "> area=21.167822\n",
    "> ```\n",
    "> \n",
    "> stampare le stringhe:\n",
    "> * L'area del triangolo è 21.16\n",
    "> * 21.1678 è l'area del triangolo\n",
    "> \n",
    "> Utilizzare la formattazione di stringhe per ottenere il risultato."
   ]
  },
  {
   "cell_type": "markdown",
   "metadata": {},
   "source": [
    "> Esercizio 6\n",
    "> \n",
    "> Scrivere una funzione che estragga il dominio da un indirizzo email. Ad esempio, se l'indirizzo è \"furnari@dmi.unict.it\", la funzione deve estrarre \"dmi.unict.it\"."
   ]
  }
 ],
 "metadata": {
  "anaconda-cloud": {},
  "kernelspec": {
   "display_name": "Python 3",
   "language": "python",
   "name": "python3"
  },
  "language_info": {
   "codemirror_mode": {
    "name": "ipython",
    "version": 3
   },
   "file_extension": ".py",
   "mimetype": "text/x-python",
   "name": "python",
   "nbconvert_exporter": "python",
   "pygments_lexer": "ipython3",
   "version": "3.11.4"
  }
 },
 "nbformat": 4,
 "nbformat_minor": 1
}
